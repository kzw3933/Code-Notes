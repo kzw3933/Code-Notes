{
 "cells": [
  {
   "attachments": {},
   "cell_type": "markdown",
   "metadata": {},
   "source": [
    "## JavaScript数据结构及操作\n",
    "\n",
    "在编程中免不了要跟数据打交道，这包括处理数据属性、根据数据进行推演以及修改数据性质。"
   ]
  },
  {
   "attachments": {},
   "cell_type": "markdown",
   "metadata": {},
   "source": [
    "### 正则表达式\n",
    "\n",
    "正则表达式是一种表示匹配字符串模式的方法，表达式本身是由项和操作符组成的，它们使得我们定义这种模式。在JavaScript中创建正则表达式有两种方法: 通过正则表达式和构造RegExp对象的实例。正则表达式的`test()`方法根据模式是否匹配返回true或false，而`exec()`返回一个包含了所有匹配的数组。"
   ]
  },
  {
   "cell_type": "code",
   "execution_count": 1,
   "metadata": {},
   "outputs": [],
   "source": [
    "var pattern = /test/;  // 正则表达式使用斜杠作为分割符\n",
    "var pattern = new RegExp(\"test\");"
   ]
  },
  {
   "attachments": {},
   "cell_type": "markdown",
   "metadata": {},
   "source": [
    "除了正则表达式本身，还有三个标志可以配合使用。\n",
    "- i: 可以使正则表达式忽略大小写\n",
    "- g: 相较于只匹配模式的第一次出现，g标志可以匹配模式的所有实例\n",
    "- m: 可以使正则表达式跨越多行\n",
    "  \n"
   ]
  },
  {
   "cell_type": "code",
   "execution_count": 1,
   "metadata": {},
   "outputs": [
    {
     "name": "stdout",
     "output_type": "stream",
     "text": [
      "true\n",
      "true\n",
      "true\n"
     ]
    }
   ],
   "source": [
    "var pattern = /orange/;\n",
    "console.log(pattern.test(\"orange\"));\n",
    "var patternIngnoreCase = /orange/i;\n",
    "console.log(patternIngnoreCase.test(\"Orange\"));\n",
    "var patternGlobal = /orange/ig;\n",
    "console.log(patternGlobal.test(\"Orange Juice\"));"
   ]
  },
  {
   "attachments": {},
   "cell_type": "markdown",
   "metadata": {},
   "source": [
    "更详细的查阅相关资料。"
   ]
  },
  {
   "attachments": {},
   "cell_type": "markdown",
   "metadata": {},
   "source": [
    "### 数组\n",
    "\n",
    "数组是值的有序集合。可以使用名称和索引来引用数组元素。数组中元素的类型可以为任意类型。JavaScript在内部是将数组元素作为标准的对象属性来存储的，数组索引就是属性名。属性length总是比最后一个元素的索引值多1(索引从0开始)。"
   ]
  },
  {
   "attachments": {},
   "cell_type": "markdown",
   "metadata": {},
   "source": [
    "#### 1. 数组创建"
   ]
  },
  {
   "cell_type": "code",
   "execution_count": 3,
   "metadata": {},
   "outputs": [
    {
     "name": "stdout",
     "output_type": "stream",
     "text": [
      "[ 1, 2, 3, 4, 5 ]\n",
      "[ 1, 2, 3, 4 ]\n",
      "[ 1, 2, 3 ]\n"
     ]
    }
   ],
   "source": [
    "// 1. 通过字面量\n",
    "var arr = [1,2,3,4,5]\n",
    "console.log(arr);\n",
    "// 2. Array()构造函数\n",
    "var arr = new Array(1,2,3,4);\n",
    "console.log(arr);\n",
    "// 3. Array()函数\n",
    "var arr = Array(1,2,3);\n",
    "console.log(arr);"
   ]
  },
  {
   "attachments": {},
   "cell_type": "markdown",
   "metadata": {},
   "source": [
    "#### 2. 数组的length属性\n",
    "\n",
    "可以给数组的length属性赋值，如果赋予的值小于数组中的元素个数，数组就会被截断。赋值0会直接清空整个数组。"
   ]
  },
  {
   "attachments": {},
   "cell_type": "markdown",
   "metadata": {},
   "source": [
    "#### 3. 数组遍历\n",
    "\n",
    "可以使用循环针对索引进行迭代或者使用forEach()方法对每个元素进行迭代处理。"
   ]
  },
  {
   "cell_type": "code",
   "execution_count": 5,
   "metadata": {},
   "outputs": [
    {
     "name": "stdout",
     "output_type": "stream",
     "text": [
      "red\n",
      "green\n",
      "blue\n",
      "red\n",
      "green\n",
      "blue\n"
     ]
    }
   ],
   "source": [
    "var colors = [\"red\", \"green\", \"blue\"];\n",
    "for(var i=0; i<colors.length; i++) {\n",
    "    console.log(colors[i]);\n",
    "}\n",
    "colors.forEach(function(color) {\n",
    "    console.log(color);\n",
    "});"
   ]
  },
  {
   "attachments": {},
   "cell_type": "markdown",
   "metadata": {},
   "source": [
    "#### 4. Array对象常用的方法\n",
    "\n",
    "- concat(): 合并两个数组\n",
    "- join(): 将数组的所有元素合并成一个字符串\n",
    "- pop(): 删除最后一个元素并将其返回\n",
    "- push(): 在数组尾部添加一个或多个元素，并返回最终的数组长度\n",
    "- shift(): 删除数组的第一个元素并将其返回\n",
    "- unshift(): 在数组头部添加一个或多个元素并返回最终的数组的长度\n",
    "- reverse(): 反转数组元素\n",
    "- sort(): 对数组元素进行排序\n",
    "- indexOf(): 在数组中搜索给定的元素，返回第一次匹配的索引\n",
    "- lastIndexOf(): 在数组中反向搜索给定的元素，返回第一次匹配的索引"
   ]
  },
  {
   "cell_type": "code",
   "execution_count": 6,
   "metadata": {},
   "outputs": [
    {
     "name": "stdout",
     "output_type": "stream",
     "text": [
      "[ '33', '44', '55' ]\n",
      "[ '33', '44', '55', '3', '4', '5' ]\n"
     ]
    }
   ],
   "source": [
    "var myArray = [\"33\", \"44\", \"55\"];\n",
    "console.log(myArray);\n",
    "myArray = myArray.concat(\"3\", \"4\", \"5\");\n",
    "console.log(myArray);"
   ]
  },
  {
   "cell_type": "code",
   "execution_count": 7,
   "metadata": {},
   "outputs": [
    {
     "name": "stdout",
     "output_type": "stream",
     "text": [
      "33~44~55\n"
     ]
    }
   ],
   "source": [
    "var myArray = [\"33\", \"44\", \"55\"];\n",
    "var list = myArray.join(\"~\");\n",
    "console.log(list);"
   ]
  },
  {
   "cell_type": "code",
   "execution_count": 9,
   "metadata": {},
   "outputs": [
    {
     "name": "stdout",
     "output_type": "stream",
     "text": [
      "55\n",
      "[ '33', '44' ]\n"
     ]
    }
   ],
   "source": [
    "var myArray = [\"33\", \"44\", \"55\"];\n",
    "console.log(myArray.pop());\n",
    "console.log(myArray);"
   ]
  },
  {
   "cell_type": "code",
   "execution_count": 10,
   "metadata": {},
   "outputs": [
    {
     "name": "stdout",
     "output_type": "stream",
     "text": [
      "5\n",
      "[ '33', '44', '55', '66', '77' ]\n"
     ]
    }
   ],
   "source": [
    "var myArray = [\"33\", \"44\", \"55\"];\n",
    "console.log(myArray.push(\"66\", \"77\"));\n",
    "console.log(myArray);"
   ]
  },
  {
   "cell_type": "code",
   "execution_count": 11,
   "metadata": {},
   "outputs": [
    {
     "name": "stdout",
     "output_type": "stream",
     "text": [
      "33\n",
      "[ '44', '55' ]\n"
     ]
    }
   ],
   "source": [
    "var myArray = [\"33\", \"44\", \"55\"];\n",
    "console.log(myArray.shift());\n",
    "console.log(myArray);"
   ]
  },
  {
   "cell_type": "code",
   "execution_count": 12,
   "metadata": {},
   "outputs": [
    {
     "name": "stdout",
     "output_type": "stream",
     "text": [
      "5\n",
      "[ '11', '22', '33', '44', '55' ]\n"
     ]
    }
   ],
   "source": [
    "var myArray = [\"33\", \"44\", \"55\"];\n",
    "console.log(myArray.unshift(\"11\",\"22\"));\n",
    "console.log(myArray);"
   ]
  },
  {
   "cell_type": "code",
   "execution_count": 14,
   "metadata": {},
   "outputs": [
    {
     "name": "stdout",
     "output_type": "stream",
     "text": [
      "[ '55', '44', '33' ]\n",
      "[ '55', '44', '33' ]\n"
     ]
    }
   ],
   "source": [
    "var myArray = [\"33\", \"44\", \"55\"];\n",
    "console.log(myArray.reverse());\n",
    "console.log(myArray);"
   ]
  },
  {
   "cell_type": "code",
   "execution_count": 15,
   "metadata": {},
   "outputs": [
    {
     "name": "stdout",
     "output_type": "stream",
     "text": [
      "[ 'a', 'b', 'c' ]\n"
     ]
    }
   ],
   "source": [
    "myArray = [\"a\", \"c\", \"b\"];\n",
    "console.log(myArray.sort());"
   ]
  },
  {
   "cell_type": "code",
   "execution_count": 17,
   "metadata": {},
   "outputs": [
    {
     "name": "stdout",
     "output_type": "stream",
     "text": [
      "0\n",
      "3\n"
     ]
    }
   ],
   "source": [
    "myArray = [\"a\", \"c\", \"b\", \"a\"];\n",
    "console.log(myArray.indexOf(\"a\"));\n",
    "console.log(myArray.lastIndexOf(\"a\"));"
   ]
  },
  {
   "attachments": {},
   "cell_type": "markdown",
   "metadata": {},
   "source": [
    "### map\n",
    "\n",
    "map是一个简单的键值映射，可以依据元素的插入顺序进行迭代。"
   ]
  },
  {
   "cell_type": "code",
   "execution_count": 25,
   "metadata": {},
   "outputs": [
    {
     "name": "stdout",
     "output_type": "stream",
     "text": [
      "2\n",
      "undefined\n",
      "facebook founded by mark\n",
      "google founded by larry\n"
     ]
    }
   ],
   "source": [
    "var founders = new Map();\n",
    "founders.set(\"facebook\", \"mark\");\n",
    "founders.set(\"google\", \"larry\");\n",
    "console.log(founders.size);\n",
    "console.log(founders.get(\"twitter\"));\n",
    "\n",
    "for (var [key, value] of founders) {\n",
    "    console.log(key+\" founded by \"+value);\n",
    "}"
   ]
  },
  {
   "attachments": {},
   "cell_type": "markdown",
   "metadata": {},
   "source": [
    "### set\n",
    "\n",
    "set是值的集合，可以依据插入顺序进行迭代，set的一个重要特点就是其中的值只能出现一次。"
   ]
  },
  {
   "cell_type": "code",
   "execution_count": 24,
   "metadata": {},
   "outputs": [
    {
     "name": "stdout",
     "output_type": "stream",
     "text": [
      "true\n",
      "Set { 1 }\n",
      "1\n",
      "2\n",
      "3\n",
      "4\n"
     ]
    }
   ],
   "source": [
    "var mySet = new Set();\n",
    "mySet.add(1);\n",
    "mySet.add(\"hsds\");\n",
    "mySet.add(1);\n",
    "console.log(mySet.has(\"hsds\"));\n",
    "mySet.delete(\"hsds\");\n",
    "\n",
    "console.log(mySet);\n",
    "mySet.add(2);\n",
    "mySet.add(3);\n",
    "mySet.add(4);\n",
    "for (let item of mySet) {\n",
    "    console.log(item);\n",
    "}"
   ]
  },
  {
   "attachments": {},
   "cell_type": "markdown",
   "metadata": {},
   "source": [
    "### 编码风格\n",
    "\n",
    "- 使用字面量创建数组\n",
    "- 使用数组的push()方法添加数组元素，而不是选择直接赋值。"
   ]
  }
 ],
 "metadata": {
  "kernelspec": {
   "display_name": "JavaScript (Node.js)",
   "language": "javascript",
   "name": "javascript"
  },
  "language_info": {
   "file_extension": ".js",
   "mimetype": "application/javascript",
   "name": "javascript",
   "version": "10.19.0"
  },
  "orig_nbformat": 4
 },
 "nbformat": 4,
 "nbformat_minor": 2
}
