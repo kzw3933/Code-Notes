{
 "cells": [
  {
   "cell_type": "markdown",
   "id": "2c1d8427",
   "metadata": {},
   "source": [
    "## JavaScript入门\n",
    "\n",
    "  JavaScript是一种基于原型的脚本语言，支持动态类型和头等函数。JavaScript的大部分语法借鉴了Java，但同时也受到Awk,Perl,Python的影响。JavaScript区分大小写，并且不会受到空白字符的影响。"
   ]
  },
  {
   "cell_type": "markdown",
   "id": "8d9dfbc6",
   "metadata": {},
   "source": [
    "### JavaScript概览"
   ]
  },
  {
   "cell_type": "markdown",
   "id": "49628f2e",
   "metadata": {},
   "source": [
    "#### 1. 注释\n",
    "  \n",
    "  JavaScript允许单行或多行注释，但不允许嵌套"
   ]
  },
  {
   "cell_type": "code",
   "execution_count": 1,
   "id": "b89802fc",
   "metadata": {},
   "outputs": [
    {
     "ename": "SyntaxError",
     "evalue": "Invalid regular expression: missing /",
     "output_type": "error",
     "traceback": [
      "evalmachine.<anonymous>:7",
      "/* 你不能 /* 嵌套注释 */ SyntaxError */",
      "                               ^",
      "",
      "SyntaxError: Invalid regular expression: missing /",
      "    at new Script (vm.js:83:7)",
      "    at createScript (vm.js:277:10)",
      "    at Object.runInThisContext (vm.js:329:10)",
      "    at run ([eval]:1020:15)",
      "    at onRunRequest ([eval]:864:18)",
      "    at onMessage ([eval]:828:13)",
      "    at process.emit (events.js:198:13)",
      "    at emit (internal/child_process.js:832:12)",
      "    at process._tickCallback (internal/process/next_tick.js:63:19)"
     ]
    }
   ],
   "source": [
    "// 单行注释\n",
    "\n",
    "/* 这是一个更长的、\n",
    "    占据了多行的注释\n",
    "*/\n",
    "\n",
    "/* 你不能 /* 嵌套注释 */ SyntaxError */"
   ]
  },
  {
   "cell_type": "markdown",
   "id": "1a0b3779",
   "metadata": {},
   "source": [
    "#### 2. 变量\n",
    "\n",
    "  JavaScript的变量名必须以字母、下划线或是美元符开头，随后的字符可以包含数字,JavaScript中的新变量应该使用`var`声明，如果声明但没赋值，该变量的类型默认是未定义(Undefined),如果未使用var声明变量(但后续使用了),这种变量会成为隐式全局变量。"
   ]
  },
  {
   "cell_type": "code",
   "execution_count": 2,
   "id": "2f62aba9",
   "metadata": {},
   "outputs": [
    {
     "name": "stdout",
     "output_type": "stream",
     "text": [
      "0\n",
      "undefined\n",
      "NaN\n"
     ]
    },
    {
     "data": {
      "text/plain": [
       "undefined"
      ]
     },
     "execution_count": 2,
     "metadata": {},
     "output_type": "execute_result"
    }
   ],
   "source": [
    "var a; // 声明一个未定义的变量\n",
    "\n",
    "var b = 0;\n",
    "console.log(b);  // 0\n",
    "console.log(a); // Undefined\n",
    "console.log(a+b);  // NaN "
   ]
  },
  {
   "cell_type": "markdown",
   "id": "993303dd",
   "metadata": {},
   "source": [
    "#### 3. 常量\n",
    "\n",
    "  使用const创建只读的命名常量,不能通过赋值或重新声明来修改常量的值，常量必须被初始化为一个值。"
   ]
  },
  {
   "cell_type": "code",
   "execution_count": 5,
   "id": "8449581c",
   "metadata": {},
   "outputs": [
    {
     "data": {
      "text/plain": [
       "undefined"
      ]
     },
     "execution_count": 5,
     "metadata": {},
     "output_type": "execute_result"
    }
   ],
   "source": [
    "const area_code = \"515\";"
   ]
  },
  {
   "cell_type": "markdown",
   "id": "401a8421",
   "metadata": {},
   "source": [
    "#### 4. Number\n",
    "\n",
    "  Number类型能够描述32位整数和64位浮点数的值。其实，JavaScript中不存在整数，它使用64位浮点数来描述整数。"
   ]
  },
  {
   "cell_type": "code",
   "execution_count": 6,
   "id": "48725593",
   "metadata": {},
   "outputs": [
    {
     "data": {
      "text/plain": [
       "undefined"
      ]
     },
     "execution_count": 6,
     "metadata": {},
     "output_type": "execute_result"
    }
   ],
   "source": [
    "var aNumber = 555;\n",
    "\n",
    "var aFloat = 555.0;"
   ]
  },
  {
   "cell_type": "markdown",
   "id": "7f755d02",
   "metadata": {},
   "source": [
    "有几个特殊的值也是Number类型的一部分，头两个是Number.MAX_VALUE,Number.MIN_VALUE,它们定义了Number类型值的上下边界,如果出现不在这范围中的数,大于的结果被赋值以Number.POSITIVE_INFINITY,小于的解果被赋值为Number.NEGATIVE_INFINITY,同样表示非数字值.无穷无法参与后续的运算。"
   ]
  },
  {
   "cell_type": "code",
   "execution_count": 9,
   "id": "d87c06a1",
   "metadata": {},
   "outputs": [
    {
     "name": "stdout",
     "output_type": "stream",
     "text": [
      "1.7976931348623157e+308\n",
      "5e-324\n",
      "-100\n"
     ]
    },
    {
     "data": {
      "text/plain": [
       "undefined"
      ]
     },
     "execution_count": 9,
     "metadata": {},
     "output_type": "execute_result"
    }
   ],
   "source": [
    "console.log(Number.MAX_VALUE);\n",
    "console.log(Number.MIN_VALUE);\n",
    "console.log(Number.MIN_VALUE - 100);"
   ]
  },
  {
   "cell_type": "markdown",
   "id": "88f1cf74",
   "metadata": {},
   "source": [
    "JavaScript的另一个特殊之处在于一个NaN的特殊值，一般来说，这个值会出现在类型转换失败的时候。如果NaN出现在数学运算中的任何一部分，结果都会变成NaN。"
   ]
  },
  {
   "cell_type": "code",
   "execution_count": 15,
   "id": "ab552be8",
   "metadata": {},
   "outputs": [
    {
     "data": {
      "text/plain": [
       "true"
      ]
     },
     "execution_count": 15,
     "metadata": {},
     "output_type": "execute_result"
    }
   ],
   "source": [
    "isNaN(NaN);"
   ]
  },
  {
   "cell_type": "code",
   "execution_count": 12,
   "id": "8ac95db4",
   "metadata": {},
   "outputs": [
    {
     "data": {
      "text/plain": [
       "false"
      ]
     },
     "execution_count": 12,
     "metadata": {},
     "output_type": "execute_result"
    }
   ],
   "source": [
    "NaN == NaN;"
   ]
  },
  {
   "cell_type": "code",
   "execution_count": 13,
   "id": "daeb4f37",
   "metadata": {},
   "outputs": [
    {
     "data": {
      "text/plain": [
       "true"
      ]
     },
     "execution_count": 13,
     "metadata": {},
     "output_type": "execute_result"
    }
   ],
   "source": [
    "isNaN(\"elephant\");"
   ]
  },
  {
   "cell_type": "code",
   "execution_count": 14,
   "id": "081beee2",
   "metadata": {},
   "outputs": [
    {
     "data": {
      "text/plain": [
       "NaN"
      ]
     },
     "execution_count": 14,
     "metadata": {},
     "output_type": "execute_result"
    }
   ],
   "source": [
    "NaN+5;"
   ]
  },
  {
   "cell_type": "markdown",
   "id": "6a507fd9",
   "metadata": {},
   "source": [
    "对于高级数学运算，可以使用Math全局对象及其方法。"
   ]
  },
  {
   "cell_type": "code",
   "execution_count": 16,
   "id": "17a24e08",
   "metadata": {},
   "outputs": [
    {
     "data": {
      "text/plain": [
       "1.4142135623730951"
      ]
     },
     "execution_count": 16,
     "metadata": {},
     "output_type": "execute_result"
    }
   ],
   "source": [
    "Math.E;\n",
    "Math.SQRT2;"
   ]
  },
  {
   "cell_type": "code",
   "execution_count": 17,
   "id": "4da85b71",
   "metadata": {},
   "outputs": [
    {
     "data": {
      "text/plain": [
       "8"
      ]
     },
     "execution_count": 17,
     "metadata": {},
     "output_type": "execute_result"
    }
   ],
   "source": [
    "Math.abs(-900);\n",
    "Math.pow(2,3);"
   ]
  },
  {
   "cell_type": "markdown",
   "id": "2ebbfa58",
   "metadata": {},
   "source": [
    "可以使用parseInt()和parseFloat()方法把字符串表达式转换成整数或浮点数。"
   ]
  },
  {
   "cell_type": "code",
   "execution_count": 19,
   "id": "9f2b1bea",
   "metadata": {},
   "outputs": [
    {
     "data": {
      "text/plain": [
       "2"
      ]
     },
     "execution_count": 19,
     "metadata": {},
     "output_type": "execute_result"
    }
   ],
   "source": [
    "parseInt(\"230\",10);\n",
    "parseInt(\"010\",10);\n",
    "parseInt(\"010\",8);\n",
    "parseInt(\"010\",2);"
   ]
  },
  {
   "cell_type": "code",
   "execution_count": 20,
   "id": "7588c0ef",
   "metadata": {},
   "outputs": [
    {
     "name": "stdout",
     "output_type": "stream",
     "text": [
      "handle not a number case\n"
     ]
    },
    {
     "data": {
      "text/plain": [
       "undefined"
      ]
     },
     "execution_count": 20,
     "metadata": {},
     "output_type": "execute_result"
    }
   ],
   "source": [
    "var underminedValue = \"elephant\";\n",
    "if(isNaN(parseInt(underminedValue, 2))) {\n",
    "        console.log(\"handle not a number case\");\n",
    "}\n",
    "else {\n",
    "        console.log(\"handle number case\");\n",
    "}"
   ]
  },
  {
   "cell_type": "markdown",
   "id": "f4c3e246",
   "metadata": {},
   "source": [
    "#### 5. 字符串\n",
    "\n",
    "在JavaScript中，字符串是一个Unicode字符序列(每个字符占16位)。字符串中的字符可以按索引访问,第一个索引为0。字符串包含在`'`或`\"`中"
   ]
  },
  {
   "cell_type": "markdown",
   "id": "c29f3aab",
   "metadata": {},
   "source": [
    "JavaScript字符串默认支持特殊字符以及Unicode字符"
   ]
  },
  {
   "cell_type": "code",
   "execution_count": 1,
   "id": "2643960d",
   "metadata": {},
   "outputs": [
    {
     "data": {
      "text/plain": [
       "'©'"
      ]
     },
     "execution_count": 1,
     "metadata": {},
     "output_type": "execute_result"
    }
   ],
   "source": [
    "'\\xA9'"
   ]
  },
  {
   "cell_type": "code",
   "execution_count": 2,
   "id": "8a7fc492",
   "metadata": {},
   "outputs": [
    {
     "data": {
      "text/plain": [
       "'©'"
      ]
     },
     "execution_count": 2,
     "metadata": {},
     "output_type": "execute_result"
    }
   ],
   "source": [
    "'\\u00A9'"
   ]
  },
  {
   "cell_type": "markdown",
   "id": "8e3c9152",
   "metadata": {},
   "source": [
    "就JavaScript中的String、Number、Boolean类型而言，重要的是要知道它们都可以通过包装其原始值而形成对应的包装对象(wrapper object)"
   ]
  },
  {
   "cell_type": "code",
   "execution_count": 6,
   "id": "90e28c0b",
   "metadata": {},
   "outputs": [
    {
     "name": "stdout",
     "output_type": "stream",
     "text": [
      "[String: 'dummy']\n",
      "object\n",
      "string\n",
      "object\n",
      "5\n",
      "H\n",
      "e\n",
      "1\n",
      "2\n",
      "3\n",
      "true\n",
      "true\n",
      "false\n",
      "[ 'Hello', 'World' ]\n",
      "[ 'H', 'e', 'l', 'l', 'o', ' ', 'W', 'o', 'r', 'l', 'd' ]\n",
      "LOWERCASESTRING\n",
      "uppercasestring\n",
      "There are no spaces in the end\n"
     ]
    },
    {
     "data": {
      "text/plain": [
       "undefined"
      ]
     },
     "execution_count": 6,
     "metadata": {},
     "output_type": "execute_result"
    }
   ],
   "source": [
    "var s = new String(\"dummy\");  //创建一个String对象\n",
    "console.log(s); // \"dummy\"\n",
    "console.log(typeof s); // \"object\"\n",
    "var nonObject = \"1\" + \"2\";\n",
    "console.log(typeof nonObject); // \"string\"\n",
    "var objString = new String(\"1\"+\"2\");\n",
    "console.log(typeof objString); // \"object\"\n",
    "\n",
    "// 工具函数\n",
    "console.log(\"Hello\".length); // 5\n",
    "console.log(\"Hello\".charAt(0)); // 'H'\n",
    "console.log(\"Hello\".charAt(1));  // 'e'\n",
    "console.log(\"Hello\".indexOf(\"e\")); // 1\n",
    "console.log(\"Hello\".indexOf(\"l\")); // 2\n",
    "console.log(\"Hello\".lastIndexOf(\"l\")); // 3\n",
    "console.log(\"Hello\".startsWith(\"H\")); //true\n",
    "console.log(\"Hello\".endsWith(\"o\")); //true\n",
    "console.log(\"Hello\".includes(\"X\")); //false\n",
    "var splitStringByWords = \"Hello World\".split(' '); \n",
    "console.log(splitStringByWords);  // [\"Hello\",\"World\"]\n",
    "var splitStringByChars = \"Hello World\".split(''); \n",
    "console.log(splitStringByChars); // [\"H\", \"e\", \"l\",\"l\",\"o\",\" \",\"W\", \"o\",\"r\",\"l\",\"d\"]\n",
    "console.log(\"lowercasestring\".toUpperCase()); // LOWERCASESTRING\n",
    "console.log(\"UPPERCASESTRING\".toLowerCase()); // uppercasestring\n",
    "console.log(\"There are no spaces in the end      \".trim());//\"There are no spaces in the end\""
   ]
  },
  {
   "cell_type": "markdown",
   "id": "164524c9",
   "metadata": {},
   "source": [
    "JavaScript中可以使用 \\` 字符包围形成多行字符串,这种字符串也成为模板字符串，可用于插值。"
   ]
  },
  {
   "cell_type": "code",
   "execution_count": 10,
   "id": "ea05469d",
   "metadata": {},
   "outputs": [
    {
     "name": "stdout",
     "output_type": "stream",
     "text": [
      "ashdakssed\n",
      "szdnhfcksdvlwd\n",
      "  ascnsdkc\n",
      "Sum of values is :3 and multiplication is :2\n",
      "Sum of values is :3 and multiplication is :2\n"
     ]
    },
    {
     "data": {
      "text/plain": [
       "undefined"
      ]
     },
     "execution_count": 10,
     "metadata": {},
     "output_type": "execute_result"
    }
   ],
   "source": [
    "console.log(`ashdakssed\n",
    "szdnhfcksdvlwd\n",
    "  ascnsdkc`);\n",
    "\n",
    "var a=1;\n",
    "var b=2;\n",
    "console.log(\"Sum of values is :\"+(a+b)+\" and multiplication is :\"+(a*b));\n",
    "console.log(`Sum of values is :${a+b} and multiplication is :${a*b}`);"
   ]
  },
  {
   "cell_type": "markdown",
   "id": "530ba8fc",
   "metadata": {},
   "source": [
    "#### 6. Undefined\n",
    "\n",
    "JavaScript中使用两个值来表示不存在有意义的值:`null`和`undefined`。前者表明无值，是有意为之，后者表示变量尚未赋值。"
   ]
  },
  {
   "cell_type": "code",
   "execution_count": 11,
   "id": "449c6522",
   "metadata": {},
   "outputs": [
    {
     "name": "stdout",
     "output_type": "stream",
     "text": [
      "undefined\n",
      "true\n"
     ]
    },
    {
     "data": {
      "text/plain": [
       "undefined"
      ]
     },
     "execution_count": 11,
     "metadata": {},
     "output_type": "execute_result"
    }
   ],
   "source": [
    "var x1;\n",
    "console.log(typeof x1);\n",
    "console.log(null==undefined);"
   ]
  },
  {
   "cell_type": "markdown",
   "id": "77ce089d",
   "metadata": {},
   "source": [
    "#### 7. Boolean\n",
    "\n",
    "  JavaScript中Boolean类型的原始类型的初始值是由关键字true和false描述的。\n",
    "  - false、0、空串(\"\")、NaN、null和Undefined都被视为false\n",
    "  - 其他的都被视为true"
   ]
  },
  {
   "cell_type": "markdown",
   "id": "722a411f",
   "metadata": {},
   "source": [
    "在JavaScript中有两种方式可以创建Boolean类型的值: 1. 将字面值true和false赋给变量 2. 使用Boolean()函数，这是一个普通函数。"
   ]
  },
  {
   "cell_type": "code",
   "execution_count": 12,
   "id": "db7321d3",
   "metadata": {},
   "outputs": [
    {
     "data": {
      "text/plain": [
       "undefined"
      ]
     },
     "execution_count": 12,
     "metadata": {},
     "output_type": "execute_result"
    }
   ],
   "source": [
    "var pBooleanTrue = true;\n",
    "var pBooleanFalse = false;"
   ]
  },
  {
   "cell_type": "code",
   "execution_count": 13,
   "id": "350f7bc4",
   "metadata": {},
   "outputs": [
    {
     "data": {
      "text/plain": [
       "undefined"
      ]
     },
     "execution_count": 13,
     "metadata": {},
     "output_type": "execute_result"
    }
   ],
   "source": [
    "var fBooleanTrue = Boolean(true);\n",
    "var FBooleanFalse = Boolean(false);"
   ]
  },
  {
   "cell_type": "markdown",
   "id": "0ec2f819",
   "metadata": {},
   "source": [
    "需要注意的是，当使用new操作符和Boolean(value)构造函数，得到的是一个对象，且JavaSCript将对象视为真。"
   ]
  },
  {
   "cell_type": "code",
   "execution_count": 15,
   "id": "237dab32",
   "metadata": {},
   "outputs": [
    {
     "name": "stdout",
     "output_type": "stream",
     "text": [
      "[Boolean: true]\n",
      "[Boolean: false]\n",
      "Both are true\n"
     ]
    },
    {
     "data": {
      "text/plain": [
       "undefined"
      ]
     },
     "execution_count": 15,
     "metadata": {},
     "output_type": "execute_result"
    }
   ],
   "source": [
    "var oBooleanTrue = new Boolean(true);\n",
    "console.log(oBooleanTrue);\n",
    "var oBooleanFalse = new Boolean(false);\n",
    "console.log(oBooleanFalse);\n",
    "if(oBooleanTrue && oBooleanFalse) {\n",
    "    console.log(\"Both are true\");\n",
    "} else {\n",
    "    console.log(\"Not both is true\");\n",
    "}"
   ]
  },
  {
   "cell_type": "markdown",
   "id": "7b0bca23",
   "metadata": {},
   "source": [
    "#### 8. instanceof操作符\n",
    "\n",
    "使用引用类型存储值的一个问题是typeof操作符，不管引用的是什么类型的对象，该操作符返回的都是object。可以使用instanceof操作符解决这个问题。"
   ]
  },
  {
   "cell_type": "code",
   "execution_count": 16,
   "id": "8301215d",
   "metadata": {},
   "outputs": [
    {
     "name": "stdout",
     "output_type": "stream",
     "text": [
      "object\n",
      "true\n",
      "false\n"
     ]
    },
    {
     "data": {
      "text/plain": [
       "undefined"
      ]
     },
     "execution_count": 16,
     "metadata": {},
     "output_type": "execute_result"
    }
   ],
   "source": [
    "var aStringObject = new String(\"sndksc\");\n",
    "console.log(typeof aStringObject);\n",
    "console.log(aStringObject instanceof String);\n",
    "var aString = \"sdjslr\";\n",
    "console.log(aString instanceof String);"
   ]
  },
  {
   "cell_type": "markdown",
   "id": "6515bd80",
   "metadata": {},
   "source": [
    "#### 9. Date对象"
   ]
  },
  {
   "cell_type": "markdown",
   "id": "62a341d4",
   "metadata": {},
   "source": [
    "在JavaScript中日期被存储为自1970年1月1日00：00：00起的毫秒数,可以使用以下声明创建一个Date对象: `var dateObject = new Date([parameters]);`\n",
    "关于构造函数的参数说明如下:\n",
    "- 不提供参数: 创建的是当前的日期和时间\n",
    "- 描述日期的字符串: 形如Month day, year hours:minutes:seconds\n",
    "- 一组表示年、月、日的整数\n",
    "- 一组表示年、月、日、时、分、秒的整数"
   ]
  },
  {
   "cell_type": "code",
   "execution_count": 39,
   "id": "81df8dbd",
   "metadata": {},
   "outputs": [
    {
     "name": "stdout",
     "output_type": "stream",
     "text": [
      "2023-03-04T15:16:30.144Z\n",
      "2015-12-12T15:59:59.000Z\n",
      "2016-01-02T16:00:00.000Z\n",
      "2015-12-25T13:00:00.000Z\n"
     ]
    },
    {
     "data": {
      "text/plain": [
       "undefined"
      ]
     },
     "execution_count": 39,
     "metadata": {},
     "output_type": "execute_result"
    }
   ],
   "source": [
    "var date1 = new Date();\n",
    "console.log(date1);\n",
    "\n",
    "var date2 = new Date(\"December 12,2015 23:59:59\");\n",
    "console.log(date2);\n",
    "\n",
    "var date3 = new Date(2015,12,3);\n",
    "console.log(date3);\n",
    "\n",
    "var date4 = new Date(2015,11,25,21,00,00);\n",
    "console.log(date4);"
   ]
  },
  {
   "cell_type": "markdown",
   "id": "f93b4ade",
   "metadata": {},
   "source": [
    "#### 10. +操作符\n",
    "\n",
    "当用作单目操作符时,+操作符不会对Number类型产生影响,但如果应用在字符串类型上，会将其转换成数字。"
   ]
  },
  {
   "cell_type": "code",
   "execution_count": 19,
   "id": "05d09de1",
   "metadata": {},
   "outputs": [
    {
     "name": "stdout",
     "output_type": "stream",
     "text": [
      "25\n",
      "string\n",
      "70\n",
      "number\n"
     ]
    },
    {
     "data": {
      "text/plain": [
       "undefined"
      ]
     },
     "execution_count": 19,
     "metadata": {},
     "output_type": "execute_result"
    }
   ],
   "source": [
    "var a=25;\n",
    "a = +a;\n",
    "console.log(a); // 25\n",
    "\n",
    "var b = \"70\";\n",
    "console.log(typeof b); // string\n",
    "b = +b; // 70\n",
    "console.log(b);\n",
    "console.log(typeof b); // number"
   ]
  },
  {
   "cell_type": "markdown",
   "id": "73b7f4ee",
   "metadata": {},
   "source": [
    "如果字符串字面量无法转换成数字，结果会有些出人意料。"
   ]
  },
  {
   "cell_type": "code",
   "execution_count": 20,
   "id": "6f70d203",
   "metadata": {},
   "outputs": [
    {
     "name": "stdout",
     "output_type": "stream",
     "text": [
      "NaN\n",
      "number\n",
      "0\n",
      "number\n"
     ]
    },
    {
     "data": {
      "text/plain": [
       "undefined"
      ]
     },
     "execution_count": 20,
     "metadata": {},
     "output_type": "execute_result"
    }
   ],
   "source": [
    "var c=\"foo\";\n",
    "c=+c;\n",
    "console.log(c);\n",
    "console.log(typeof c);\n",
    "\n",
    "var zero=\"\";\n",
    "var zero = +zero;\n",
    "console.log(zero);\n",
    "console.log(typeof zero);"
   ]
  },
  {
   "cell_type": "markdown",
   "id": "65fcb63b",
   "metadata": {},
   "source": [
    "#### 11. ++和--操作符"
   ]
  },
  {
   "cell_type": "code",
   "execution_count": 21,
   "id": "f688167a",
   "metadata": {},
   "outputs": [
    {
     "name": "stdout",
     "output_type": "stream",
     "text": [
      "2\n",
      "1\n"
     ]
    },
    {
     "data": {
      "text/plain": [
       "undefined"
      ]
     },
     "execution_count": 21,
     "metadata": {},
     "output_type": "execute_result"
    }
   ],
   "source": [
    "var a=1;\n",
    "var b= a++;\n",
    "console.log(a);\n",
    "console.log(b);"
   ]
  },
  {
   "cell_type": "code",
   "execution_count": 22,
   "id": "4288ac42",
   "metadata": {},
   "outputs": [
    {
     "name": "stdout",
     "output_type": "stream",
     "text": [
      "2\n",
      "2\n"
     ]
    },
    {
     "data": {
      "text/plain": [
       "undefined"
      ]
     },
     "execution_count": 22,
     "metadata": {},
     "output_type": "execute_result"
    }
   ],
   "source": [
    "var a=1;\n",
    "var b= ++a;\n",
    "console.log(a);\n",
    "console.log(b);"
   ]
  },
  {
   "cell_type": "markdown",
   "id": "8fcdd452",
   "metadata": {},
   "source": [
    "很多程序员喜欢使用链式赋值的方式将一个值赋给多个变量。"
   ]
  },
  {
   "cell_type": "code",
   "execution_count": 23,
   "id": "3cc92dab",
   "metadata": {},
   "outputs": [
    {
     "data": {
      "text/plain": [
       "0"
      ]
     },
     "execution_count": 23,
     "metadata": {},
     "output_type": "execute_result"
    }
   ],
   "source": [
    "var a,b,c;\n",
    "a=b=c=0;"
   ]
  },
  {
   "cell_type": "markdown",
   "id": "c6af17d0",
   "metadata": {},
   "source": [
    "但需要注意的是，如果调整一下顺序就会出现一个问题。"
   ]
  },
  {
   "cell_type": "code",
   "execution_count": 25,
   "id": "51b61fdc",
   "metadata": {},
   "outputs": [
    {
     "name": "stdout",
     "output_type": "stream",
     "text": [
      "0\n",
      "0\n"
     ]
    },
    {
     "data": {
      "text/plain": [
       "undefined"
      ]
     },
     "execution_count": 25,
     "metadata": {},
     "output_type": "execute_result"
    }
   ],
   "source": [
    "var a=b=0; // 此时b未定义成为全局隐式变量\n",
    "console.log(a);\n",
    "console.log(b);"
   ]
  },
  {
   "cell_type": "markdown",
   "id": "c9220aef",
   "metadata": {},
   "source": [
    "#### 12. 布尔操作符"
   ]
  },
  {
   "cell_type": "markdown",
   "id": "3e1004c2",
   "metadata": {},
   "source": [
    "逻辑与(&&): 如果第一个数为假，则它返回该操作数；如果为真，则返回第二个数。"
   ]
  },
  {
   "cell_type": "code",
   "execution_count": 27,
   "id": "dcbafbb3",
   "metadata": {},
   "outputs": [
    {
     "name": "stdout",
     "output_type": "stream",
     "text": [
      "0\n",
      "null\n",
      "Bar\n"
     ]
    },
    {
     "data": {
      "text/plain": [
       "undefined"
      ]
     },
     "execution_count": 27,
     "metadata": {},
     "output_type": "execute_result"
    }
   ],
   "source": [
    "console.log(0 && \"Foo\");\n",
    "console.log(null && \"Foo\");\n",
    "console.log(\"Foo\" && \"Bar\");"
   ]
  },
  {
   "cell_type": "markdown",
   "id": "8de47476",
   "metadata": {},
   "source": [
    "逻辑或(||): 如果第一个数为真，则它返回该操作数；如果为假，则返回第二个数。"
   ]
  },
  {
   "cell_type": "code",
   "execution_count": 29,
   "id": "85607958",
   "metadata": {},
   "outputs": [
    {
     "name": "stdout",
     "output_type": "stream",
     "text": [
      "Foo\n",
      "Foo\n",
      "null\n",
      "Hello Johnson\n",
      "Hello John\n"
     ]
    },
    {
     "data": {
      "text/plain": [
       "undefined"
      ]
     },
     "execution_count": 29,
     "metadata": {},
     "output_type": "execute_result"
    }
   ],
   "source": [
    "console.log(0 || \"Foo\");\n",
    "console.log(\"Foo\" || \"Bar\");\n",
    "console.log(0 || null);\n",
    "\n",
    "function greeting(name) {\n",
    "    name = name || \"John\";\n",
    "    console.log(\"Hello \"+name);\n",
    "}\n",
    "\n",
    "greeting(\"Johnson\");\n",
    "greeting();"
   ]
  },
  {
   "cell_type": "markdown",
   "id": "9a4c9315",
   "metadata": {},
   "source": [
    "逻辑非(!): 总是返回一个Boolean类型的值"
   ]
  },
  {
   "cell_type": "code",
   "execution_count": 30,
   "id": "dcb35d95",
   "metadata": {},
   "outputs": [
    {
     "name": "stdout",
     "output_type": "stream",
     "text": [
      "false\n"
     ]
    },
    {
     "data": {
      "text/plain": [
       "undefined"
      ]
     },
     "execution_count": 30,
     "metadata": {},
     "output_type": "execute_result"
    }
   ],
   "source": [
    "var s = new String(\"sdjlsd\");\n",
    "console.log(!s);"
   ]
  },
  {
   "cell_type": "markdown",
   "id": "4c79b9ba",
   "metadata": {},
   "source": [
    "#### 13. 控制流\n",
    "\n",
    "与C语言一样，JavaScript支持if-else条件语句，switch-case语句，while循环、do-while循环和for循环并且语法一致。"
   ]
  },
  {
   "cell_type": "markdown",
   "id": "daaadca4",
   "metadata": {},
   "source": [
    "#### 14. 相等\n",
    "\n",
    "JavaScript提供两种相等关系: 严格相等和非严格相等。从根本上来说，在比较两个值时，非严格相等会进行类型转换，而严格相等不进行类型转换。可使用`===`做严格相等比较，使用`==`做非严格相等比较。"
   ]
  },
  {
   "cell_type": "markdown",
   "id": "7db25088",
   "metadata": {},
   "source": [
    "### JavaScript类型"
   ]
  },
  {
   "cell_type": "markdown",
   "id": "048998f4",
   "metadata": {},
   "source": [
    "- Number(数值)\n",
    "- String(字符串)\n",
    "- Boolean(布尔)\n",
    "- Symbol(ES6新类型,符号)\n",
    "- Object(对象)\n",
    "    - Function(函数)\n",
    "    - Array(数组)\n",
    "    - Date(日期)\n",
    "    - RegExp(正则表达式)\n",
    "- Null(空)\n",
    "- Undefined(未定义)"
   ]
  },
  {
   "cell_type": "markdown",
   "id": "929d2dc5",
   "metadata": {},
   "source": [
    "在JavaScript中值有类型，变量没有。尽管JavaScript并没有传统定义上的类型，但是有必要搞清楚JavaScript在内部如何处理数据类型并做强制类型转换的。"
   ]
  },
  {
   "cell_type": "markdown",
   "id": "ea99dec4",
   "metadata": {},
   "source": [
    "将值从一种类型转换成另一种类型叫做类型转换或显示类型转换,JavaScript也会基于某些猜测来更改值的类型，这叫做隐式类型转换。JavaScript是如何将一个抽象值变成字符串、数字或者布尔值的呢?其实JavaScript在内部依靠toString(),toNumber(),toBoolean()来实现这一切。"
   ]
  },
  {
   "cell_type": "code",
   "execution_count": 31,
   "id": "9dcf3579",
   "metadata": {},
   "outputs": [
    {
     "name": "stdout",
     "output_type": "stream",
     "text": [
      "number\n",
      "string\n",
      "string\n",
      "null\n"
     ]
    },
    {
     "data": {
      "text/plain": [
       "undefined"
      ]
     },
     "execution_count": 31,
     "metadata": {},
     "output_type": "execute_result"
    }
   ],
   "source": [
    "var t=1;\n",
    "var u=\"\"+t; // 隐式\n",
    "console.log(typeof t);\n",
    "console.log(typeof u);\n",
    "\n",
    "var v = String(t); // 显式\n",
    "console.log(typeof v); \n",
    "\n",
    "var x = null;\n",
    "console.log(\"\"+x);"
   ]
  },
  {
   "cell_type": "markdown",
   "id": "a0ed607f",
   "metadata": {},
   "source": [
    "JavaScript默认会将原始值包裹起来形成包装对象，这样我们就可以直接访问这些包装对象，就好像这些方法和属性是原始值自带的一样。"
   ]
  },
  {
   "cell_type": "code",
   "execution_count": 32,
   "id": "5bb2212e",
   "metadata": {},
   "outputs": [
    {
     "name": "stdout",
     "output_type": "stream",
     "text": [
      "3\n",
      "ABC\n"
     ]
    },
    {
     "data": {
      "text/plain": [
       "undefined"
      ]
     },
     "execution_count": 32,
     "metadata": {},
     "output_type": "execute_result"
    }
   ],
   "source": [
    "var a=\"abc\";\n",
    "console.log(a.length);\n",
    "console.log(a.toUpperCase());"
   ]
  },
  {
   "cell_type": "markdown",
   "id": "c226144f",
   "metadata": {},
   "source": [
    "### 自动插入分号\n",
    "\n",
    "这并不代表JavaScript中就不需要分号,JavaScript语言解析器需要分好来理解源代码。因此，解析器在遇到由于缺失分号而导致的解析错误时会自动插入分号。重要的是自动插入分号(ASI)只在换行符的时候才发生。分号不会插入到一行代码的中间。基本来说，如果JavaScript解析器在解析某一行时的时候出现了解析错误，而且可以插入分号，那它就会这样做。插入的标准是：仅当某些语句的结尾和换行符之间只有空白字符或注释的时候，才会插入分号。"
   ]
  },
  {
   "cell_type": "markdown",
   "id": "3d422f01",
   "metadata": {},
   "source": [
    "### JavaScript代码风格指南"
   ]
  },
  {
   "cell_type": "markdown",
   "id": "ed305a04",
   "metadata": {},
   "source": [
    "- 空白字符: 不要混用空格和制表符\n",
    "- 括号、换行符和大括号: 在if、else、while和try中坚持使用空格和大括号，并将这些语句分布在多行\n",
    "- 引号: 不要在同一个项目中混用两种引号\n",
    "- 行尾和空行: 空白字符会使得代码的差异与变更无法辨识，很多编辑器允许自动移除多余的空行及行尾字符\n",
    "- 类型检查\n",
    "- 类型转换: 在语句的一开始就执行强制类型转换\n",
    "- 条件求值\n",
    "- 命名: 对于对象、函数、实例使用驼峰命名法；对于构造函数和类使用Pascal命名法，命名私有属性时在名字前加上下划线\n",
    "- 邪恶的eval\n",
    "- 严格模式\n",
    "- 运行JSHint"
   ]
  }
 ],
 "metadata": {
  "kernelspec": {
   "display_name": "JavaScript (Node.js)",
   "language": "javascript",
   "name": "javascript"
  },
  "language_info": {
   "file_extension": ".js",
   "mimetype": "application/javascript",
   "name": "javascript",
   "version": "10.19.0"
  }
 },
 "nbformat": 4,
 "nbformat_minor": 5
}
