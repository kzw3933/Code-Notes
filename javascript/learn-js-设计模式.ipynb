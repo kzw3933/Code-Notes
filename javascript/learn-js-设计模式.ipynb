{
 "cells": [
  {
   "attachments": {},
   "cell_type": "markdown",
   "metadata": {},
   "source": [
    "## JavaScript设计模式\n",
    "\n",
    "在开发大型系统时，会遇到一些重复出现的问题，模式就是为这种已知且明晰的问题提供标准化解决方案的。可以将模式视为一种最佳实践、一种有价值的抽象或是一种解决常见问题的模板。\n",
    "设计模式为何如此重要:\n",
    "- 模式为常见问题提供了行之有效的解决方案: 模式提供了解决特定问题的优化模板。\n",
    "- 模式旨在复用: 它们具备通用性，适合各种问题。\n",
    "- 模式定义了词汇: 模式是一种定义明确的结构，因而为解决方案提供了通用的词汇。"
   ]
  },
  {
   "attachments": {},
   "cell_type": "markdown",
   "metadata": {},
   "source": [
    "### 设计模式\n",
    "基于解决问题的种类，可以粗略的将设计模式划分成以下几类:\n",
    "- 创建型设计模式: 该模式处理的是用于创建对象的各种机制。\n",
    "- 结构型设计模式: 该模式考虑的是对象的组成以及对象彼此之间的关系，其意图在于将系统变化对整个对象关系所造成的影响降低到最小。\n",
    "- 行为型设计模式: 该模式关注的是对象之间的依赖关系和通信。\n",
    "\n",
    "以下是一个识别模式分类的清单:\n",
    "- 创建型模式\n",
    "  - 工厂方法\n",
    "  - 抽象工厂\n",
    "  - 建造者\n",
    "  - 原型\n",
    "  - 单例\n",
    "- 结构型模式\n",
    "  - 适配器\n",
    "  - 桥接\n",
    "  - 组合\n",
    "  - 装饰器\n",
    "  - 外观\n",
    "  - 享元\n",
    "  - 代理\n",
    "- 行为型模式\n",
    "  - 解释器\n",
    "  - 模板方法\n",
    "  - 责任链\n",
    "  - 命令\n",
    "  - 迭代器\n",
    "  - 中介者\n",
    "  - 备忘录\n",
    "  - 观察者\n",
    "  - 状态\n",
    "  - 策略\n",
    "  - 访问者\n"
   ]
  },
  {
   "attachments": {},
   "cell_type": "markdown",
   "metadata": {},
   "source": [
    "### 命名空间模式\n",
    "在JavaScript中过度使用全局作用域是个禁忌。但在构建大型程序时，有时很难控制全局作用域的污染程度。命名空间能够减少程序创建的全局变量的数目，有助于避免名称冲突或过多的名称前缀。命名空间的思路是为应用程序或库创建一个全局对象。将所有的其他对象和函数都添加到该对象中，而不是去污染全局作用域。"
   ]
  },
  {
   "cell_type": "code",
   "execution_count": null,
   "metadata": {},
   "outputs": [],
   "source": [
    "/* 反模式\n",
    "function Car() {}\n",
    "function BMW() {}\n",
    "var engines = 1;\n",
    "var features = {\n",
    "    seat: 6,\n",
    "    airbags: 6\n",
    "} */\n",
    "\n",
    "var CARFACTORY = CARFACTORY || {}; // 防止CARFACTORY 已经存在定义\n",
    "CARFACTORY.Car = function () {}\n",
    "CARFACTORY.BMW = function () {}\n",
    "CARFACTORY.engines = 1;\n",
    "CARFACTORY.features = {\n",
    "    seat: 6,\n",
    "    airbags: 6\n",
    "}"
   ]
  },
  {
   "attachments": {},
   "cell_type": "markdown",
   "metadata": {},
   "source": [
    "尽管这种方法既能够限制全局变量，又能够为代码添加命名空间，但多少有些繁琐，必须在每个变量和函数前面加上命名空间前缀。"
   ]
  },
  {
   "attachments": {},
   "cell_type": "markdown",
   "metadata": {},
   "source": [
    "### 模块模式\n",
    "在构建大型应用程序时，很快会发现维持基础代码的组织化和模块化会变得越来越难。模块模式有助于维持代码清晰的独立性和条理性。模块可以将较大的程序分隔成较小的部分，赋予其各自的命名空间。精心设计的模块接口能够使代码易于重用和扩展。在JavaScript中，模块模式的使用率很高，模块有助于模拟类的概念，使得我们能够在对象中加入公共和私有方法和变量，但最重要的是，模块能够将它们同全局作用域隔离开。变量和函数都限制在模块的作用域中。模块的另一个优美之处在于只暴露了公共API,其他所有与内部实现相关的细节都以私有状态保留在模块的闭包中。\n",
    "与其他面向对象语言不同，JavaScript没有直接的访问修饰符，因此也就没有什么隐私的概念，没法拥有公共变量和私有变量。但在JavaSCript中可以使用函数作用域来强加这个概念。模块模式利用闭包将变量和函数的访问限制在模块内部。如果定义在对象中的变量和函数被返回，那就是公共的了。"
   ]
  },
  {
   "cell_type": "code",
   "execution_count": 1,
   "metadata": {},
   "outputs": [
    {
     "name": "stdout",
     "output_type": "stream",
     "text": [
      "Initialing the server\n",
      "60\n",
      "en_UK\n"
     ]
    }
   ],
   "source": [
    "var basicServerConfig = (function() {\n",
    "    var environment = \"Production\";\n",
    "    startParams = {\n",
    "        cacheTimeout: 30,\n",
    "        locale: \"en_US\"\n",
    "    };\n",
    "    return {\n",
    "        init: function() {\n",
    "            console.log(\"Initialing the server\");\n",
    "        },\n",
    "        updateStartup: function(params) {\n",
    "            this.startupParams = params;\n",
    "            console.log(this.startupParams.cacheTimeout);\n",
    "            console.log(this.startupParams.locale);\n",
    "        }\n",
    "    };\n",
    "})();\n",
    "basicServerConfig.init();\n",
    "basicServerConfig.updateStartup({cacheTimeout: 60, locale: \"en_UK\"});"
   ]
  },
  {
   "attachments": {},
   "cell_type": "markdown",
   "metadata": {},
   "source": [
    "为防止模块不会污染全局上下文，还可以为模块创建命名空间。"
   ]
  },
  {
   "cell_type": "code",
   "execution_count": null,
   "metadata": {},
   "outputs": [],
   "source": [
    "var SERVER = SERVER || {};\n",
    "SERVER.basicServerConfig = (function() {\n",
    "    var environment = \"Production\";\n",
    "    startParams = {\n",
    "        cacheTimeout: 30,\n",
    "        locale: \"en_US\"\n",
    "    };\n",
    "    return {\n",
    "        init: function() {\n",
    "            console.log(\"Initialing the server\");\n",
    "        },\n",
    "        updateStartup: function(params) {\n",
    "            this.startupParams = params;\n",
    "            console.log(this.startupParams.cacheTimeout);\n",
    "            console.log(this.startupParams.locale);\n",
    "        }\n",
    "    };\n",
    "})();\n",
    "SERVER.basicServerConfig.init();\n",
    "SERVER.basicServerConfig.updateStartup({cacheTimeout: 60, locale: \"en_UK\"});"
   ]
  },
  {
   "attachments": {},
   "cell_type": "markdown",
   "metadata": {},
   "source": [
    "模块模式的另一种变形用法试图克服该模式原本存在的一些问题，这种改进后的模式也称为暴露式模块模式(RMP)。避免在调用其他函数的公共函数或是访问公共变量的时候非得使用模块名，同时避免在返回公共接口时只能采用对象的字面形式写法。"
   ]
  },
  {
   "cell_type": "code",
   "execution_count": 4,
   "metadata": {},
   "outputs": [
    {
     "name": "stdout",
     "output_type": "stream",
     "text": [
      "[Function: getCurrentState]\n",
      "privateFn called\n"
     ]
    }
   ],
   "source": [
    "/* 一个例子\n",
    "var modulePattern = function() {\n",
    "    var privateOne = 1;\n",
    "    function privateFn() {\n",
    "        console.log(\"privateFn called\");\n",
    "    }\n",
    "    return {\n",
    "        publicTwo: 2,\n",
    "        publicFn: function() {\n",
    "            modulePattern.publicFnTwo();\n",
    "        },\n",
    "        publicFnTwo: function() {\n",
    "            privateFn();\n",
    "        }\n",
    "    }\n",
    "}();\n",
    "modulePattern.publicFn(); */\n",
    "\n",
    "var revealExample = function() {\n",
    "    var privateOne = 1;\n",
    "    function privateFn() {\n",
    "        console.log(\"privateFn called\");\n",
    "    }\n",
    "    var publicTwo = 2;\n",
    "    function publicFn() {\n",
    "        publicFnTwo();\n",
    "    }\n",
    "    function publicFnTwo() {\n",
    "        privateFn();\n",
    "    }\n",
    "    function getCurrentState() {\n",
    "        return 2;\n",
    "    }\n",
    "    return {\n",
    "        setup: publicFn,\n",
    "        count: publicTwo,\n",
    "        increaseCount: publicFnTwo,\n",
    "        current: getCurrentState\n",
    "    };\n",
    "}();\n",
    "console.log(revealExample.current);\n",
    "revealExample.setup();"
   ]
  },
  {
   "attachments": {},
   "cell_type": "markdown",
   "metadata": {},
   "source": [
    "这里的函数和变量都是在私有作用域中定义的，返回的匿名对象中带有指针，指向那些希望作为公共性质的私有变量和函数。"
   ]
  },
  {
   "attachments": {},
   "cell_type": "markdown",
   "metadata": {},
   "source": [
    "在代码产品中，我们希望跟更多的使用标准化方法来创建模块。目前，创建模块的方法主要有两种: 第一种叫做CommonJS模块。CommonJs通常更适合服务器端JavaSCript环境(Nodejs)。CommonJS模块包含了一个require函数，能够接受一个模块名并返回模块接口。CommonJS模块由两部分组成，一部分是模块要暴露出的变量和函数列表，如果将变量或函数赋值给module.exports，就会将其暴露给外部。另一部分是require()函数，模块可以用它导入其他模块导出的内容。另一种JavaScript模块叫做异步模块定义，能够支持异步行为，在此不做介绍。"
   ]
  },
  {
   "cell_type": "code",
   "execution_count": 7,
   "metadata": {},
   "outputs": [],
   "source": [
    "/* 一个例子\n",
    "// 添加依赖模块\n",
    "var cryto = require(\"cryto\");\n",
    "function randomString(length, chars) {\n",
    "    var randomBytes = cryto.randomBytes(length);\n",
    "    ...\n",
    "    ...\n",
    "}\n",
    "// 导出该模块，使其可供其他模块使用\n",
    "module.exports = randomString; */"
   ]
  },
  {
   "attachments": {},
   "cell_type": "markdown",
   "metadata": {},
   "source": [
    "### 工厂模式\n",
    "工厂模式是另一种流行的对象创建模式，它并不需要使用构造函数。该模式提供了一个用于创建对象的接口，根据传入工厂的类型，可以创建特定类型的对象。这种模式常见的实现是利用类或类的静态方法。这样的类或方法的目的是:\n",
    "- 在创建相似对象时，抽象出重复出现的操作\n",
    "- 允许工厂的用户在无需了解对象创建的内部细节的情况下创建对象。"
   ]
  },
  {
   "cell_type": "code",
   "execution_count": 10,
   "metadata": {},
   "outputs": [
    {
     "name": "stdout",
     "output_type": "stream",
     "text": [
      "This car has 4 doors and a 2 liter engine\n"
     ]
    }
   ],
   "source": [
    "// 工厂构造函数\n",
    "function CarFactory() {}\n",
    "CarFactory.prototype.info = function() {\n",
    "    console.log(\"This car has \"+this.doors + \" doors and a \"+this.engine_capacity+\" liter engine\");\n",
    "};\n",
    "// 静态工厂方法\n",
    "CarFactory.make = function(type) {\n",
    "    var constr = type;\n",
    "    var car;\n",
    "    CarFactory[constr].prototype = new CarFactory();\n",
    "    // 创建新的实例\n",
    "    car = new CarFactory[constr]();\n",
    "    return car;\n",
    "};\n",
    "CarFactory.Compact = function() {\n",
    "    this.doors = 4;\n",
    "    this.engine_capacity = 2;\n",
    "};\n",
    "CarFactory.Sedan = function() {\n",
    "    this.doors = 2;\n",
    "    this.engine_capacity = 2;\n",
    "};\n",
    "CarFactory.SUV = function() {\n",
    "    this.doors = 4;\n",
    "    this.engine_capacity = 6;\n",
    "};\n",
    "var golf = CarFactory.make(\"Compact\");\n",
    "var vento = CarFactory.make(\"Sedan\");\n",
    "var touareg = CarFactory.make(\"SUV\");\n",
    "golf.info();\n"
   ]
  },
  {
   "attachments": {},
   "cell_type": "markdown",
   "metadata": {},
   "source": [
    "### mixin模式\n",
    "mixin模式能够显著减少代码中重复出现的功能，有助于功能重组。可以将能够共享的功能放到mixin中，以此降低共享行为的重复数量。对比mixin和继承的区别: 如果在多个对象和类层次之间共享的功能，可以使用mixin，如果要共享的功能在单个类层次上，可以使用继承。在原型继承中，如果继承来自原型，那么对原型的修改会影响到从原型继承的一切内容。如果不希望出现这种情况，可以使用mixin。"
   ]
  },
  {
   "attachments": {},
   "cell_type": "markdown",
   "metadata": {},
   "source": [
    "### 装饰器模式\n",
    "\n",
    "装饰器模式的主要思想是使用一个空白对象展开设计，该对象有一些基本的功能。随着设计的深入，可以使用现有的装饰器来增强该空白对象，这是一种面向对象领域非常流行的模式。"
   ]
  },
  {
   "cell_type": "code",
   "execution_count": 14,
   "metadata": {},
   "outputs": [
    {
     "name": "stdout",
     "output_type": "stream",
     "text": [
      "Initializing basic server...\n",
      "Started Reverse Proxy\n",
      "Started serving PHP\n",
      "2\n",
      "Initializing basic server...\n",
      "Started Reverse Proxy\n",
      "Started serving Node\n",
      "2\n"
     ]
    }
   ],
   "source": [
    "// 实现最小化的BasicServer\n",
    "function BasicServer() {\n",
    "    this.pid = 1;\n",
    "    console.log(\"Initializing basic server...\");\n",
    "    this.decorators_list = [];\n",
    "}\n",
    "\n",
    "// 列出所有的装饰器\n",
    "BasicServer.decorations = {};\n",
    "\n",
    "// 将每个装饰器添加到BasicServer的装饰器列表中\n",
    "// 列表中的每个装饰器都会被应用到BasicServer实例中\n",
    "BasicServer.decorations.reverseProxy = {\n",
    "    init: function(pid) {\n",
    "        console.log(\"Started Reverse Proxy\");\n",
    "        return pid +1;\n",
    "    }\n",
    "};\n",
    "BasicServer.decorations.servePHP = {\n",
    "    init: function(pid) {\n",
    "        console.log(\"Started serving PHP\");\n",
    "        return pid+1;\n",
    "    }\n",
    "};\n",
    "BasicServer.decorations.serveNode = {\n",
    "    init: function(pid) {\n",
    "        console.log(\"Started serving Node\");\n",
    "        return pid+1;\n",
    "    }\n",
    "};\n",
    "BasicServer.prototype.decorate = function(decorator) {\n",
    "    this.decorators_list.push(decorator);\n",
    "};\n",
    "BasicServer.prototype.init = function() {\n",
    "    var running_processes = 0;\n",
    "    var pid = this.pid;\n",
    "    for(var i = 0; i < this.decorators_list.length; i++) {\n",
    "        decoration_name = this.decorators_list[i];\n",
    "        running_processes = BasicServer.decorations[decoration_name].init(pid);\n",
    "    }\n",
    "    return running_processes;\n",
    "};\n",
    "\n",
    "// 创建提供PHP服务的服务器\n",
    "var phpServer = new BasicServer();\n",
    "phpServer.decorate(\"reverseProxy\");\n",
    "phpServer.decorate(\"servePHP\");\n",
    "total_processes = phpServer.init();\n",
    "console.log(total_processes);\n",
    "\n",
    "// 创建提供Node服务的服务器\n",
    "var nodeServer = new BasicServer();\n",
    "nodeServer.decorate(\"reverseProxy\");\n",
    "nodeServer.decorate(\"serveNode\");\n",
    "total_processes = nodeServer.init();\n",
    "console.log(total_processes);"
   ]
  },
  {
   "attachments": {},
   "cell_type": "markdown",
   "metadata": {},
   "source": [
    "### 观察者模式\n",
    "\n",
    "在观察者模式中，目标保存了一个对其依赖的对象列表(称为观察者),并在自身状态发生变化时通知这些观察者。目标所采用的通知方式是广播。观察者如果不想被提醒，可以把自己从列表中移除。\n",
    "- 目标: 保存观察者列表，拥有可以用来添加、删除和更新观察者的方法\n",
    "- 观察者： 为那些需要在目标状态发生变化时得到提醒的对象提供接口"
   ]
  },
  {
   "cell_type": "code",
   "execution_count": 16,
   "metadata": {},
   "outputs": [
    {
     "name": "stdout",
     "output_type": "stream",
     "text": [
      "Add observer\n",
      "Add observer\n",
      "Updated Tweet -  [Arguments] { '0': [ { tweet: 'This is one nice observer' } ] }\n",
      "Following this tweet -  [Arguments] { '0': [ { tweet: 'This is one nice observer' } ] }\n",
      "Removed observer\n",
      "Following this tweet -  [Arguments] { '0': [ { tweet: 'This is one nice observer' } ] }\n"
     ]
    }
   ],
   "source": [
    "var Subject = (function() {\n",
    "    function Subject() {\n",
    "        this.observer_list = [];\n",
    "    };\n",
    "    Subject.prototype.add_observer = function(obj) {\n",
    "        console.log(\"Add observer\");\n",
    "        this.observer_list.push(obj);\n",
    "    };\n",
    "    Subject.prototype.remove_observer = function(obj) {\n",
    "        for(var i=0; i<this.observer_list.length; i++) {\n",
    "            if(this.observer_list[i] === obj) {\n",
    "                this.observer_list.splice(i, 1);\n",
    "                console.log(\"Removed observer\");\n",
    "            }\n",
    "        }\n",
    "    };\n",
    "    Subject.prototype.notify = function() {\n",
    "        var args = Array.prototype.slice.call(arguments, 0);\n",
    "        for(var i=0; i<this.observer_list.length; i++) {\n",
    "            this.observer_list[i].update(args);\n",
    "        }\n",
    "    };\n",
    "    return Subject;\n",
    "})();\n",
    "\n",
    "function Tweeter() {\n",
    "    var subject = new Subject();\n",
    "    this.addObserver = function(observer) {\n",
    "        subject.add_observer(observer);\n",
    "    };\n",
    "    this.removeObserver = function(observer) {\n",
    "        subject.remove_observer(observer);\n",
    "    };\n",
    "    this.fetchTweets = function fetchTweets() {\n",
    "        var tweet = {\n",
    "            tweet: \"This is one nice observer\"\n",
    "        };\n",
    "        subject.notify(tweet);\n",
    "    };\n",
    "}\n",
    "\n",
    "var TweetUpdater = {\n",
    "    update: function() {\n",
    "        console.log(\"Updated Tweet - \", arguments);\n",
    "    }\n",
    "};\n",
    "\n",
    "var TweetFollower = {\n",
    "    update: function() {\n",
    "        console.log(\"Following this tweet - \", arguments);\n",
    "    }\n",
    "};\n",
    "\n",
    "var tweetApp = new Tweeter();\n",
    "tweetApp.addObserver(TweetUpdater);\n",
    "tweetApp.addObserver(TweetFollower);\n",
    "tweetApp.fetchTweets();\n",
    "tweetApp.removeObserver(TweetUpdater);\n",
    "tweetApp.fetchTweets();"
   ]
  },
  {
   "attachments": {},
   "cell_type": "markdown",
   "metadata": {},
   "source": [
    "### Model-View-*模式"
   ]
  },
  {
   "attachments": {},
   "cell_type": "markdown",
   "metadata": {},
   "source": [
    "#### 1. 模型-视图-控制器(MVC)\n",
    "MVC是一种流行的结构型模式，其思路是将应用程序划分成三部分，从而将信息与表现层分离开。MVC是由多个组件构成的。模型是应用程序对象，视图是底层模型对象的表现，控制器是根据用户交互处理用户界面的行为方式。\n",
    "- 模型: 用来描述应用程序数据的构件，它们与用户界面和路由逻辑无关。模型的变化通常按照观察者设计模式通知到视图层。\n",
    "- 视图: 视图是模型的可视化表现，通常，模型的状态在递交给视图层之前需要处理、过滤或修整。在JavaScript中视图负责渲染和操作DOM元素。视图观察模型，在模型出现变化时得到提醒。在用户与视图交互时，模型的属性可以通过视图层修改(通常是通过控制器)。\n",
    "- 控制器: 控制器作用于模型和视图之间，负责在用户修改视图属性时更新模型。"
   ]
  },
  {
   "attachments": {},
   "cell_type": "markdown",
   "metadata": {},
   "source": [
    "#### 2. 模型-视图-表现器(MVP)\n",
    "\n",
    "在此不做介绍"
   ]
  },
  {
   "attachments": {},
   "cell_type": "markdown",
   "metadata": {},
   "source": [
    "#### 3. 模型-视图-视图模型(MVVM)\n",
    "\n",
    "在此不做介绍"
   ]
  }
 ],
 "metadata": {
  "kernelspec": {
   "display_name": "JavaScript (Node.js)",
   "language": "javascript",
   "name": "javascript"
  },
  "language_info": {
   "file_extension": ".js",
   "mimetype": "application/javascript",
   "name": "javascript",
   "version": "10.19.0"
  },
  "orig_nbformat": 4
 },
 "nbformat": 4,
 "nbformat_minor": 2
}
