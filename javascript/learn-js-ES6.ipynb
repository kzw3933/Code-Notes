{
 "cells": [
  {
   "attachments": {},
   "cell_type": "markdown",
   "metadata": {},
   "source": [
    "## ECMAScript 6\n",
    "\n",
    "ECMAScript 6是ECMAScript标准的最新版本。ES6引入了大量的特性，增添了新的语法和辅助工具，大大丰富了这门语言。但是ES6的一些特性还没有被最流行的浏览器和JavaScript框架所支持。"
   ]
  },
  {
   "attachments": {},
   "cell_type": "markdown",
   "metadata": {},
   "source": [
    "### shim/polyfill\n",
    "\n",
    "`shim(也称polyfill)`是一种模式，它采用旧环境来定义新环境的行为。"
   ]
  },
  {
   "cell_type": "code",
   "execution_count": 2,
   "metadata": {},
   "outputs": [],
   "source": [
    "var numberIsFinite = Number.isFinite || function isFinite(value) {\n",
    "    return typeof value === \"number\" && globalIsFinite(value);\n",
    "}"
   ]
  },
  {
   "attachments": {},
   "cell_type": "markdown",
   "metadata": {},
   "source": [
    "但`shim`并非包治百病，它无法应对语法的变化。"
   ]
  },
  {
   "attachments": {},
   "cell_type": "markdown",
   "metadata": {},
   "source": [
    "### 转换编译器\n",
    "转换编译器是一种结合了编译和转换的技术。其思想是编写与ES6兼容的代码，然后使用工具将其转换编译为有效的ES5等价代码。Bable就是一款功能最完备，也是最流行的ES6转换编译器。"
   ]
  },
  {
   "attachments": {},
   "cell_type": "markdown",
   "metadata": {},
   "source": [
    "### ES6语法上的变化"
   ]
  },
  {
   "attachments": {},
   "cell_type": "markdown",
   "metadata": {},
   "source": [
    "#### 1. 块级作用域\n",
    "\n",
    "之前为了在JavaScript中实现块级作用域，一个流行的方法是利用立即调用函数表达式(IIFE)。"
   ]
  },
  {
   "cell_type": "code",
   "execution_count": 3,
   "metadata": {},
   "outputs": [
    {
     "name": "stdout",
     "output_type": "stream",
     "text": [
      "2\n",
      "1\n"
     ]
    }
   ],
   "source": [
    "var a = 1;\n",
    "(function blockscope() {\n",
    "    var a = 2;\n",
    "    console.log(a);\n",
    "})();\n",
    "console.log(a);"
   ]
  },
  {
   "attachments": {},
   "cell_type": "markdown",
   "metadata": {},
   "source": [
    "在ES6中，可以在`{}`所定义的语句中放入任何语句，在声明具有块级作用域的变量时，不使用`var`，而是改用`let`。需要注意的是，对于`let`声明的变量，在声明前无法使用。"
   ]
  },
  {
   "cell_type": "code",
   "execution_count": 4,
   "metadata": {},
   "outputs": [
    {
     "name": "stdout",
     "output_type": "stream",
     "text": [
      "2\n",
      "1\n"
     ]
    }
   ],
   "source": [
    "var a = 1;\n",
    "{\n",
    "    let a = 2;\n",
    "    console.log(a);\n",
    "}\n",
    "console.log(a);"
   ]
  },
  {
   "attachments": {},
   "cell_type": "markdown",
   "metadata": {},
   "source": [
    "ES6块级作用域还可以定义常量，使用`const`关键字就可以在块级作用域中定义常量。"
   ]
  },
  {
   "cell_type": "code",
   "execution_count": 5,
   "metadata": {},
   "outputs": [
    {
     "name": "stdout",
     "output_type": "stream",
     "text": [
      "1\n"
     ]
    },
    {
     "ename": "TypeError",
     "evalue": "Assignment to constant variable.",
     "output_type": "error",
     "traceback": [
      "evalmachine.<anonymous>:4",
      "    a = 100;",
      "      ^",
      "",
      "TypeError: Assignment to constant variable.",
      "    at evalmachine.<anonymous>:4:7",
      "    at Script.runInThisContext (vm.js:122:20)",
      "    at Object.runInThisContext (vm.js:329:38)",
      "    at run ([eval]:1020:15)",
      "    at onRunRequest ([eval]:864:18)",
      "    at onMessage ([eval]:828:13)",
      "    at process.emit (events.js:198:13)",
      "    at emit (internal/child_process.js:832:12)",
      "    at process._tickCallback (internal/process/next_tick.js:63:19)"
     ]
    }
   ],
   "source": [
    "if(true) {\n",
    "    const a = 1;\n",
    "    console.log(a);\n",
    "    a = 100;\n",
    "}"
   ]
  },
  {
   "attachments": {},
   "cell_type": "markdown",
   "metadata": {},
   "source": [
    "#### 2. 默认参数"
   ]
  },
  {
   "cell_type": "code",
   "execution_count": null,
   "metadata": {},
   "outputs": [
    {
     "name": "stdout",
     "output_type": "stream",
     "text": [
      "18\n",
      "9\n"
     ]
    }
   ],
   "source": [
    "function sum(a=0, b=0) {\n",
    "    return (a+b);\n",
    "}\n",
    "\n",
    "console.log(sum(9,9));\n",
    "console.log(sum(9));"
   ]
  },
  {
   "attachments": {},
   "cell_type": "markdown",
   "metadata": {},
   "source": [
    "#### 3. spread与rest\n",
    "ES6中新添了一个操作符`...`,根据用法的不同可以叫做spread或rest。分别实现将值分散和将值聚合的作用。"
   ]
  },
  {
   "cell_type": "code",
   "execution_count": null,
   "metadata": {},
   "outputs": [
    {
     "name": "stdout",
     "output_type": "stream",
     "text": [
      "1 2\n",
      "3 4\n"
     ]
    }
   ],
   "source": [
    "function print(a,b) {\n",
    "    console.log(a, b);\n",
    "}\n",
    "\n",
    "print(...[1,2]);\n",
    "print(...[3,4,5]);"
   ]
  },
  {
   "cell_type": "code",
   "execution_count": null,
   "metadata": {},
   "outputs": [
    {
     "name": "stdout",
     "output_type": "stream",
     "text": [
      "1 [ 2, 3, 4, 5, 6, 7, 8, 9, 10, 11, 12, 13 ]\n",
      "undefined\n"
     ]
    }
   ],
   "source": [
    "function print(a, ...b) {\n",
    "    console.log(a, b);\n",
    "}\n",
    "\n",
    "console.log(print(1,2,3,4,5,6,7,8,9,10,11,12,13))"
   ]
  },
  {
   "attachments": {},
   "cell_type": "markdown",
   "metadata": {},
   "source": [
    "#### 4. 解构\n",
    "解构允许我们使用模式匹配将值和变量绑定在一起。"
   ]
  },
  {
   "cell_type": "code",
   "execution_count": null,
   "metadata": {},
   "outputs": [
    {
     "name": "stdout",
     "output_type": "stream",
     "text": [
      "0\n",
      "1\n",
      "2\n",
      "3\n",
      "4\n",
      "5\n"
     ]
    }
   ],
   "source": [
    "// 数组解构\n",
    "var [start, end] = [0, 5];\n",
    "for(let i = start; i <= end; i++) {\n",
    "    console.log(i);\n",
    "}\n",
    "\n",
    "function fn() {\n",
    "    return [1,2,3]\n",
    "}\n",
    "var [a,b,c] = fn();\n",
    "var [d,,f] = fn(); // 跳过其中一个\n",
    "var [e,] = fn(); // 没有用到剩下的值\n",
    "\n"
   ]
  },
  {
   "cell_type": "code",
   "execution_count": null,
   "metadata": {},
   "outputs": [
    {
     "name": "stdout",
     "output_type": "stream",
     "text": [
      "a b c\n",
      "a b c\n"
     ]
    }
   ],
   "source": [
    "// 对象解构\n",
    "function f() {\n",
    "    return {\n",
    "        a: \"a\",\n",
    "        b: \"b\",\n",
    "        c: \"c\"\n",
    "    };\n",
    "}\n",
    "\n",
    "var {a: a,b: b,c: c} = f();\n",
    "console.log(a,b,c);\n",
    "\n",
    "var {a,b,c} = f(); // 同名可简写\n",
    "\n",
    "var {a: x, b: y, c: z} = f();\n",
    "console.log(x,y,z);"
   ]
  },
  {
   "attachments": {},
   "cell_type": "markdown",
   "metadata": {},
   "source": [
    "#### 5. 对象字面量\n",
    "\n",
    "ES6引入了另一种更紧凑的对象字面量语法。"
   ]
  },
  {
   "cell_type": "code",
   "execution_count": null,
   "metadata": {},
   "outputs": [],
   "source": [
    "/* \n",
    "var firstname = \"Albert\", lastname = \"Einstein\",\n",
    "    person = {\n",
    "        firstname: firstname, \n",
    "        lastname: lastname\n",
    "    }; */\n",
    "var firstname = \"Albert\", lastname = \"Einstein\",\n",
    "    person = {\n",
    "        firstname,\n",
    "        lastname\n",
    "    };\n",
    "/*\n",
    "var person = {\n",
    "    getName: function() {\n",
    "        //...\n",
    "    },\n",
    "    getAge: function() {\n",
    "        //...\n",
    "    }\n",
    "} */\n",
    "var person = {\n",
    "    getName() {\n",
    "        //...\n",
    "    },\n",
    "    getAge() {\n",
    "        //...\n",
    "    }\n",
    "}\n"
   ]
  },
  {
   "attachments": {},
   "cell_type": "markdown",
   "metadata": {},
   "source": [
    "#### 6. 模板字面量\n",
    "\n",
    "使用模板字面量可以实现变量插值。"
   ]
  },
  {
   "cell_type": "code",
   "execution_count": 6,
   "metadata": {},
   "outputs": [],
   "source": [
    "function SuperLogger(level, clazz, msg) {\n",
    "    console.log(`$(level) : Exception happened in class: ${clazz} - Exception: ${msg}`);\n",
    "}"
   ]
  },
  {
   "attachments": {},
   "cell_type": "markdown",
   "metadata": {},
   "source": [
    "可以将函数调用或有效的JavaScript表达式作为字符串插值的一部分。"
   ]
  },
  {
   "cell_type": "code",
   "execution_count": 7,
   "metadata": {},
   "outputs": [
    {
     "name": "stdout",
     "output_type": "stream",
     "text": [
      "The sum seems to be 3\n"
     ]
    }
   ],
   "source": [
    "function sum(a, b) {\n",
    "    console.log(`The sum seems to be ${a+b}`);\n",
    "}\n",
    "sum(1,2);"
   ]
  },
  {
   "attachments": {},
   "cell_type": "markdown",
   "metadata": {},
   "source": [
    "模板字符串的最后一种用法叫做标记字符串模板。其思想是使用函数修改模板字符串。"
   ]
  },
  {
   "cell_type": "code",
   "execution_count": 8,
   "metadata": {},
   "outputs": [
    {
     "name": "stdout",
     "output_type": "stream",
     "text": [
      "[ 'And the award for ', ' goes to ', '' ]\n",
      "[ 'Best Movies', 'Adventures in ES6' ]\n"
     ]
    }
   ],
   "source": [
    "function emmy(key, ...values) {\n",
    "    console.log(key);\n",
    "    console.log(values);\n",
    "}\n",
    "let category = \"Best Movies\";\n",
    "let movie = \"Adventures in ES6\";\n",
    "emmy`And the award for ${category} goes to ${movie}`;"
   ]
  },
  {
   "cell_type": "code",
   "execution_count": 9,
   "metadata": {},
   "outputs": [
    {
     "name": "stdout",
     "output_type": "stream",
     "text": [
      "Your purchase has a discount of 25\n"
     ]
    }
   ],
   "source": [
    "function priceFilter(s, ...v) {\n",
    "    return s[0] + (v[0] + 5);\n",
    "}\n",
    "let default_discount = 20;\n",
    "let greeting = priceFilter`Your purchase has a discount of ${default_discount} percent`;\n",
    "console.log(greeting);"
   ]
  },
  {
   "attachments": {},
   "cell_type": "markdown",
   "metadata": {},
   "source": [
    "#### 7. Map与Set\n",
    "\n",
    "ES6引入了四种新的数据结构: Map、WeakMap、Set、WeakSet。对象是在JavaScript中创建键值对的惯常做法，对象的不足之处在于无法使用非字符串值作为键。具体使用参考相关资料。"
   ]
  },
  {
   "attachments": {},
   "cell_type": "markdown",
   "metadata": {},
   "source": [
    "#### 8. Symbol\n",
    "ES6引入了一种新的数据类型Symbol,它是唯一且不可变的值。Symbol通常作为对象属性的标识符，可以将其看做唯一的ID。可以使用工厂方法Symbol()创建Symbol。"
   ]
  },
  {
   "cell_type": "code",
   "execution_count": 33,
   "metadata": {},
   "outputs": [
    {
     "ename": "SyntaxError",
     "evalue": "Identifier 's' has already been declared",
     "output_type": "error",
     "traceback": [
      "evalmachine.<anonymous>:1",
      "var s = Symbol();",
      "^",
      "",
      "SyntaxError: Identifier 's' has already been declared",
      "    at evalmachine.<anonymous>:1:1",
      "    at Script.runInThisContext (vm.js:122:20)",
      "    at Object.runInThisContext (vm.js:329:38)",
      "    at run ([eval]:1020:15)",
      "    at onRunRequest ([eval]:864:18)",
      "    at onMessage ([eval]:828:13)",
      "    at process.emit (events.js:198:13)",
      "    at emit (internal/child_process.js:832:12)",
      "    at process._tickCallback (internal/process/next_tick.js:63:19)"
     ]
    }
   ],
   "source": [
    "let s = Symbol();\n",
    "console.log(typeof s);"
   ]
  },
  {
   "attachments": {},
   "cell_type": "markdown",
   "metadata": {},
   "source": [
    "#### 9. 迭代器"
   ]
  },
  {
   "cell_type": "code",
   "execution_count": 34,
   "metadata": {},
   "outputs": [
    {
     "name": "stdout",
     "output_type": "stream",
     "text": [
      "{ value: 1, done: false }\n",
      "{ value: 2, done: false }\n",
      "{ value: undefined, done: true }\n"
     ]
    }
   ],
   "source": [
    "var a = [1,2];\n",
    "var i = a[Symbol.iterator]();\n",
    "console.log(i.next());\n",
    "console.log(i.next());\n",
    "console.log(i.next());"
   ]
  },
  {
   "attachments": {},
   "cell_type": "markdown",
   "metadata": {},
   "source": [
    "#### 10. for..of循环\n",
    "它可以遍历由迭代器生成的一组值。由for..of所遍历的值是可迭代的。"
   ]
  },
  {
   "cell_type": "code",
   "execution_count": 35,
   "metadata": {},
   "outputs": [
    {
     "name": "stdout",
     "output_type": "stream",
     "text": [
      "0\n",
      "1\n",
      "2\n",
      "3\n",
      "4\n",
      "5\n",
      "6\n",
      "a\n",
      "b\n",
      "c\n",
      "d\n",
      "e\n",
      "f\n",
      "g\n"
     ]
    }
   ],
   "source": [
    "var list = [\"a\",\"b\",\"c\",\"d\",\"e\",\"f\",\"g\"];\n",
    "for(let i in list) {\n",
    "    console.log(i);\n",
    "}\n",
    "for(let i of list) {\n",
    "    console.log(i);\n",
    "}"
   ]
  },
  {
   "attachments": {},
   "cell_type": "markdown",
   "metadata": {},
   "source": [
    "#### 11. 箭头函数\n",
    "ES6新增特性最值得注意的一个部分是箭头函数。"
   ]
  },
  {
   "cell_type": "code",
   "execution_count": null,
   "metadata": {},
   "outputs": [],
   "source": [
    "function multiply(a, b) {\n",
    "    return a*b;\n",
    "}\n",
    "var multiply = (a,b) => a*b;"
   ]
  },
  {
   "attachments": {},
   "cell_type": "markdown",
   "metadata": {},
   "source": [
    "箭头函数提供了一种简洁的语法，使得代码更有函数式编程的范儿。而且，箭头函数通过`this感知`从根本上解决了一个常见痛点: 在普通的ES5函数中，每个函数都有自己的this值，这使得我们无法在回调函数中访问外围函数中的this值。"
   ]
  },
  {
   "cell_type": "code",
   "execution_count": 37,
   "metadata": {},
   "outputs": [
    {
     "ename": "TypeError",
     "evalue": "Cannot read property 'str' of undefined",
     "output_type": "error",
     "traceback": [
      "evalmachine.<anonymous>:7",
      "        return this.str + a;       // 这里的this是匿名函数的this",
      "                    ^",
      "",
      "TypeError: Cannot read property 'str' of undefined",
      "    at evalmachine.<anonymous>:7:21",
      "    at Array.map (<anonymous>)",
      "    at CustomStr.add (evalmachine.<anonymous>:6:14)",
      "    at evalmachine.<anonymous>:11:23",
      "    at Script.runInThisContext (vm.js:122:20)",
      "    at Object.runInThisContext (vm.js:329:38)",
      "    at run ([eval]:1020:15)",
      "    at onRunRequest ([eval]:864:18)",
      "    at onMessage ([eval]:828:13)",
      "    at process.emit (events.js:198:13)"
     ]
    }
   ],
   "source": [
    "function CustomStr(str) {\n",
    "    this.str = str;\n",
    "}\n",
    "CustomStr.prototype.add = function(s) {\n",
    "    'use strict';\n",
    "    return s.map(function(a) {\n",
    "        return this.str + a;       // 这里的this是匿名函数的this\n",
    "    })\n",
    "}\n",
    "var customStr = new CustomStr(\"Hello\");\n",
    "console.log(customStr.add([\"World\"]));"
   ]
  },
  {
   "cell_type": "code",
   "execution_count": 36,
   "metadata": {},
   "outputs": [
    {
     "name": "stdout",
     "output_type": "stream",
     "text": [
      "[ 'HelloWorld' ]\n"
     ]
    }
   ],
   "source": [
    "function CustomStr(str) {\n",
    "    this.str = str;\n",
    "}\n",
    "CustomStr.prototype.add = function(s) {\n",
    "    'use strict';\n",
    "    var that = this;\n",
    "    return s.map(function(a) {\n",
    "        return that.str + a;      \n",
    "    })\n",
    "}\n",
    "var customStr = new CustomStr(\"Hello\");\n",
    "console.log(customStr.add([\"World\"]));"
   ]
  },
  {
   "cell_type": "code",
   "execution_count": 38,
   "metadata": {},
   "outputs": [
    {
     "name": "stdout",
     "output_type": "stream",
     "text": [
      "[ 'HelloWorld' ]\n"
     ]
    }
   ],
   "source": [
    "function CustomStr(str) {\n",
    "    this.str = str;\n",
    "}\n",
    "CustomStr.prototype.add = function(s) {\n",
    "    'use strict';\n",
    "    var that = this;\n",
    "    return s.map(\n",
    "        (a) => { return this.str + a;}\n",
    "    )\n",
    "}\n",
    "var customStr = new CustomStr(\"Hello\");\n",
    "console.log(customStr.add([\"World\"]));"
   ]
  }
 ],
 "metadata": {
  "kernelspec": {
   "display_name": "JavaScript (Node.js)",
   "language": "javascript",
   "name": "javascript"
  },
  "language_info": {
   "file_extension": ".js",
   "mimetype": "application/javascript",
   "name": "javascript",
   "version": "10.19.0"
  },
  "orig_nbformat": 4
 },
 "nbformat": 4,
 "nbformat_minor": 2
}
