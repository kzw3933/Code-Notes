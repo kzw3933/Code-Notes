{
 "cells": [
  {
   "attachments": {},
   "cell_type": "markdown",
   "metadata": {},
   "source": [
    "## 面向对象的JavaScript\n",
    "\n",
    "JavaScript最基本的数据类型是Object，JavaScript对象可视为可修改的键值集合。在JavaScript中，数组、函数、正则表达式都是对象，而数字、字符串和布尔值则为类似对象的语言构件，它们不可修改，但是拥有方法。"
   ]
  },
  {
   "attachments": {},
   "cell_type": "markdown",
   "metadata": {},
   "source": [
    "### 理解对象\n",
    "\n",
    "与大多数编程范式一样，面向对象编程(OOP)也是源于复杂性管理的需要。其主要理念是将整个系统划分成规模更小的部分，各部分之间彼此独立。如果这些较小的部分能够尽可能地隐藏实现细节，它们就会变得更加易用。OOP的操作是:对象的状态对于外部而言是隐藏的，只能通过受控的操作来改变。但OOP可能有些做过头了，大多数OOP系统多都定义了复杂且无必要的类和类型的继承。另一个缺陷是推崇状态的隐藏。\n",
    "\n",
    "典型的继承有以下问题:\n",
    "- 只能在父类的限制下增强子类，无法从根本上改变从祖先那里继承来的东西。\n",
    "- 继承导致了紧耦合，子类明悉它们的父类，因此和父类紧耦合在一起。\n",
    "- 当从父类哪里生成子类时，没有选择继承什么，不继承什么的权利。\n",
    "\n",
    "更好的面向对象设计的两条基本原则:\n",
    "- 针对接口编程，而非实现\n",
    "- 对象的组合优于类的继承"
   ]
  },
  {
   "attachments": {},
   "cell_type": "markdown",
   "metadata": {},
   "source": [
    "#### 1. JavaScript对象的行为\n",
    "\n",
    "从广义上来说，一个对象可以包含属性，属性被定义成键值对。属性的键可以是一个字符串，值可以是任何有效的JavaScript值。可以使用对象的字面形式来创建对象。如果属性名是合法的字符串，可以忽略其周围的引号。(如对于first-name来说，引号是必要的，但对于firstname来说是不必要的)。"
   ]
  },
  {
   "cell_type": "code",
   "execution_count": 1,
   "metadata": {},
   "outputs": [
    {
     "data": {
      "text/plain": [
       "undefined"
      ]
     },
     "execution_count": 1,
     "metadata": {},
     "output_type": "execute_result"
    }
   ],
   "source": [
    "var nothing = {};\n",
    "var author = {\n",
    "    \"firstname\": \"sdkerd\",\n",
    "    \"lastname\": \"ehhwe\"\n",
    "};\n",
    "\n",
    "var writer = {\n",
    "    firstname: \"sdkerd\",\n",
    "    lastname: \"ehhwe\"\n",
    "};"
   ]
  },
  {
   "attachments": {},
   "cell_type": "markdown",
   "metadata": {},
   "source": [
    "访问对象属性由两种写法: 一种写法类似与访问数组元素，另一种使用点号。"
   ]
  },
  {
   "cell_type": "code",
   "execution_count": 2,
   "metadata": {},
   "outputs": [
    {
     "name": "stdout",
     "output_type": "stream",
     "text": [
      "sdkerd\n",
      "sdkerd\n"
     ]
    },
    {
     "data": {
      "text/plain": [
       "undefined"
      ]
     },
     "execution_count": 2,
     "metadata": {},
     "output_type": "execute_result"
    }
   ],
   "source": [
    "var writer = {\n",
    "    firstname: \"sdkerd\",\n",
    "    lastname: \"ehhwe\"\n",
    "};\n",
    "console.log(writer[\"firstname\"]);\n",
    "console.log(writer.firstname);"
   ]
  },
  {
   "attachments": {},
   "cell_type": "markdown",
   "metadata": {},
   "source": [
    "#### 2. 原型\n",
    "\n",
    "除了我们添加的属性外，几乎所有对象都有一个叫做prototype的默认属性。如果对象没有请求的属性，JavaScript会到原型中去找。Object.getPrototypeOf()方法会返回对象的原型。从根本上上来说，与原型密切相关的是函数，原型是定义能够被对象实例所使用的属性和函数的一种方式。原型的属性最终会成为对象实例的属性。原型可看做对象的模板，它类似与面向对象语言中的类。"
   ]
  },
  {
   "cell_type": "code",
   "execution_count": 3,
   "metadata": {},
   "outputs": [
    {
     "name": "stdout",
     "output_type": "stream",
     "text": [
      "CrazyBob is not defined\n",
      "SwingJay exists and can use bat\n"
     ]
    },
    {
     "data": {
      "text/plain": [
       "undefined"
      ]
     },
     "execution_count": 3,
     "metadata": {},
     "output_type": "execute_result"
    }
   ],
   "source": [
    "function Player() {}\n",
    "\n",
    "Player.prototype.useBat = function () {\n",
    "    return true;\n",
    "}\n",
    "\n",
    "var crazyBob = Player();\n",
    "if(crazyBob === undefined) {\n",
    "    console.log(\"CrazyBob is not defined\");\n",
    "}\n",
    "\n",
    "var swingJay = new Player();\n",
    "if(swingJay && swingJay.useBat && swingJay.useBat()) {\n",
    "    console.log(\"SwingJay exists and can use bat\");\n",
    "} "
   ]
  },
  {
   "attachments": {},
   "cell_type": "markdown",
   "metadata": {},
   "source": [
    "### 实例属性和原型属性\n",
    "\n",
    "实例属性是作为对象实例自身一部分的哪些属性，对于同名的实例属性和原型属性，实例属性的优先级更高。控制初始化优先级的规则如下:\n",
    "- 原型中的属性被绑定到对象实例中\n",
    "- 构造函数中的属性被绑定到对象实例中"
   ]
  },
  {
   "cell_type": "code",
   "execution_count": 4,
   "metadata": {},
   "outputs": [
    {
     "name": "stdout",
     "output_type": "stream",
     "text": [
      "Instance method says - he is hired\n"
     ]
    },
    {
     "data": {
      "text/plain": [
       "undefined"
      ]
     },
     "execution_count": 4,
     "metadata": {},
     "output_type": "execute_result"
    }
   ],
   "source": [
    "function Player() {\n",
    "    this.isAvailable = function() {\n",
    "        return \"Instance method says - he is hired\";\n",
    "    };\n",
    "    Player.prototype.isAvailable = function() {\n",
    "        return \"Prototype method says - he is not hired\";\n",
    "    }\n",
    "};\n",
    "\n",
    "var crazyBob = new Player();\n",
    "console.log(crazyBob.isAvailable());\n"
   ]
  },
  {
   "attachments": {},
   "cell_type": "markdown",
   "metadata": {},
   "source": [
    "实际上，在创建出一个新对象时，并不是简单的将构造函数原型的属性复制过来，而是将原型附着在对象上，在该对象属性被引用时去原型中查找。基本上，当引用对象属性时:\n",
    "- 检查对象是否拥有此属性。如果有，返回该属性的值。\n",
    "- 检查与对象关联的原型。如果在其中找到了该属性，将其返回，否则返回undefined错误。"
   ]
  },
  {
   "cell_type": "code",
   "execution_count": 9,
   "metadata": {},
   "outputs": [
    {
     "name": "stdout",
     "output_type": "stream",
     "text": [
      "true\n",
      "true\n"
     ]
    }
   ],
   "source": [
    "function Player() {\n",
    "    isAvailable = true;  // 隐式全局变量\n",
    "}\n",
    "var crazyBob = new Player();\n",
    "Player.prototype.isAvailable = function() {\n",
    "    return isAvailable;\n",
    "};\n",
    "console.log(crazyBob.isAvailable());"
   ]
  },
  {
   "attachments": {},
   "cell_type": "markdown",
   "metadata": {},
   "source": [
    "在JavaScript中，我们可以借助函数作用域实现其他语言OOP中控制对象成员的可见性和访问方式。\n",
    "- 可以在函数中使用关键字var来声明私有变量，它们可以由私有函数或特权方法访问。\n",
    "- 可以在对象的构造函数中声明私有函数，并由特权方法调用。\n",
    "- 特权方法可以使用 `this.method = function()` 来声明。\n",
    "- 公共方法可以使用 `Class.prototype.method = function() {}` 来声明。\n",
    "- 公共属性可以使用 `this.property` 来声明,能够在对象外部访问。"
   ]
  },
  {
   "cell_type": "code",
   "execution_count": 11,
   "metadata": {},
   "outputs": [
    {
     "name": "stdout",
     "output_type": "stream",
     "text": [
      "So far there are 2 in the guild\n"
     ]
    }
   ],
   "source": [
    "function Player(name, sport, age, country) {  // 构造函数参数可作为对象的私有变量\n",
    "    this.constructor.noOfPlayers++;\n",
    "    // 私有属性和函数，只能由特权对象浏览、编辑或调用\n",
    "    var retirementAge = 40;\n",
    "    var available = true;\n",
    "    var playerAge = age ? age : 18;\n",
    "\n",
    "    function isAvailable() { return available && (playerAge < retirementAge); }\n",
    "    var playerName = name ? name : \"Unknown\";\n",
    "    var playerSport = sport ? sport : \"Unknown\";\n",
    "\n",
    "    // 特权方法，可以从外部调用，也可以由成员访问，可以替换成对应的公共方法\n",
    "    this.book = function() {\n",
    "        if(!isAvailable()) {\n",
    "            this.available = false;\n",
    "        } else {\n",
    "            console.log(\"Player is unavailable.\");\n",
    "        }\n",
    "    };\n",
    "    this.getSport = function() { return playerSport; };\n",
    "    this.batPreference = \"Lefty\";\n",
    "    this.hasCeleGirlfriend = false;\n",
    "    this.endorses = \"Super Brand\";\n",
    "}\n",
    "\n",
    "// 公共方法--任何人都可以读取或写入,只能访问公共属性和原型属性\n",
    "Player.prototype.switchHands = function() { this.batPreference = \"righty\"; };\n",
    "Player.prototype.dateCeleb = function() { this.hasCeleGirlfriend = true; };\n",
    "Player.prototype.fixEyes = function() { this.wearGlasses = false; };\n",
    "\n",
    "// 原型属性 -- 任何人都可以读取或写入\n",
    "Player.prototype.wearGlasses = true;\n",
    "\n",
    "// 静态属性 -- 任何人都可以读取或写入\n",
    "Player.noOfPlayers = 0;\n",
    "\n",
    "(function test() {\n",
    "    var cricketer = new Player(\"Vivian\", \"Cricket\", 23, \"England\");\n",
    "    var golfer = new Player(\"Pete\", \"Golf\", 32, \"USA\");\n",
    "    console.log(\"So far there are \"+Player.noOfPlayers + \" in the guild\");\n",
    "    cricketer.fixEyes();\n",
    "    golfer.fixEyes();\n",
    "\n",
    "    cricketer.endorses = \"Other Brand\";\n",
    "    Player.prototype.fixEyes = function() {\n",
    "        this.wearGlasses = true;\n",
    "    }\n",
    "    cricketer.switchHands = function() {\n",
    "        this.batPreference = \"undecided\";\n",
    "    };\n",
    "})();"
   ]
  },
  {
   "attachments": {},
   "cell_type": "markdown",
   "metadata": {},
   "source": [
    "### 继承\n",
    "\n",
    "在OOP中经常会看到一堆对象都实现了相同的方法，除了少数几个方法外，几乎会看到一模一样的对象定义。继承在提高代码重用率方面效果显著。传统上，继承用于建立或描述一种IS-A的关系，这就是所谓的类继承。JavaScript使用原型来实现继承。在原型继承中，实例从其他实例中继承。就继承而言，JavaScript只使用对象。每个对象都有一个链接，指向另一个称为原型的对象。这个原型对象也有自己的原型，以此类推，直到出现一个原型为null的对象(它作为原型链中最后一环)。"
   ]
  },
  {
   "attachments": {},
   "cell_type": "markdown",
   "metadata": {},
   "source": [
    "仅仅通过将属性复制给prototype无法使得一个对象成为另一个对象的实例。"
   ]
  },
  {
   "cell_type": "code",
   "execution_count": 1,
   "metadata": {},
   "outputs": [
    {
     "name": "stdout",
     "output_type": "stream",
     "text": [
      "true\n",
      "false\n",
      "true\n"
     ]
    }
   ],
   "source": [
    "function Person() {}\n",
    "Person.prototype.cry = function() {\n",
    "    console.log(\"Crying...\");\n",
    "}\n",
    "function Child() {}\n",
    "Child.prototype = {cry: Person.prototype.cry};\n",
    "var aChild = new Child();\n",
    "console.log(aChild instanceof Child);\n",
    "console.log(aChild instanceof Person);\n",
    "console.log(aChild instanceof Object);"
   ]
  },
  {
   "attachments": {},
   "cell_type": "markdown",
   "metadata": {},
   "source": [
    "在JavaScript中可以将对象的实例作为原型来实现。"
   ]
  },
  {
   "cell_type": "code",
   "execution_count": 8,
   "metadata": {},
   "outputs": [
    {
     "name": "stdout",
     "output_type": "stream",
     "text": [
      "true\n",
      "true\n",
      "true\n"
     ]
    }
   ],
   "source": [
    "function Person() {}\n",
    "Person.prototype.cry = function() {\n",
    "    console.log(\"Crying...\");\n",
    "}\n",
    "function Child() {}\n",
    "Child.prototype = new Person();\n",
    "var aChild = new Child();\n",
    "console.log(aChild instanceof Child);\n",
    "console.log(aChild instanceof Person);\n",
    "console.log(aChild instanceof Object);"
   ]
  },
  {
   "attachments": {},
   "cell_type": "markdown",
   "metadata": {},
   "source": [
    "JavaScript中的instance关系真的迷惑。(`感觉像是如果A是B的instance则A的_prototype_属性的_prototype_和B的_prototype_是一样的`)"
   ]
  },
  {
   "cell_type": "code",
   "execution_count": 10,
   "metadata": {},
   "outputs": [
    {
     "name": "stdout",
     "output_type": "stream",
     "text": [
      "true\n",
      "true\n",
      "true\n",
      "false\n",
      "true\n",
      "false\n",
      "false\n",
      "false\n",
      "true\n",
      "{}\n",
      "{ name: '', salary: 'None' }\n",
      "{}\n",
      "false\n",
      "true\n",
      "true\n"
     ]
    }
   ],
   "source": [
    "function Employee() {\n",
    "    this.name = \"\";\n",
    "    this.salary = \"None\";\n",
    "}\n",
    "\n",
    "Employee.prototype = {};\n",
    "\n",
    "function Manager1() {\n",
    "    this.reports = []\n",
    "}\n",
    "function Manager2() {\n",
    "    this.reports = []\n",
    "}\n",
    "Manager1.prototype = new Employee();\n",
    "Manager2.prototype = Object.create(Employee.prototype);\n",
    "\n",
    "mike = new Employee();\n",
    "\n",
    "andy = new Manager1();\n",
    "mary = new Manager2();\n",
    "\n",
    "console.log(mike instanceof Employee);\n",
    "console.log(andy instanceof Employee);\n",
    "console.log(mary instanceof Employee);\n",
    "console.log(mike instanceof Manager1);\n",
    "console.log(andy instanceof Manager1);\n",
    "console.log(mary instanceof Manager1);\n",
    "console.log(mike instanceof Manager2);\n",
    "console.log(andy instanceof Manager2);\n",
    "console.log(mary instanceof Manager2);\n",
    "\n",
    "console.log(Employee.prototype);\n",
    "console.log(Manager1.prototype);\n",
    "console.log(Manager2.prototype);\n",
    "\n",
    "console.log(Employee.prototype instanceof Employee);\n",
    "console.log(Manager1.prototype instanceof Employee);\n",
    "console.log(Manager2.prototype instanceof Employee);\n"
   ]
  },
  {
   "attachments": {},
   "cell_type": "markdown",
   "metadata": {},
   "source": [
    "大多数时候，我们希望`Child.prototype`是一个能够通过其原型链接到`Parent.prototype`上的对象,我们有时可能并不想执行Parent的构造函数包含的其他对Parent类的逻辑，我们并不想在创建Child对象时执行它们，这会导致难以排查的错误。要想拥有一个既没有副作用又准确无误的继承机制，必须确保执行以下操作:\n",
    "- 将原型设置成父类的实例来初始化原型链\n",
    "- 调用父类的构造函数来初始化对象自身"
   ]
  },
  {
   "cell_type": "code",
   "execution_count": 33,
   "metadata": {},
   "outputs": [
    {
     "data": {
      "text/plain": [
       "Employee {}"
      ]
     },
     "execution_count": 33,
     "metadata": {},
     "output_type": "execute_result"
    }
   ],
   "source": [
    "function Employee() {\n",
    "    this.name = \"\";\n",
    "    this.debt = \"None\";\n",
    "    this.salary = 0.00;\n",
    "}\n",
    "\n",
    "function Manager() {\n",
    "    Employee.call(this);\n",
    "    this.reports = [];\n",
    "}\n",
    "Manager.prototype = Object.create(Employee.prototype);"
   ]
  },
  {
   "attachments": {},
   "cell_type": "markdown",
   "metadata": {},
   "source": [
    "JavaScript在处理new操作符时，会创建一个新对象，然后将这个新对象作为this的值传给构造函数，该构造函数执行相应的属性的设置，并将内部属性`_prototype_`设置成构造函数原型的值。`_prototype_`属性决定了用于返回属性值的原型链。当需要读取某个属性值时，JavaScript首先会检查是否在该对象中找到这个属性的值，如果找到就返回该属性值，否则就利用`_prototype_`属性到原型链中去查找。"
   ]
  },
  {
   "cell_type": "markdown",
   "metadata": {},
   "source": [
    "如果希望在运行时修改属性值并使所有后代能够继承到该值,就不能把属性定义到对象的构造函数中(这样在对象创建时,会有同名的本地值,不会再到原型中去找),而是将属性添加到构造函数的原型中。"
   ]
  },
  {
   "cell_type": "code",
   "execution_count": 34,
   "metadata": {},
   "outputs": [
    {
     "name": "stdout",
     "output_type": "stream",
     "text": [
      "Junk\n",
      "Junk\n"
     ]
    }
   ],
   "source": [
    "function Employee() {\n",
    "    this.debt = \"None\";\n",
    "    this.salary = \"None\";\n",
    "}\n",
    "\n",
    "Employee.prototype.name = \"\";\n",
    "function Manager() {\n",
    "    this.reports = [];\n",
    "}\n",
    "\n",
    "Manager.prototype = new Employee();\n",
    "var sandy = new Manager();\n",
    "var karen = new Manager();\n",
    "\n",
    "Employee.prototype.name = \"Junk\";\n",
    "console.log(sandy.name);\n",
    "console.log(karen.name);"
   ]
  },
  {
   "attachments": {},
   "cell_type": "markdown",
   "metadata": {},
   "source": [
    "### 接收器和设置器\n",
    "\n",
    "接收器用于获取特定属性的值，设置器用于获取特定属性的值。除了直接实现对应的函数外,还有两种方式创建接收器和设置器。"
   ]
  },
  {
   "cell_type": "code",
   "execution_count": 11,
   "metadata": {},
   "outputs": [
    {
     "name": "stdout",
     "output_type": "stream",
     "text": [
      "Issac\n",
      "Newton\n",
      "Issac Newton\n"
     ]
    }
   ],
   "source": [
    "var person = {\n",
    "    firstname: \"Albert\",\n",
    "    lastname: \"Einstein\",\n",
    "    get fullname() {\n",
    "        return this.firstname + \" \" + this.lastname;\n",
    "    },\n",
    "    set fullname(_name) {\n",
    "        var word = _name.toString().split(' ');\n",
    "        this.firstname = word[0];\n",
    "        this.lastname = word[1];\n",
    "    }\n",
    "};\n",
    "\n",
    "person.fullname = \"Issac Newton\";\n",
    "console.log(person.firstname);\n",
    "console.log(person.lastname);\n",
    "console.log(person.fullname);"
   ]
  },
  {
   "cell_type": "code",
   "execution_count": 12,
   "metadata": {},
   "outputs": [
    {
     "name": "stdout",
     "output_type": "stream",
     "text": [
      "Issac\n",
      "Newton\n",
      "Issac Newton\n"
     ]
    }
   ],
   "source": [
    "var person = {\n",
    "    firstname: \"Albert\",\n",
    "    lastname: \"Einstein\",\n",
    "};\n",
    "\n",
    "Object.defineProperty(person, \"fullname\", {\n",
    "    get: function() {\n",
    "        return this.firstname + \" \" + this.lastname;\n",
    "    },\n",
    "    set: function(name) {\n",
    "        var word = name.toString().split(' ');\n",
    "        this.firstname = word[0];\n",
    "        this.lastname = word[1];\n",
    "    }\n",
    "})\n",
    "\n",
    "person.fullname = \"Issac Newton\";\n",
    "console.log(person.firstname);\n",
    "console.log(person.lastname);\n",
    "console.log(person.fullname);"
   ]
  }
 ],
 "metadata": {
  "kernelspec": {
   "display_name": "JavaScript (Node.js)",
   "language": "javascript",
   "name": "javascript"
  },
  "language_info": {
   "file_extension": ".js",
   "mimetype": "application/javascript",
   "name": "javascript",
   "version": "10.19.0"
  },
  "orig_nbformat": 4
 },
 "nbformat": 4,
 "nbformat_minor": 2
}
