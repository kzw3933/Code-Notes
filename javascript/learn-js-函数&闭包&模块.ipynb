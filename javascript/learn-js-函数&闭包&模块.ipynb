{
 "cells": [
  {
   "attachments": {},
   "cell_type": "markdown",
   "id": "eb2e8c3b",
   "metadata": {},
   "source": [
    "## JavaScript函数、闭包、模块\n",
    "\n",
    "  Javascript中，函数是头等对象，其处理方式与其他JavaScript对象无异，和其他JavaScript数据类型一样，函数可以被变量引用，可以使用字面形式声明，甚至可以作为函数参数传递。"
   ]
  },
  {
   "attachments": {},
   "cell_type": "markdown",
   "id": "a97e42f5",
   "metadata": {},
   "source": [
    "### 函数的字面形式\n",
    "\n",
    "函数的字面形式由4部分组成:\n",
    "- function关键字\n",
    "- 可选的函数名称(合法的JavaScript标识符)\n",
    "- 放在括号内的参数列表(可以为空)\n",
    "- 包含在大括号内的函数体(一系列JavaScript语句)"
   ]
  },
  {
   "attachments": {},
   "cell_type": "markdown",
   "id": "a8b8dbe3",
   "metadata": {},
   "source": [
    "### 函数声明"
   ]
  },
  {
   "attachments": {},
   "cell_type": "markdown",
   "id": "7cca3eb9",
   "metadata": {},
   "source": [
    "#### 1. 函数语句\n",
    "\n",
    "使用函数语句来声明,使用这种方法声明，函数的内容会被编译并创建一个与函数同名的对象。"
   ]
  },
  {
   "cell_type": "code",
   "execution_count": 1,
   "id": "5e8f9c5d",
   "metadata": {},
   "outputs": [
    {
     "name": "stdout",
     "output_type": "stream",
     "text": [
      "3\n"
     ]
    }
   ],
   "source": [
    "// 使用函数语句来声明\n",
    "function add(a,b) {\n",
    "    return a + b;\n",
    "}\n",
    "c = add(1,2);\n",
    "console.log(c); // 打印出3\n"
   ]
  },
  {
   "attachments": {},
   "cell_type": "markdown",
   "id": "c0860cb6",
   "metadata": {},
   "source": [
    "#### 2. 函数表达式 \n",
    "\n",
    "使用函数表达式可以创建匿名函数并赋给变量，该变量随后可以调用函数，使用这种方法的问题在于无法递归调用此函数，解决这种限制的方法是采用具名函数表达式。"
   ]
  },
  {
   "cell_type": "code",
   "execution_count": null,
   "id": "f51b4adc",
   "metadata": {},
   "outputs": [],
   "source": [
    "// 使用匿名函数表达式声明\n",
    "\n",
    "var add = function(a,b) {\n",
    "    return a+b;\n",
    "};\n",
    "\n",
    "c = add(1,2);\n",
    "console.log(c);"
   ]
  },
  {
   "cell_type": "code",
   "execution_count": 2,
   "id": "b82bd59d",
   "metadata": {},
   "outputs": [
    {
     "name": "stdout",
     "output_type": "stream",
     "text": [
      "6\n"
     ]
    }
   ],
   "source": [
    "// 使用具名函数表达式\n",
    "\n",
    "var facto = function factorial(n) {\n",
    "    if (n <= 1) {\n",
    "        return 1;\n",
    "    } \n",
    "    return n * factorial(n-1);\n",
    "};\n",
    "\n",
    "console.log(facto(3));"
   ]
  },
  {
   "attachments": {},
   "cell_type": "markdown",
   "id": "da872411",
   "metadata": {},
   "source": [
    "还可以创建调用自身的函数表达式。"
   ]
  },
  {
   "cell_type": "code",
   "execution_count": 3,
   "id": "9901fb39",
   "metadata": {},
   "outputs": [
    {
     "name": "stdout",
     "output_type": "stream",
     "text": [
      "Hello\n"
     ]
    }
   ],
   "source": [
    "(function sayHello() {\n",
    "    console.log(\"Hello\");\n",
    "})();"
   ]
  },
  {
   "attachments": {},
   "cell_type": "markdown",
   "id": "3933c503",
   "metadata": {},
   "source": [
    "### 函数作为数据"
   ]
  },
  {
   "cell_type": "code",
   "execution_count": 4,
   "id": "fa6145c9",
   "metadata": {},
   "outputs": [
    {
     "name": "stdout",
     "output_type": "stream",
     "text": [
      "{ name: 'Albert Einstein', age: 23 }\n",
      "no errors\n",
      "{ name: 'JS Bach', age: 59 }\n",
      "no errors\n"
     ]
    }
   ],
   "source": [
    "var validateDataForAge = function(data) {\n",
    "    person = data();\n",
    "    console.log(person);\n",
    "    if (person.age < 1 || person.age >99) {\n",
    "        return true;\n",
    "    } else {\n",
    "        return false;\n",
    "    }\n",
    "};\n",
    "\n",
    "var errorHandlerForAge = function(error) {\n",
    "    console.log(\"Error while processing age\");\n",
    "};\n",
    "\n",
    "function parseRequest(data, validateData, errorHandler) {\n",
    "    var error = validateData(data);\n",
    "    if(!error) {\n",
    "        console.log(\"no errors\");\n",
    "    } else {\n",
    "        errorHandler();\n",
    "    }\n",
    "}\n",
    "\n",
    "var generateDataForScientist = function() {\n",
    "    return {\n",
    "        name: \"Albert Einstein\",\n",
    "        age: Math.floor(Math.random()*(100 - 1)) + 1\n",
    "    };\n",
    "}\n",
    "\n",
    "var generateDataForComposer = function() {\n",
    "    return {\n",
    "        name: \"JS Bach\",\n",
    "        age: Math.floor(Math.random()*(100 - 1)) + 1\n",
    "    };\n",
    "}\n",
    "\n",
    "parseRequest(generateDataForScientist, validateDataForAge, errorHandlerForAge);\n",
    "parseRequest(generateDataForComposer, validateDataForAge, errorHandlerForAge);\n"
   ]
  },
  {
   "attachments": {},
   "cell_type": "markdown",
   "id": "0f5a7794",
   "metadata": {},
   "source": [
    "这里定义了一个通用的parseRequest(),它接受三个函数作为参数，负责将特定的部分组合在一起: 数据、验证器和错误与处理程序。可以对parseRequest函数进行扩展和定制，同时因为每次发起请求都要调用该函数，所以可以作为一个清晰的调试点。"
   ]
  },
  {
   "attachments": {},
   "cell_type": "markdown",
   "id": "880e2116",
   "metadata": {},
   "source": [
    "### 作用域\n",
    "\n",
    "一个变量的作用域就是这个变量的上下文。作用域指明了可以从哪里访问到这个变量，以及在该上下文是否可以访问到这个变量。作用域分为全局作用域和局部作用域。"
   ]
  },
  {
   "attachments": {},
   "cell_type": "markdown",
   "id": "9b3f32e8",
   "metadata": {},
   "source": [
    "#### 1. 全局作用域\n",
    "\n",
    "声明的所有变量都定义在全局作用域，全局变量在所有的作用域都可见，所以在任何作用域都可以修改全局变量。\n",
    "可以使用两种方式创建全局变量:\n",
    "- 在所有函数外部使用var声明变量\n",
    "- 在声明变量时忽略var语句(隐式全局变量)"
   ]
  },
  {
   "cell_type": "code",
   "execution_count": 5,
   "id": "c2674648",
   "metadata": {},
   "outputs": [
    {
     "name": "stdout",
     "output_type": "stream",
     "text": [
      "1\n",
      "2\n",
      "2\n"
     ]
    }
   ],
   "source": [
    "var a = 1;\n",
    "function test() {\n",
    "    a = 2;\n",
    "    console.log(a);\n",
    "}\n",
    "\n",
    "console.log(a);\n",
    "test();\n",
    "console.log(a);"
   ]
  },
  {
   "attachments": {},
   "cell_type": "markdown",
   "id": "315c663f",
   "metadata": {},
   "source": [
    "#### 2. 局部作用域\n",
    "\n",
    "和大多数编程语言不同，JavaScript没有块作用域(变量在大括号中),但是有函数作用域,在函数内声明的变量是局部变量，只能由该函数中或是由该函数中的函数使用。"
   ]
  },
  {
   "cell_type": "code",
   "execution_count": 6,
   "id": "78625b5d",
   "metadata": {},
   "outputs": [
    {
     "name": "stdout",
     "output_type": "stream",
     "text": [
      "Global\n",
      "Local\n"
     ]
    }
   ],
   "source": [
    "var scope_name = \"Global\";\n",
    "\n",
    "function showScopeName() {\n",
    "    var scope_name = \"Local\";\n",
    "    console.log(scope_name);\n",
    "}\n",
    "console.log(scope_name);\n",
    "\n",
    "showScopeName();"
   ]
  },
  {
   "attachments": {},
   "cell_type": "markdown",
   "id": "8acbf55a",
   "metadata": {},
   "source": [
    "JavaScript使用作用域链来建立某个函数的作用域。通常只有一个全局作用域，每个函数有自己的嵌套作用域。在函数内部定义的函数也有局部作用域，该作用域与外围函数的作用域是链接在一起的，函数在作用域中的位置与其出现在源代码中的位置是一致的，在解析时，JavaScript从最内的作用域开始向外搜索。"
   ]
  },
  {
   "cell_type": "code",
   "execution_count": 8,
   "id": "d461d107",
   "metadata": {},
   "outputs": [
    {
     "name": "stdout",
     "output_type": "stream",
     "text": [
      "5\n",
      "6\n"
     ]
    }
   ],
   "source": [
    "var testNum = 4;\n",
    "function testOuter() {\n",
    "    var testNum = 5;\n",
    "    function testInner1() {\n",
    "        console.log(testNum);\n",
    "    }\n",
    "    function testInner2() {\n",
    "        var testNum = 6;\n",
    "        console.log(testNum);\n",
    "    }\n",
    "    testInner1();\n",
    "    testInner2();\n",
    "}\n",
    "testOuter();"
   ]
  },
  {
   "attachments": {},
   "cell_type": "markdown",
   "id": "2ee08cab",
   "metadata": {},
   "source": [
    "利用函数作为作用域在JavaScript中实现模块化和正确性"
   ]
  },
  {
   "cell_type": "code",
   "execution_count": 9,
   "id": "e06a5d09",
   "metadata": {},
   "outputs": [
    {
     "name": "stdout",
     "output_type": "stream",
     "text": [
      "2\n",
      "1\n"
     ]
    }
   ],
   "source": [
    "var a = 1;\n",
    "// 引入函数作用域\n",
    "function foo() {\n",
    "    var a = 2;\n",
    "    console.log(a);\n",
    "}\n",
    "foo();\n",
    "console.log(a);"
   ]
  },
  {
   "attachments": {},
   "cell_type": "markdown",
   "id": "d4784590",
   "metadata": {},
   "source": [
    "但这种方式为了创建函数作用域而创建具名函数，却造成了全局作用域或父作用域的污染。另外还必须不停地调用这些函数，由此所引入的大量编写套路会使得代码的可读性越来越差。不过，可以创建能够立即执行的函数(**实际上是个函数表达式,IIFE**)来解决这个问题,它可以避免作用域的污染。"
   ]
  },
  {
   "cell_type": "code",
   "execution_count": 10,
   "id": "a7cc919b",
   "metadata": {},
   "outputs": [
    {
     "name": "stdout",
     "output_type": "stream",
     "text": [
      "2\n",
      "1\n"
     ]
    }
   ],
   "source": [
    "var a = 1;\n",
    "(function foo() {\n",
    "    var a = 2;\n",
    "    console.log(a);\n",
    "})();  // 该函数立即执行\n",
    "console.log(a);"
   ]
  },
  {
   "attachments": {},
   "cell_type": "markdown",
   "id": "3633ef20",
   "metadata": {},
   "source": [
    "但是以IIFE的形式创建匿名函数还是有一些缺点:\n",
    "- 在栈调试过程中无法看到函数名，很难对这种代码进行调试\n",
    "- 无法对匿名函数进行递归\n",
    "- 过多地使用匿名IIFE有时使代吗难以阅读"
   ]
  },
  {
   "attachments": {},
   "cell_type": "markdown",
   "id": "568ef0dc",
   "metadata": {},
   "source": [
    "IIFE也能传递参数"
   ]
  },
  {
   "cell_type": "code",
   "execution_count": 11,
   "id": "1fd7e313",
   "metadata": {},
   "outputs": [
    {
     "name": "stdout",
     "output_type": "stream",
     "text": [
      "5\n"
     ]
    }
   ],
   "source": [
    "(function foo(b) {\n",
    "    var a = 2;\n",
    "    console.log(a + b);\n",
    "})(3);"
   ]
  },
  {
   "attachments": {},
   "cell_type": "markdown",
   "id": "a920059f",
   "metadata": {},
   "source": [
    "行内函数表达式还有一种流行的用法，作为其他函数的参数。"
   ]
  },
  {
   "cell_type": "code",
   "execution_count": 13,
   "id": "f85dbf68",
   "metadata": {},
   "outputs": [
    {
     "name": "stdout",
     "output_type": "stream",
     "text": [
      "Setting active tab\n"
     ]
    }
   ],
   "source": [
    "function setActiveTab(activeTabHandler, tab) {\n",
    "    activeTabHandler();\n",
    "}\n",
    "\n",
    "setActiveTab( function () {\n",
    "    console.log(\"Setting active tab\");\n",
    "}, 1);"
   ]
  },
  {
   "attachments": {},
   "cell_type": "markdown",
   "id": "596a683c",
   "metadata": {},
   "source": [
    "#### 3. 块作用域\n",
    "新的ES6引入关键字let，用于生成传统的块作用域。但就目前而言，大多数主流浏览器默认并不支持ES6"
   ]
  },
  {
   "cell_type": "code",
   "execution_count": 14,
   "id": "d9e4938f",
   "metadata": {},
   "outputs": [
    {
     "name": "stdout",
     "output_type": "stream",
     "text": [
      "42\n"
     ]
    },
    {
     "ename": "ReferenceError",
     "evalue": "bar is not defined",
     "output_type": "error",
     "traceback": [
      "evalmachine.<anonymous>:8",
      "console.log(bar);",
      "            ^",
      "",
      "ReferenceError: bar is not defined",
      "    at evalmachine.<anonymous>:8:13",
      "    at Script.runInThisContext (vm.js:122:20)",
      "    at Object.runInThisContext (vm.js:329:38)",
      "    at run ([eval]:1020:15)",
      "    at onRunRequest ([eval]:864:18)",
      "    at onMessage ([eval]:828:13)",
      "    at process.emit (events.js:198:13)",
      "    at emit (internal/child_process.js:832:12)",
      "    at process._tickCallback (internal/process/next_tick.js:63:19)"
     ]
    }
   ],
   "source": [
    "var foo = true;\n",
    "\n",
    "if(foo) {\n",
    "    let bar = 42;\n",
    "    console.log(bar);\n",
    "}\n",
    "\n",
    "console.log(bar);"
   ]
  },
  {
   "attachments": {},
   "cell_type": "markdown",
   "id": "5eeb352a",
   "metadata": {},
   "source": [
    "#### 4. 变量提升\n",
    "\n",
    "变量和函数的声明被移到了代码的顶部(就是常说的变量提升)，只有声明才会被提升，而赋值和其他可执行的逻辑仍然保留在原位置。关于提升，它是以作用域为单位的，在函数中，变量声明会被提升到函数的顶部。"
   ]
  },
  {
   "cell_type": "code",
   "execution_count": 13,
   "id": "b9478689",
   "metadata": {},
   "outputs": [
    {
     "name": "stdout",
     "output_type": "stream",
     "text": [
      "undefined\n",
      "1\n"
     ]
    }
   ],
   "source": [
    "foo();\n",
    "function foo() {\n",
    "    console.log(a);\n",
    "    var a = 1;\n",
    "    console.log(a);\n",
    "}"
   ]
  },
  {
   "attachments": {},
   "cell_type": "markdown",
   "id": "0f72778d",
   "metadata": {},
   "source": [
    "对于函数定义的两种方式，在变量提升方面也有不同的表现"
   ]
  },
  {
   "cell_type": "code",
   "execution_count": 18,
   "id": "cbbf38b5",
   "metadata": {},
   "outputs": [
    {
     "name": "stdout",
     "output_type": "stream",
     "text": [
      "functionTwo\n"
     ]
    },
    {
     "ename": "TypeError",
     "evalue": "functionOne is not a function",
     "output_type": "error",
     "traceback": [
      "evalmachine.<anonymous>:2",
      "functionOne();",
      "^",
      "",
      "TypeError: functionOne is not a function",
      "    at evalmachine.<anonymous>:2:1",
      "    at Script.runInThisContext (vm.js:122:20)",
      "    at Object.runInThisContext (vm.js:329:38)",
      "    at run ([eval]:1020:15)",
      "    at onRunRequest ([eval]:864:18)",
      "    at onMessage ([eval]:828:13)",
      "    at process.emit (events.js:198:13)",
      "    at emit (internal/child_process.js:832:12)",
      "    at process._tickCallback (internal/process/next_tick.js:63:19)"
     ]
    }
   ],
   "source": [
    "functionTwo();\n",
    "functionOne();\n",
    "\n",
    "var functionOne = function() {\n",
    "    console.log(\"functionOne\");\n",
    "}\n",
    "\n",
    "function functionTwo() {\n",
    "    console.log(\"functionTwo\");\n",
    "}"
   ]
  },
  {
   "attachments": {},
   "cell_type": "markdown",
   "id": "389cb54b",
   "metadata": {},
   "source": [
    "关于声明，需要注意的是不要根据条件来声明变量或函数，以免产生无法预测的结果。"
   ]
  },
  {
   "attachments": {},
   "cell_type": "markdown",
   "id": "6bd60ee0",
   "metadata": {},
   "source": [
    "### arguments参数\n",
    "\n",
    "arguments参数是传递给函数的所有参数的集合，这个集合有个length属性，包含参数的个数，单个参数的值可以使用索引获得，需要注意的是，arguments并不是JavaScript数组，不要在其上使用数组方法。"
   ]
  },
  {
   "cell_type": "code",
   "execution_count": 20,
   "id": "7390768d",
   "metadata": {},
   "outputs": [
    {
     "name": "stdout",
     "output_type": "stream",
     "text": [
      "78\n"
     ]
    }
   ],
   "source": [
    "var sum = function() {\n",
    "    var i, total = 0;\n",
    "    for(i = 0; i < arguments.length; i++) {\n",
    "        total += arguments[i];\n",
    "    }\n",
    "    return total;\n",
    "}\n",
    "\n",
    "console.log(sum(1,2,3,4,5,6,7,8,9,10,11,12));"
   ]
  },
  {
   "attachments": {},
   "cell_type": "markdown",
   "id": "ffcc89c2",
   "metadata": {},
   "source": [
    "### this参数\n",
    "\n",
    "当函数被调用时，除了在调用时明确给出的哪些参数，还有个叫做this的隐式参数也会传入函数，它指向一个与次函数调用相关联的对象，该对象称为函数上下文。\n",
    "this的值是由函数的调用上下文以及调用位置决定的:\n",
    "- 当this用于全局上下文: 如果是在全局上下文中使用this，它就会被绑定到全局上下文。\n",
    "- 当this用于对象方法中: 在这种情况下, this被赋值或绑定到包含对象上。\n",
    "- 如果不存在上下文: 当一个函数不跟随任何对象调用时，就不会有上下文，默认情况下，它就会被绑定到全局上下文。如果在这种函数中使用this,它也会被绑定到全局上下文。\n",
    "- 当this被用于构造函数中: this指向被构造的对象。"
   ]
  },
  {
   "attachments": {},
   "cell_type": "markdown",
   "id": "e3e5d273",
   "metadata": {},
   "source": [
    "#### 1. 作为函数调用\n",
    "\n",
    "如果函数不是以方法、构造函数或通过apply(),call()调用，那么它只是作为一个函数被调用,当函数以这种方式被调用时，this被绑定到全局对象上。"
   ]
  },
  {
   "cell_type": "code",
   "execution_count": 5,
   "id": "6295f2ec",
   "metadata": {},
   "outputs": [
    {
     "name": "stdout",
     "output_type": "stream",
     "text": [
      "Object [global] {\n",
      "  global: [Circular],\n",
      "  process:\n",
      "   process {\n",
      "     title: '',\n",
      "     version: 'v10.19.0',\n",
      "     versions:\n",
      "      { http_parser: '2.9.3',\n",
      "        node: '10.19.0',\n",
      "        v8: '6.8.275.32-node.55',\n",
      "        uv: '1.34.2',\n",
      "        zlib: '1.2.11',\n",
      "        brotli: '1.0.7',\n",
      "        ares: '1.15.0',\n",
      "        modules: '64',\n",
      "        nghttp2: '1.40.0',\n",
      "        napi: '5',\n",
      "        openssl: '1.1.1d',\n",
      "        icu: '66.1',\n",
      "        unicode: '13.0',\n",
      "        cldr: '36.1',\n",
      "        tz: '2022g' },\n",
      "     arch: 'x64',\n",
      "     platform: 'linux',\n",
      "     release:\n",
      "      { name: 'node',\n",
      "        lts: 'Dubnium',\n",
      "        sourceUrl:\n",
      "         'https://nodejs.org/download/release/v10.19.0/node-v10.19.0.tar.gz',\n",
      "        headersUrl:\n",
      "         'https://nodejs.org/download/release/v10.19.0/node-v10.19.0-headers.tar.gz' },\n",
      "     argv: [ '/usr/bin/node' ],\n",
      "     execArgv:\n",
      "      [ '--eval',\n",
      "        '(function() {\\n/*\\n * BSD 3-Clause License\\n *\\n * Copyright (c) 2018, Nicolas Riesco and others as credited in the AUTHORS file\\n * All rights reserved.\\n *\\n * Redistribution and use in source and binary forms, with or without\\n * modification, are permitted provided that the following conditions are met:\\n *\\n * 1. Redistributions of source code must retain the above copyright notice,\\n * this list of conditions and the following disclaimer.\\n *\\n * 2. Redistributions in binary form must reproduce the above copyright notice,\\n * this list of conditions and the following disclaimer in the documentation\\n * and/or other materials provided with the distribution.\\n *\\n * 3. Neither the name of the copyright holder nor the names of its contributors\\n * may be used to endorse or promote products derived from this software without\\n * specific prior written permission.\\n *\\n * THIS SOFTWARE IS PROVIDED BY THE COPYRIGHT HOLDERS AND CONTRIBUTORS \"AS IS\"\\n * AND ANY EXPRESS OR IMPLIED WARRANTIES, INCLUDING, BUT NOT LIMITED TO, THE\\n * IMPLIED WARRANTIES OF MERCHANTABILITY AND FITNESS FOR A PARTICULAR PURPOSE\\n * ARE DISCLAIMED. IN NO EVENT SHALL THE COPYRIGHT HOLDER OR CONTRIBUTORS BE\\n * LIABLE FOR ANY DIRECT, INDIRECT, INCIDENTAL, SPECIAL, EXEMPLARY, OR\\n * CONSEQUENTIAL DAMAGES (INCLUDING, BUT NOT LIMITED TO, PROCUREMENT OF\\n * SUBSTITUTE GOODS OR SERVICES; LOSS OF USE, DATA, OR PROFITS; OR BUSINESS\\n * INTERRUPTION) HOWEVER CAUSED AND ON ANY THEORY OF LIABILITY, WHETHER IN\\n * CONTRACT, STRICT LIABILITY, OR TORT (INCLUDING NEGLIGENCE OR OTHERWISE)\\n * ARISING IN ANY WAY OUT OF THE USE OF THIS SOFTWARE, EVEN IF ADVISED OF THE\\n * POSSIBILITY OF SUCH DAMAGE.\\n *\\n */\\n\\n/* eslint-disable no-unused-vars */\\nvar console = require(\"console\");\\nvar stream = require(\"stream\");\\nvar util = require(\"util\");\\nvar vm = require(\"vm\");\\n/* eslint-enable no-unused-vars */\\n\\n/*\\n * BSD 3-Clause License\\n *\\n * Copyright (c) 2015, Nicolas Riesco and others as credited in the AUTHORS file\\n * All rights reserved.\\n *\\n * Redistribution and use in source and binary forms, with or without\\n * modification, are permitted provided that the following conditions are met:\\n *\\n * 1. Redistributions of source code must retain the above copyright notice,\\n * this list of conditions and the following disclaimer.\\n *\\n * 2. Redistributions in binary form must reproduce the above copyright notice,\\n * this list of conditions and the following disclaimer in the documentation\\n * and/or other materials provided with the distribution.\\n *\\n * 3. Neither the name of the copyright holder nor the names of its contributors\\n * may be used to endorse or promote products derived from this software without\\n * specific prior written permission.\\n *\\n * THIS SOFTWARE IS PROVIDED BY THE COPYRIGHT HOLDERS AND CONTRIBUTORS \"AS IS\"\\n * AND ANY EXPRESS OR IMPLIED WARRANTIES, INCLUDING, BUT NOT LIMITED TO, THE\\n * IMPLIED WARRANTIES OF MERCHANTABILITY AND FITNESS FOR A PARTICULAR PURPOSE\\n * ARE DISCLAIMED. IN NO EVENT SHALL THE COPYRIGHT HOLDER OR CONTRIBUTORS BE\\n * LIABLE FOR ANY DIRECT, INDIRECT, INCIDENTAL, SPECIAL, EXEMPLARY, OR\\n * CONSEQUENTIAL DAMAGES (INCLUDING, BUT NOT LIMITED TO, PROCUREMENT OF\\n * SUBSTITUTE GOODS OR SERVICES; LOSS OF USE, DATA, OR PROFITS; OR BUSINESS\\n * INTERRUPTION) HOWEVER CAUSED AND ON ANY THEORY OF LIABILITY, WHETHER IN\\n * CONTRACT, STRICT LIABILITY, OR TORT (INCLUDING NEGLIGENCE OR OTHERWISE)\\n * ARISING IN ANY WAY OUT OF THE USE OF THIS SOFTWARE, EVEN IF ADVISED OF THE\\n * POSSIBILITY OF SUCH DAMAGE.\\n *\\n */\\n\\n/* global console */\\n/* global stream */\\n/* global util */\\n\\n/* global Promise */\\n\\n/* global log */\\n/* global Display */\\n\\nfunction Stdout(contextId, opt) {\\n    stream.Transform.call(this, opt);\\n\\n    this._contextId = contextId;\\n}\\n\\nStdout.prototype = Object.create(stream.Transform.prototype);\\n\\nStdout.prototype._transform = function(data, encoding, callback) {\\n    var response = {\\n        id: this._contextId,\\n        stdout: data.toString(),\\n    };\\n    log(\"STDOUT:\", response);\\n    process.send(response);\\n    this.push(data);\\n    callback();\\n};\\n\\nfunction Stderr(contextId, opt) {\\n    stream.Transform.call(this, opt);\\n\\n    this._contextId = contextId;\\n}\\n\\nStderr.prototype = Object.create(stream.Transform.prototype);\\n\\nStderr.prototype._transform = function(data, encoding, callback) {\\n    var response = {\\n        id: this._contextId,\\n        stderr: data.toString(),\\n    };\\n    log(\"STDERR:\", response);\\n    process.send(response);\\n    this.push(data);\\n    callback();\\n};\\n\\nfunction Requester(contextId) {\\n    // context id\\n    this.contextId = contextId;\\n\\n    // id for next request\\n    this.requestId = 0;\\n\\n    // callback associated with a request (indexed by id)\\n    this.callbacks = {};\\n\\n    // the Promise resolve callback associated with a request (indexed by id)\\n    this.resolves = {};\\n\\n    // the Promise reject callback associated with a request (indexed by id)\\n    this.rejects = {};\\n}\\n\\n// send a request\\nRequester.prototype.send = function send(request, callback) {\\n    var requestId = this.requestId++;\\n    request.id = requestId;\\n\\n    if (callback) {\\n        this.callbacks[requestId] = callback;\\n    }\\n\\n    var promise;\\n    if (global.Promise) {\\n        promise = new Promise(function(resolve, reject) {\\n            this.resolves[requestId] = resolve;\\n            this.rejects[requestId] = reject;\\n        }.bind(this));\\n    }\\n\\n    process.send({\\n        id: this.contextId,\\n        request: request,\\n    });\\n\\n    return promise;\\n};\\n\\n// pass reply to the callbacks associated with a request\\nRequester.prototype.receive = function receive(requestId, reply) {\\n    var callback = this.callbacks[requestId];\\n    if (callback) {\\n        delete this.callbacks[requestId];\\n        callback(null, reply);\\n    }\\n\\n    var resolve = this.resolves[requestId];\\n    if (resolve) {\\n        delete this.resolves[requestId];\\n        delete this.rejects[requestId];\\n        resolve(reply);\\n    }\\n};\\n\\nfunction Context(id) {\\n    this.id = id;\\n\\n    this.requester = new Requester(this.id);\\n\\n    this.stdout = new Stdout(this.id);\\n    this.stderr = new Stderr(this.id);\\n    this.console = new console.Console(this.stdout, this.stderr);\\n\\n    this._capturedStdout = null;\\n    this._capturedStderr = null;\\n    this._capturedConsole = null;\\n\\n    this._async = false;\\n    this._done = false;\\n\\n    // `$$` provides an interface for users to access the execution context\\n    this.$$ = Object.create(null);\\n\\n    // `$$.config` provides an interface to configure NEL\\'s features.\\n    // * If `$$.config.awaitExecution` is set to `true`,\\n    //   then execution requests that return a Promise will automatically\\n    //   invoke `$$.async()` and the execution result will be replaced with the\\n    //   value resolved by the promise.\\n    Context.config = Context.config || {\\n        awaitExecution: false,\\n    };\\n    Object.defineProperty(this.$$, \"config\", {\\n        value: Context.config,\\n        configurable: false,\\n        writable: false,\\n        enumerable: false,\\n    });\\n\\n    this.$$.async = (function async(value) {\\n        this._async = (arguments.length === 0) ? true : !!value;\\n        return this._async;\\n    }).bind(this);\\n\\n    this.$$.done = (function done(result) {\\n        this.send({\\n            mime: toMime(result),\\n        }, false);\\n    }).bind(this);\\n\\n    this.$$.sendResult = resolvePromise.call(this, this.sendResult);\\n\\n    this.$$.sendError = resolvePromise.call(this, this.sendError);\\n\\n    this.$$.mime = resolvePromise.call(this,\\n        function sendMime(mimeBundle, keepAlive) {\\n            this.send({\\n                mime: mimeBundle,\\n            }, keepAlive);\\n        }\\n    );\\n\\n    this.$$.text = resolvePromise.call(this,\\n        function sendText(text, keepAlive) {\\n            this.send({\\n                mime: {\\n                    \"text/plain\": text,\\n                },\\n            }, keepAlive);\\n        }\\n    );\\n\\n    this.$$.html = resolvePromise.call(this,\\n        function sendHtml(html, keepAlive) {\\n            this.send({\\n                mime: {\\n                    \"text/html\": html,\\n                },\\n            }, keepAlive);\\n        }\\n    );\\n\\n    this.$$.svg = resolvePromise.call(this,\\n        function sendSvg(svg, keepAlive) {\\n            this.send({\\n                mime: {\\n                    \"image/svg+xml\": svg,\\n                },\\n            }, keepAlive);\\n        }\\n    );\\n\\n    this.$$.png = resolvePromise.call(this,\\n        function sendPng(png, keepAlive) {\\n            this.send({\\n                mime: {\\n                    \"image/png\": png,\\n                },\\n            }, keepAlive);\\n        }\\n    );\\n\\n    this.$$.jpeg = resolvePromise.call(this,\\n        function sendJpeg(jpeg, keepAlive) {\\n            this.send({\\n                mime: {\\n                    \"image/jpeg\": jpeg,\\n                },\\n            }, keepAlive);\\n        }\\n    );\\n\\n    this.$$.json = resolvePromise.call(this,\\n        function sendJson(json, keepAlive) {\\n            this.send({\\n                mime: {\\n                    \"application/json\": json,\\n                },\\n            }, keepAlive);\\n        }\\n    );\\n\\n    this.$$.input = (function input(options, callback) {\\n        this.$$.async();\\n\\n        var inputRequest = {\\n            input: options,\\n        };\\n\\n        var inputCallback;\\n        if (typeof callback === \"function\") {\\n            inputCallback = function inputCallback(error, reply) {\\n                callback(error, reply.input);\\n            };\\n        }\\n\\n        var promise = this.requester.send(inputRequest, inputCallback);\\n        if (promise) {\\n            return promise.then(function(reply) { return reply.input; });\\n        }\\n    }).bind(this);\\n\\n    this.$$.display = (function createDisplay(id) {\\n        return (arguments.length === 0) ?\\n            new Display(this.id) :\\n            new Display(this.id, id);\\n    }).bind(this);\\n\\n    this.$$.clear = (function clear(options) {\\n        process.send({\\n            id: this.id,\\n            request: {\\n                clear: options || {},\\n            },\\n        });\\n    }).bind(this);\\n\\n    function isPromise(output) {\\n        if (!global.Promise || typeof global.Promise !== \"function\") {\\n            return false;\\n        }\\n        return output instanceof global.Promise;\\n    }\\n\\n    function resolvePromise(outputHandler) {\\n        return function(output, keepAlive) {\\n            if (isPromise(output)) {\\n                this.$$.async();\\n\\n                output.then(function(resolvedOutput) {\\n                    outputHandler.call(this, resolvedOutput, keepAlive);\\n                }.bind(this)).catch(function(error) {\\n                    this.sendError(error, false);\\n                }.bind(this));\\n\\n                return;\\n            }\\n\\n            outputHandler.apply(this, arguments);\\n        }.bind(this);\\n    }\\n}\\n\\nContext.prototype.sendResult = function sendResult(result, keepAlive) {\\n    this.send({\\n        mime: toMime(result),\\n    }, keepAlive);\\n};\\n\\nContext.prototype.sendError = function sendError(error, keepAlive) {\\n    this.send({\\n        error: formatError(error),\\n    }, keepAlive);\\n};\\n\\nContext.prototype.send = function send(message, keepAlive) {\\n    message.id = this.id;\\n    message.end = !keepAlive;\\n\\n    if (this._done) {\\n        log(\"SEND: Warning! Message dropped:\", message);\\n        return;\\n    }\\n\\n    if (keepAlive) {\\n        this.$$.async();\\n    } else {\\n        this.done();\\n    }\\n\\n    log(\"SEND:\", message);\\n\\n    process.send(message);\\n};\\n\\nContext.prototype.done = function done() {\\n    this._async = false;\\n\\n    if (this._done) {\\n        log(\"DONE: Warning! Context#done already invoked\");\\n    }\\n    this._done = true;\\n\\n    releaseContext(this.id, function onMissing() {\\n        log(\"DONE: Warning! Context already released\");\\n    });\\n};\\n\\nContext.prototype.captureGlobalContext = function captureGlobalContext() {\\n    this._capturedStdout = process.stdout;\\n    this._capturedStderr = process.stderr;\\n    this._capturedConsole = console;\\n\\n    this.stdout.pipe(this._capturedStdout);\\n    this.stderr.pipe(this._capturedStderr);\\n    this.console.Console = this._capturedConsole.Console;\\n\\n    delete process.stdout;\\n    process.stdout = this.stdout;\\n\\n    delete process.stderr;\\n    process.stderr = this.stderr;\\n\\n    delete global.console;\\n    global.console = this.console;\\n\\n    delete global.$$;\\n    global.$$ = this.$$;\\n\\n    if (typeof global.$$mimer$$ !== \"function\") {\\n        global.$$mimer$$ = defaultMimer;\\n    }\\n\\n    delete global.$$mime$$;\\n    Object.defineProperty(global, \"$$mime$$\", {\\n        set: this.$$.mime,\\n        configurable: true,\\n        enumerable: false,\\n    });\\n\\n    delete global.$$html$$;\\n    Object.defineProperty(global, \"$$html$$\", {\\n        set: this.$$.html,\\n        configurable: true,\\n        enumerable: false,\\n    });\\n\\n    delete global.$$svg$$;\\n    Object.defineProperty(global, \"$$svg$$\", {\\n        set: this.$$.svg,\\n        configurable: true,\\n        enumerable: false,\\n    });\\n\\n    delete global.$$png$$;\\n    Object.defineProperty(global, \"$$png$$\", {\\n        set: this.$$.png,\\n        configurable: true,\\n        enumerable: false,\\n    });\\n\\n    delete global.$$jpeg$$;\\n    Object.defineProperty(global, \"$$jpeg$$\", {\\n        set: this.$$.jpeg,\\n        configurable: true,\\n        enumerable: false,\\n    });\\n\\n    delete global.$$async$$;\\n    Object.defineProperty(global, \"$$async$$\", {\\n        get: (function() {\\n            return this._async;\\n        }).bind(this),\\n        set: (function(value) {\\n            this._async = !!value;\\n        }).bind(this),\\n        configurable: true,\\n        enumerable: false,\\n    });\\n\\n    global.$$done$$ = this.$$.done.bind(this);\\n\\n    if (!global.hasOwnProperty(\"$$defaultMimer$$\")) {\\n        Object.defineProperty(global, \"$$defaultMimer$$\", {\\n            value: defaultMimer,\\n            configurable: false,\\n            writable: false,\\n            enumerable: false,\\n        });\\n    }\\n};\\n\\nContext.prototype.releaseGlobalContext = function releaseGlobalContext() {\\n    if (process.stdout === this.stdout) {\\n        this.stdout.unpipe();\\n\\n        delete process.stdout;\\n        process.stdout = this._capturedStdout;\\n\\n        this._capturedStdout = null;\\n    }\\n\\n    if (process.stderr === this.stderr) {\\n        this.stderr.unpipe();\\n\\n        delete process.stderr;\\n        process.stderr = this._capturedStderr;\\n\\n        this._capturedStderr = null;\\n    }\\n\\n    if (global.console === this.console) {\\n        delete global.console;\\n        global.console = this._capturedConsole;\\n\\n        this._capturedConsole = null;\\n    }\\n};\\n\\nfunction formatError(error) {\\n    return {\\n        ename: (error && error.name) ?\\n            error.name : typeof error,\\n        evalue: (error && error.message) ?\\n            error.message : util.inspect(error),\\n        traceback: (error && error.stack) ?\\n            error.stack.split(\"\\\\n\") : [],\\n    };\\n}\\n\\nfunction toMime(result) {\\n    var mimer = (typeof global.$$mimer$$ === \"function\") ?\\n        global.$$mimer$$ :\\n        defaultMimer;\\n    return mimer(result);\\n}\\n\\nfunction defaultMimer(result) { // eslint-disable-line complexity\\n    if (typeof result === \"undefined\") {\\n        return {\\n            \"text/plain\": \"undefined\"\\n        };\\n    }\\n\\n    if (result === null) {\\n        return {\\n            \"text/plain\": \"null\"\\n        };\\n    }\\n\\n    var mime;\\n    if (result._toMime) {\\n        try {\\n            mime = result._toMime();\\n        } catch (error) {}\\n    }\\n    if (typeof mime !== \"object\") {\\n        mime = {};\\n    }\\n\\n    if (!(\"text/plain\" in mime)) {\\n        try {\\n            mime[\"text/plain\"] = util.inspect(result);\\n        } catch (error) {}\\n    }\\n\\n    if (result._toHtml && !(\"text/html\" in mime)) {\\n        try {\\n            mime[\"text/html\"] = result._toHtml();\\n        } catch (error) {}\\n    }\\n\\n    if (result._toSvg && !(\"image/svg+xml\" in mime)) {\\n        try {\\n            mime[\"image/svg+xml\"] = result._toSvg();\\n        } catch (error) {}\\n    }\\n\\n    if (result._toPng && !(\"image/png\" in mime)) {\\n        try {\\n            mime[\"image/png\"] = result._toPng();\\n        } catch (error) {}\\n    }\\n\\n    if (result._toJpeg && !(\"image/jpeg\" in mime)) {\\n        try {\\n            mime[\"image/jpeg\"] = result._toJpeg();\\n        } catch (error) {}\\n    }\\n\\n    return mime;\\n}\\n\\n// Context factory\\nfunction getContext(id, onMissing) {\\n    var cache = getContext.cache = getContext.cache || {};\\n    var context = cache[id];\\n    if (!context) {\\n        onMissing && onMissing();\\n        context = cache[id] = new Context(id);\\n    }\\n    return context;\\n}\\n\\nfunction releaseContext(id, onMissing) {\\n    var context = getContext.cache[id];\\n    if (context) {\\n        log(\"releaseContext: Releasing context\", id);\\n        delete getContext.cache[id];\\n    } else {\\n        log(\"releaseContext: Warning! Context already released\", id);\\n        onMissing && onMissing();\\n    }\\n}\\n\\n// Capture global context (it releases last capture if any)\\nfunction captureGlobalContext(context) { // eslint-disable-line no-unused-vars\\n    var last = captureGlobalContext.last;\\n    last && last.releaseGlobalContext();\\n    context.captureGlobalContext();\\n    captureGlobalContext.last = context;\\n}\\n/*\\n * BSD 3-Clause License\\n *\\n * Copyright (c) 2017, Nicolas Riesco and others as credited in the AUTHORS file\\n * All rights reserved.\\n *\\n * Redistribution and use in source and binary forms, with or without\\n * modification, are permitted provided that the following conditions are met:\\n *\\n * 1. Redistributions of source code must retain the above copyright notice,\\n * this list of conditions and the following disclaimer.\\n *\\n * 2. Redistributions in binary form must reproduce the above copyright notice,\\n * this list of conditions and the following disclaimer in the documentation\\n * and/or other materials provided with the distribution.\\n *\\n * 3. Neither the name of the copyright holder nor the names of its contributors\\n * may be used to endorse or promote products derived from this software without\\n * specific prior written permission.\\n *\\n * THIS SOFTWARE IS PROVIDED BY THE COPYRIGHT HOLDERS AND CONTRIBUTORS \"AS IS\"\\n * AND ANY EXPRESS OR IMPLIED WARRANTIES, INCLUDING, BUT NOT LIMITED TO, THE\\n * IMPLIED WARRANTIES OF MERCHANTABILITY AND FITNESS FOR A PARTICULAR PURPOSE\\n * ARE DISCLAIMED. IN NO EVENT SHALL THE COPYRIGHT HOLDER OR CONTRIBUTORS BE\\n * LIABLE FOR ANY DIRECT, INDIRECT, INCIDENTAL, SPECIAL, EXEMPLARY, OR\\n * CONSEQUENTIAL DAMAGES (INCLUDING, BUT NOT LIMITED TO, PROCUREMENT OF\\n * SUBSTITUTE GOODS OR SERVICES; LOSS OF USE, DATA, OR PROFITS; OR BUSINESS\\n * INTERRUPTION) HOWEVER CAUSED AND ON ANY THEORY OF LIABILITY, WHETHER IN\\n * CONTRACT, STRICT LIABILITY, OR TORT (INCLUDING NEGLIGENCE OR OTHERWISE)\\n * ARISING IN ANY WAY OUT OF THE USE OF THIS SOFTWARE, EVEN IF ADVISED OF THE\\n * POSSIBILITY OF SUCH DAMAGE.\\n *\\n */\\n\\nfunction Display(context_id, display_id) { // eslint-disable-line no-unused-vars\\n    var send;\\n\\n    this.mime = function mime(mimeBundle) {\\n        send(mimeBundle);\\n    };\\n\\n    this.text = function text(text) {\\n        send({\"text/plain\": text});\\n    };\\n\\n    this.html = function html(html) {\\n        send({\"text/html\": html});\\n    };\\n\\n    this.svg = function svg(svg) {\\n        send({\"image/svg+xml\": svg});\\n    };\\n\\n    this.png = function png(png) {\\n        send({\"image/png\": png});\\n    };\\n\\n    this.jpeg = function jpeg(jpeg) {\\n        send({\"image/jpeg\": jpeg});\\n    };\\n\\n    this.json = function json(json) {\\n        send({\"application/json\": json});\\n    };\\n\\n    this.close = function close() {\\n        process.send({\\n            id: context_id,\\n            display: {\\n                close: display_id,\\n            },\\n        });\\n    };\\n\\n    if (arguments.length < 2) {\\n        // case: without a display_id\\n        send = function send(mime) {\\n            process.send({\\n                id: context_id,\\n                display: {\\n                    mime: mime,\\n                },\\n            });\\n        };\\n    } else {\\n        // case: with a display_id\\n        send = function send(mime) {\\n            process.send({\\n                id: context_id,\\n                display: {\\n                    display_id: display_id,\\n                    mime: mime,\\n                },\\n            });\\n        };\\n\\n        // open the display_id\\n        process.send({\\n            id: context_id,\\n            display: {\\n                open: display_id,\\n            },\\n        });\\n    }\\n}\\n\\n/*\\n * BSD 3-Clause License\\n *\\n * Copyright (c) 2015, Nicolas Riesco and others as credited in the AUTHORS file\\n * All rights reserved.\\n *\\n * Redistribution and use in source and binary forms, with or without\\n * modification, are permitted provided that the following conditions are met:\\n *\\n * 1. Redistributions of source code must retain the above copyright notice,\\n * this list of conditions and the following disclaimer.\\n *\\n * 2. Redistributions in binary form must reproduce the above copyright notice,\\n * this list of conditions and the following disclaimer in the documentation\\n * and/or other materials provided with the distribution.\\n *\\n * 3. Neither the name of the copyright holder nor the names of its contributors\\n * may be used to endorse or promote products derived from this software without\\n * specific prior written permission.\\n *\\n * THIS SOFTWARE IS PROVIDED BY THE COPYRIGHT HOLDERS AND CONTRIBUTORS \"AS IS\"\\n * AND ANY EXPRESS OR IMPLIED WARRANTIES, INCLUDING, BUT NOT LIMITED TO, THE\\n * IMPLIED WARRANTIES OF MERCHANTABILITY AND FITNESS FOR A PARTICULAR PURPOSE\\n * ARE DISCLAIMED. IN NO EVENT SHALL THE COPYRIGHT HOLDER OR CONTRIBUTORS BE\\n * LIABLE FOR ANY DIRECT, INDIRECT, INCIDENTAL, SPECIAL, EXEMPLARY, OR\\n * CONSEQUENTIAL DAMAGES (INCLUDING, BUT NOT LIMITED TO, PROCUREMENT OF\\n * SUBSTITUTE GOODS OR SERVICES; LOSS OF USE, DATA, OR PROFITS; OR BUSINESS\\n * INTERRUPTION) HOWEVER CAUSED AND ON ANY THEORY OF LIABILITY, WHETHER IN\\n * CONTRACT, STRICT LIABILITY, OR TORT (INCLUDING NEGLIGENCE OR OTHERWISE)\\n * ARISING IN ANY WAY OUT OF THE USE OF THIS SOFTWARE, EVEN IF ADVISED OF THE\\n * POSSIBILITY OF SUCH DAMAGE.\\n *\\n */\\n\\n/* global util */\\n/* global vm */\\n\\n/* global defaultMimer */\\n\\n/* global getContext */\\n/* global captureGlobalContext */\\n\\n// Setup logger\\nvar DEBUG = !!process.env.DEBUG;\\nvar log = DEBUG ?\\n    function log() {\\n        process.send({\\n            log: \"SERVER: \" + util.format.apply(this, arguments),\\n        });\\n    } :\\n    function noop() {};\\n\\n// Set global.$$defaultMimer$$\\nObject.defineProperty(global, \"$$defaultMimer$$\", {\\n    value: defaultMimer,\\n    configurable: false,\\n    writable: false,\\n    enumerable: false,\\n});\\n\\n// Init IPC server\\ninit();\\n\\nreturn;\\n\\nfunction init() {\\n    process.on(\"message\", onMessage.bind(this));\\n\\n    process.on(\"uncaughtException\", onUncaughtException.bind(this));\\n\\n    process.send({\\n        status: \"online\",\\n    });\\n}\\n\\nfunction onUncaughtException(error) {\\n    log(\"UNCAUGHTEXCEPTION:\", error.stack);\\n    process.send({\\n        stderr: error.stack.toString(),\\n    });\\n}\\n\\nfunction onMessage(message) {\\n    log(\"RECEIVED:\", message);\\n\\n    var action = message[0];\\n    var code = message[1];\\n    var id = message[2];\\n\\n    try {\\n        var context = getContext(id, function onMissing() {\\n            if (action === \"reply\") {\\n                throw new Error(\"NEL: Received a reply for a missing context\");\\n            }\\n        });\\n\\n        captureGlobalContext(context);\\n\\n        if (action === \"getAllPropertyNames\") {\\n            onNameRequest(code, context);\\n        } else if (action === \"inspect\") {\\n            onInspectRequest(code, context);\\n        } else if (action === \"run\") {\\n            onRunRequest(code, context);\\n        } else if (action === \"reply\") {\\n            onReply(message, context);\\n        } else {\\n            throw new Error(\"NEL: Unhandled action: \" + action);\\n        }\\n    } catch (error) {\\n        context.$$.sendError(error);\\n    }\\n}\\n\\nfunction onReply(message, context) {\\n    var reply = message[1];\\n    var requestId = message[3];\\n    context.requester.receive(requestId, reply);\\n}\\n\\nfunction onNameRequest(code, context) {\\n    var message = {\\n        id: context.id,\\n        names: getAllPropertyNames(run(code)),\\n        end: true,\\n    };\\n    context.send(message);\\n}\\n\\nfunction onInspectRequest(code, context) {\\n    var message = {\\n        id: context.id,\\n        inspection: inspect(run(code)),\\n        end: true,\\n    };\\n    context.send(message);\\n}\\n\\nfunction onRunRequest(code, context) {\\n    var result = run(code);\\n\\n    // If a result has already been sent, do not send this result.\\n    if (context._done) {\\n        return;\\n    }\\n\\n    // If async mode has been enabled, do not send this result.\\n    if (context._async) {\\n        return;\\n    }\\n\\n    // If no result has been sent yet and async mode has not been enabled,\\n    // send this result.\\n    if (context.$$.config.awaitExecution) {\\n        context.$$.sendResult(result);\\n    } else {\\n        context.sendResult(result);\\n    }\\n\\n    return;\\n}\\n\\nfunction getAllPropertyNames(object) {\\n    var propertyList = [];\\n\\n    if (object === undefined) {\\n        return [];\\n    }\\n\\n    if (object === null) {\\n        return [];\\n    }\\n\\n    var prototype;\\n    if (typeof object === \"boolean\") {\\n        prototype = Boolean.prototype;\\n    } else if (typeof object === \"number\") {\\n        prototype = Number.prototype;\\n    } else if (typeof object === \"string\") {\\n        prototype = String.prototype;\\n    } else {\\n        prototype = object;\\n    }\\n\\n    var prototypeList = [prototype];\\n\\n    function pushToPropertyList(e) {\\n        if (propertyList.indexOf(e) === -1) {\\n            propertyList.push(e);\\n        }\\n    }\\n\\n    while (prototype) {\\n        var names = Object.getOwnPropertyNames(prototype).sort();\\n        names.forEach(pushToPropertyList);\\n\\n        prototype = Object.getPrototypeOf(prototype);\\n        if (prototype === null) {\\n            break;\\n        }\\n\\n        if (prototypeList.indexOf(prototype) === -1) {\\n            prototypeList.push(prototype);\\n        }\\n    }\\n\\n    return propertyList;\\n}\\n\\nfunction inspect(object) {\\n    if (object === undefined) {\\n        return {\\n            string: \"undefined\",\\n            type: \"Undefined\",\\n        };\\n    }\\n\\n    if (object === null) {\\n        return {\\n            string: \"null\",\\n            type: \"Null\",\\n        };\\n    }\\n\\n    if (typeof object === \"boolean\") {\\n        return {\\n            string: object ? \"true\" : \"false\",\\n            type: \"Boolean\",\\n            constructorList: [\"Boolean\", \"Object\"],\\n        };\\n    }\\n\\n    if (typeof object === \"number\") {\\n        return {\\n            string: util.inspect(object),\\n            type: \"Number\",\\n            constructorList: [\"Number\", \"Object\"],\\n        };\\n    }\\n\\n    if (typeof object === \"string\") {\\n        return {\\n            string: object,\\n            type: \"String\",\\n            constructorList: [\"String\", \"Object\"],\\n            length: object.length,\\n        };\\n    }\\n\\n    if (typeof object === \"function\") {\\n        return {\\n            string: object.toString(),\\n            type: \"Function\",\\n            constructorList: [\"Function\", \"Object\"],\\n            length: object.length,\\n        };\\n    }\\n\\n    var constructorList = getConstructorList(object);\\n    var result = {\\n        string: toString(object),\\n        type: constructorList[0] || \"\",\\n        constructorList: constructorList,\\n    };\\n\\n    if (\"length\" in object) {\\n        result.length = object.length;\\n    }\\n\\n    return result;\\n\\n    function toString(object) {\\n        try {\\n            return util.inspect(object.valueOf());\\n        } catch (e) {\\n            return util.inspect(object);\\n        }\\n    }\\n\\n    function getConstructorList(object) {\\n        var constructorList = [];\\n\\n        for (\\n            var prototype = Object.getPrototypeOf(object);\\n            prototype && prototype.constructor;\\n            prototype = Object.getPrototypeOf(prototype)\\n        ) {\\n            constructorList.push(prototype.constructor.name);\\n        }\\n\\n        return constructorList;\\n    }\\n}\\n\\nfunction run(code) {\\n    return vm.runInThisContext(code);\\n}\\n\\n})();' ],\n",
      "     env:\n",
      "      { AUTOJUMP_ERROR_PATH: '/home/jack/.local/share/autojump/errors.log',\n",
      "        AUTOJUMP_SOURCED: '1',\n",
      "        CHROME_DESKTOP: 'code-url-handler.desktop',\n",
      "        CLUTTER_IM_MODULE: 'fcitx',\n",
      "        DBUS_SESSION_BUS_ADDRESS: 'unix:path=/run/user/1000/bus',\n",
      "        DESKTOP_SESSION: 'ubuntu',\n",
      "        DISPLAY: ':1',\n",
      "        GDK_BACKEND: 'x11',\n",
      "        GDMSESSION: 'ubuntu',\n",
      "        GIO_LAUNCHED_DESKTOP_FILE: '/usr/share/applications/code.desktop',\n",
      "        GIO_LAUNCHED_DESKTOP_FILE_PID: '37912',\n",
      "        GJS_DEBUG_OUTPUT: 'stderr',\n",
      "        GJS_DEBUG_TOPICS: 'JS ERROR;JS LOG',\n",
      "        GNOME_DESKTOP_SESSION_ID: 'this-is-deprecated',\n",
      "        GNOME_SHELL_SESSION_MODE: 'ubuntu',\n",
      "        GPG_AGENT_INFO: '/run/user/1000/gnupg/S.gpg-agent:0:1',\n",
      "        GTK_IM_MODULE: 'fcitx',\n",
      "        GTK_MODULES: 'gail:atk-bridge',\n",
      "        HOME: '/home/jack',\n",
      "        IM_CONFIG_PHASE: '1',\n",
      "        INVOCATION_ID: '099aed42ec6544bbbb49273c7c9e8f28',\n",
      "        JOURNAL_STREAM: '8:294522',\n",
      "        LANG: 'zh_CN.UTF-8',\n",
      "        LANGUAGE: 'zh_CN:en_US:en',\n",
      "        LC_ADDRESS: 'en_ZW.UTF-8',\n",
      "        LC_IDENTIFICATION: 'en_ZW.UTF-8',\n",
      "        LC_MEASUREMENT: 'en_ZW.UTF-8',\n",
      "        LC_MONETARY: 'en_ZW.UTF-8',\n",
      "        LC_NAME: 'en_ZW.UTF-8',\n",
      "        LC_NUMERIC: 'en_ZW.UTF-8',\n",
      "        LC_PAPER: 'en_ZW.UTF-8',\n",
      "        LC_TELEPHONE: 'en_ZW.UTF-8',\n",
      "        LC_TIME: 'en_ZW.UTF-8',\n",
      "        LESS: '-R',\n",
      "        LOGNAME: 'jack',\n",
      "        LSCOLORS: 'Gxfxcxdxbxegedabagacad',\n",
      "        MANAGERPID: '36943',\n",
      "        OLDPWD: '/home/jack',\n",
      "        ORIGINAL_XDG_CURRENT_DESKTOP: 'ubuntu:GNOME',\n",
      "        P9K_SSH: '0',\n",
      "        PAGER: 'less',\n",
      "        PAPERSIZE: 'a4',\n",
      "        PATH:\n",
      "         '/home/jack/.cargo/bin:/home/jack/.local/bin:/usr/local/sbin:/usr/local/bin:/usr/sbin:/usr/bin:/sbin:/bin:/usr/games:/usr/local/games:/snap/bin:/home/jack/.qemu/qemu-7.0.0/build:/home/jack/.riscv/riscv64-unknown-elf-gcc-8.3.0-2020.04.1-x86_64-linux-ubuntu14/bin:/usr/share/clash',\n",
      "        PWD: '/home/jack',\n",
      "        QT4_IM_MODULE: 'fcitx',\n",
      "        QT_ACCESSIBILITY: '1',\n",
      "        QT_IM_MODULE: 'fcitx',\n",
      "        SESSION_MANAGER:\n",
      "         'local/jack-Lenovo-Legion-R7000-2020:@/tmp/.ICE-unix/37301,unix/jack-Lenovo-Legion-R7000-2020:/tmp/.ICE-unix/37301',\n",
      "        SHELL: '/usr/bin/zsh',\n",
      "        SHLVL: '0',\n",
      "        SSH_AGENT_PID: '37194',\n",
      "        SSH_AUTH_SOCK: '/run/user/1000/keyring/ssh',\n",
      "        USER: 'jack',\n",
      "        USERNAME: 'jack',\n",
      "        VSCODE_AMD_ENTRYPOINT: 'vs/workbench/api/node/extensionHostProcess',\n",
      "        VSCODE_CODE_CACHE_PATH:\n",
      "         '/home/jack/.config/Code/CachedData/92da9481c0904c6adfe372c12da3b7748d74bdcb',\n",
      "        VSCODE_CRASH_REPORTER_PROCESS_TYPE: 'extensionHost',\n",
      "        VSCODE_CWD: '/home/jack',\n",
      "        VSCODE_HANDLES_UNCAUGHT_ERRORS: 'true',\n",
      "        VSCODE_IPC_HOOK: '/run/user/1000/vscode-597df7a9-1.76-main.sock',\n",
      "        VSCODE_NLS_CONFIG:\n",
      "         '{\"locale\":\"zh-cn\",\"availableLanguages\":{},\"_languagePackSupport\":true}',\n",
      "        VSCODE_PID: '37912',\n",
      "        WINDOWPATH: '2',\n",
      "        XAUTHORITY: '/run/user/1000/gdm/Xauthority',\n",
      "        XDG_CONFIG_DIRS: '/etc/xdg/xdg-ubuntu:/etc/xdg',\n",
      "        XDG_CURRENT_DESKTOP: 'Unity',\n",
      "        XDG_DATA_DIRS:\n",
      "         '/usr/share/ubuntu:/usr/local/share/:/usr/share/:/var/lib/snapd/desktop',\n",
      "        XDG_MENU_PREFIX: 'gnome-',\n",
      "        XDG_RUNTIME_DIR: '/run/user/1000',\n",
      "        XDG_SESSION_CLASS: 'user',\n",
      "        XDG_SESSION_DESKTOP: 'ubuntu',\n",
      "        XDG_SESSION_TYPE: 'x11',\n",
      "        XMODIFIERS: '@im=fcitx',\n",
      "        ZSH: '/home/jack/.oh-my-zsh',\n",
      "        _: '/usr/share/code/code',\n",
      "        clashdir: '/usr/share/clash',\n",
      "        ELECTRON_RUN_AS_NODE: '1',\n",
      "        APPLICATION_INSIGHTS_NO_DIAGNOSTIC_CHANNEL: '1',\n",
      "        VSCODE_L10N_BUNDLE_LOCATION: '',\n",
      "        PYTHONUNBUFFERED: '1',\n",
      "        PYTHONIOENCODING: 'utf-8' },\n",
      "     pid: 39543,\n",
      "     features:\n",
      "      { debug: false,\n",
      "        uv: true,\n",
      "        ipv6: true,\n",
      "        tls_alpn: true,\n",
      "        tls_sni: true,\n",
      "        tls_ocsp: true,\n",
      "        tls: true },\n",
      "     ppid: 39309,\n",
      "     _eval:\n",
      "      '(function() {\\n/*\\n * BSD 3-Clause License\\n *\\n * Copyright (c) 2018, Nicolas Riesco and others as credited in the AUTHORS file\\n * All rights reserved.\\n *\\n * Redistribution and use in source and binary forms, with or without\\n * modification, are permitted provided that the following conditions are met:\\n *\\n * 1. Redistributions of source code must retain the above copyright notice,\\n * this list of conditions and the following disclaimer.\\n *\\n * 2. Redistributions in binary form must reproduce the above copyright notice,\\n * this list of conditions and the following disclaimer in the documentation\\n * and/or other materials provided with the distribution.\\n *\\n * 3. Neither the name of the copyright holder nor the names of its contributors\\n * may be used to endorse or promote products derived from this software without\\n * specific prior written permission.\\n *\\n * THIS SOFTWARE IS PROVIDED BY THE COPYRIGHT HOLDERS AND CONTRIBUTORS \"AS IS\"\\n * AND ANY EXPRESS OR IMPLIED WARRANTIES, INCLUDING, BUT NOT LIMITED TO, THE\\n * IMPLIED WARRANTIES OF MERCHANTABILITY AND FITNESS FOR A PARTICULAR PURPOSE\\n * ARE DISCLAIMED. IN NO EVENT SHALL THE COPYRIGHT HOLDER OR CONTRIBUTORS BE\\n * LIABLE FOR ANY DIRECT, INDIRECT, INCIDENTAL, SPECIAL, EXEMPLARY, OR\\n * CONSEQUENTIAL DAMAGES (INCLUDING, BUT NOT LIMITED TO, PROCUREMENT OF\\n * SUBSTITUTE GOODS OR SERVICES; LOSS OF USE, DATA, OR PROFITS; OR BUSINESS\\n * INTERRUPTION) HOWEVER CAUSED AND ON ANY THEORY OF LIABILITY, WHETHER IN\\n * CONTRACT, STRICT LIABILITY, OR TORT (INCLUDING NEGLIGENCE OR OTHERWISE)\\n * ARISING IN ANY WAY OUT OF THE USE OF THIS SOFTWARE, EVEN IF ADVISED OF THE\\n * POSSIBILITY OF SUCH DAMAGE.\\n *\\n */\\n\\n/* eslint-disable no-unused-vars */\\nvar console = require(\"console\");\\nvar stream = require(\"stream\");\\nvar util = require(\"util\");\\nvar vm = require(\"vm\");\\n/* eslint-enable no-unused-vars */\\n\\n/*\\n * BSD 3-Clause License\\n *\\n * Copyright (c) 2015, Nicolas Riesco and others as credited in the AUTHORS file\\n * All rights reserved.\\n *\\n * Redistribution and use in source and binary forms, with or without\\n * modification, are permitted provided that the following conditions are met:\\n *\\n * 1. Redistributions of source code must retain the above copyright notice,\\n * this list of conditions and the following disclaimer.\\n *\\n * 2. Redistributions in binary form must reproduce the above copyright notice,\\n * this list of conditions and the following disclaimer in the documentation\\n * and/or other materials provided with the distribution.\\n *\\n * 3. Neither the name of the copyright holder nor the names of its contributors\\n * may be used to endorse or promote products derived from this software without\\n * specific prior written permission.\\n *\\n * THIS SOFTWARE IS PROVIDED BY THE COPYRIGHT HOLDERS AND CONTRIBUTORS \"AS IS\"\\n * AND ANY EXPRESS OR IMPLIED WARRANTIES, INCLUDING, BUT NOT LIMITED TO, THE\\n * IMPLIED WARRANTIES OF MERCHANTABILITY AND FITNESS FOR A PARTICULAR PURPOSE\\n * ARE DISCLAIMED. IN NO EVENT SHALL THE COPYRIGHT HOLDER OR CONTRIBUTORS BE\\n * LIABLE FOR ANY DIRECT, INDIRECT, INCIDENTAL, SPECIAL, EXEMPLARY, OR\\n * CONSEQUENTIAL DAMAGES (INCLUDING, BUT NOT LIMITED TO, PROCUREMENT OF\\n * SUBSTITUTE GOODS OR SERVICES; LOSS OF USE, DATA, OR PROFITS; OR BUSINESS\\n * INTERRUPTION) HOWEVER CAUSED AND ON ANY THEORY OF LIABILITY, WHETHER IN\\n * CONTRACT, STRICT LIABILITY, OR TORT (INCLUDING NEGLIGENCE OR OTHERWISE)\\n * ARISING IN ANY WAY OUT OF THE USE OF THIS SOFTWARE, EVEN IF ADVISED OF THE\\n * POSSIBILITY OF SUCH DAMAGE.\\n *\\n */\\n\\n/* global console */\\n/* global stream */\\n/* global util */\\n\\n/* global Promise */\\n\\n/* global log */\\n/* global Display */\\n\\nfunction Stdout(contextId, opt) {\\n    stream.Transform.call(this, opt);\\n\\n    this._contextId = contextId;\\n}\\n\\nStdout.prototype = Object.create(stream.Transform.prototype);\\n\\nStdout.prototype._transform = function(data, encoding, callback) {\\n    var response = {\\n        id: this._contextId,\\n        stdout: data.toString(),\\n    };\\n    log(\"STDOUT:\", response);\\n    process.send(response);\\n    this.push(data);\\n    callback();\\n};\\n\\nfunction Stderr(contextId, opt) {\\n    stream.Transform.call(this, opt);\\n\\n    this._contextId = contextId;\\n}\\n\\nStderr.prototype = Object.create(stream.Transform.prototype);\\n\\nStderr.prototype._transform = function(data, encoding, callback) {\\n    var response = {\\n        id: this._contextId,\\n        stderr: data.toString(),\\n    };\\n    log(\"STDERR:\", response);\\n    process.send(response);\\n    this.push(data);\\n    callback();\\n};\\n\\nfunction Requester(contextId) {\\n    // context id\\n    this.contextId = contextId;\\n\\n    // id for next request\\n    this.requestId = 0;\\n\\n    // callback associated with a request (indexed by id)\\n    this.callbacks = {};\\n\\n    // the Promise resolve callback associated with a request (indexed by id)\\n    this.resolves = {};\\n\\n    // the Promise reject callback associated with a request (indexed by id)\\n    this.rejects = {};\\n}\\n\\n// send a request\\nRequester.prototype.send = function send(request, callback) {\\n    var requestId = this.requestId++;\\n    request.id = requestId;\\n\\n    if (callback) {\\n        this.callbacks[requestId] = callback;\\n    }\\n\\n    var promise;\\n    if (global.Promise) {\\n        promise = new Promise(function(resolve, reject) {\\n            this.resolves[requestId] = resolve;\\n            this.rejects[requestId] = reject;\\n        }.bind(this));\\n    }\\n\\n    process.send({\\n        id: this.contextId,\\n        request: request,\\n    });\\n\\n    return promise;\\n};\\n\\n// pass reply to the callbacks associated with a request\\nRequester.prototype.receive = function receive(requestId, reply) {\\n    var callback = this.callbacks[requestId];\\n    if (callback) {\\n        delete this.callbacks[requestId];\\n        callback(null, reply);\\n    }\\n\\n    var resolve = this.resolves[requestId];\\n    if (resolve) {\\n        delete this.resolves[requestId];\\n        delete this.rejects[requestId];\\n        resolve(reply);\\n    }\\n};\\n\\nfunction Context(id) {\\n    this.id = id;\\n\\n    this.requester = new Requester(this.id);\\n\\n    this.stdout = new Stdout(this.id);\\n    this.stderr = new Stderr(this.id);\\n    this.console = new console.Console(this.stdout, this.stderr);\\n\\n    this._capturedStdout = null;\\n    this._capturedStderr = null;\\n    this._capturedConsole = null;\\n\\n    this._async = false;\\n    this._done = false;\\n\\n    // `$$` provides an interface for users to access the execution context\\n    this.$$ = Object.create(null);\\n\\n    // `$$.config` provides an interface to configure NEL\\'s features.\\n    // * If `$$.config.awaitExecution` is set to `true`,\\n    //   then execution requests that return a Promise will automatically\\n    //   invoke `$$.async()` and the execution result will be replaced with the\\n    //   value resolved by the promise.\\n    Context.config = Context.config || {\\n        awaitExecution: false,\\n    };\\n    Object.defineProperty(this.$$, \"config\", {\\n        value: Context.config,\\n        configurable: false,\\n        writable: false,\\n        enumerable: false,\\n    });\\n\\n    this.$$.async = (function async(value) {\\n        this._async = (arguments.length === 0) ? true : !!value;\\n        return this._async;\\n    }).bind(this);\\n\\n    this.$$.done = (function done(result) {\\n        this.send({\\n            mime: toMime(result),\\n        }, false);\\n    }).bind(this);\\n\\n    this.$$.sendResult = resolvePromise.call(this, this.sendResult);\\n\\n    this.$$.sendError = resolvePromise.call(this, this.sendError);\\n\\n    this.$$.mime = resolvePromise.call(this,\\n        function sendMime(mimeBundle, keepAlive) {\\n            this.send({\\n                mime: mimeBundle,\\n            }, keepAlive);\\n        }\\n    );\\n\\n    this.$$.text = resolvePromise.call(this,\\n        function sendText(text, keepAlive) {\\n            this.send({\\n                mime: {\\n                    \"text/plain\": text,\\n                },\\n            }, keepAlive);\\n        }\\n    );\\n\\n    this.$$.html = resolvePromise.call(this,\\n        function sendHtml(html, keepAlive) {\\n            this.send({\\n                mime: {\\n                    \"text/html\": html,\\n                },\\n            }, keepAlive);\\n        }\\n    );\\n\\n    this.$$.svg = resolvePromise.call(this,\\n        function sendSvg(svg, keepAlive) {\\n            this.send({\\n                mime: {\\n                    \"image/svg+xml\": svg,\\n                },\\n            }, keepAlive);\\n        }\\n    );\\n\\n    this.$$.png = resolvePromise.call(this,\\n        function sendPng(png, keepAlive) {\\n            this.send({\\n                mime: {\\n                    \"image/png\": png,\\n                },\\n            }, keepAlive);\\n        }\\n    );\\n\\n    this.$$.jpeg = resolvePromise.call(this,\\n        function sendJpeg(jpeg, keepAlive) {\\n            this.send({\\n                mime: {\\n                    \"image/jpeg\": jpeg,\\n                },\\n            }, keepAlive);\\n        }\\n    );\\n\\n    this.$$.json = resolvePromise.call(this,\\n        function sendJson(json, keepAlive) {\\n            this.send({\\n                mime: {\\n                    \"application/json\": json,\\n                },\\n            }, keepAlive);\\n        }\\n    );\\n\\n    this.$$.input = (function input(options, callback) {\\n        this.$$.async();\\n\\n        var inputRequest = {\\n            input: options,\\n        };\\n\\n        var inputCallback;\\n        if (typeof callback === \"function\") {\\n            inputCallback = function inputCallback(error, reply) {\\n                callback(error, reply.input);\\n            };\\n        }\\n\\n        var promise = this.requester.send(inputRequest, inputCallback);\\n        if (promise) {\\n            return promise.then(function(reply) { return reply.input; });\\n        }\\n    }).bind(this);\\n\\n    this.$$.display = (function createDisplay(id) {\\n        return (arguments.length === 0) ?\\n            new Display(this.id) :\\n            new Display(this.id, id);\\n    }).bind(this);\\n\\n    this.$$.clear = (function clear(options) {\\n        process.send({\\n            id: this.id,\\n            request: {\\n                clear: options || {},\\n            },\\n        });\\n    }).bind(this);\\n\\n    function isPromise(output) {\\n        if (!global.Promise || typeof global.Promise !== \"function\") {\\n            return false;\\n        }\\n        return output instanceof global.Promise;\\n    }\\n\\n    function resolvePromise(outputHandler) {\\n        return function(output, keepAlive) {\\n            if (isPromise(output)) {\\n                this.$$.async();\\n\\n                output.then(function(resolvedOutput) {\\n                    outputHandler.call(this, resolvedOutput, keepAlive);\\n                }.bind(this)).catch(function(error) {\\n                    this.sendError(error, false);\\n                }.bind(this));\\n\\n                return;\\n            }\\n\\n            outputHandler.apply(this, arguments);\\n        }.bind(this);\\n    }\\n}\\n\\nContext.prototype.sendResult = function sendResult(result, keepAlive) {\\n    this.send({\\n        mime: toMime(result),\\n    }, keepAlive);\\n};\\n\\nContext.prototype.sendError = function sendError(error, keepAlive) {\\n    this.send({\\n        error: formatError(error),\\n    }, keepAlive);\\n};\\n\\nContext.prototype.send = function send(message, keepAlive) {\\n    message.id = this.id;\\n    message.end = !keepAlive;\\n\\n    if (this._done) {\\n        log(\"SEND: Warning! Message dropped:\", message);\\n        return;\\n    }\\n\\n    if (keepAlive) {\\n        this.$$.async();\\n    } else {\\n        this.done();\\n    }\\n\\n    log(\"SEND:\", message);\\n\\n    process.send(message);\\n};\\n\\nContext.prototype.done = function done() {\\n    this._async = false;\\n\\n    if (this._done) {\\n        log(\"DONE: Warning! Context#done already invoked\");\\n    }\\n    this._done = true;\\n\\n    releaseContext(this.id, function onMissing() {\\n        log(\"DONE: Warning! Context already released\");\\n    });\\n};\\n\\nContext.prototype.captureGlobalContext = function captureGlobalContext() {\\n    this._capturedStdout = process.stdout;\\n    this._capturedStderr = process.stderr;\\n    this._capturedConsole = console;\\n\\n    this.stdout.pipe(this._capturedStdout);\\n    this.stderr.pipe(this._capturedStderr);\\n    this.console.Console = this._capturedConsole.Console;\\n\\n    delete process.stdout;\\n    process.stdout = this.stdout;\\n\\n    delete process.stderr;\\n    process.stderr = this.stderr;\\n\\n    delete global.console;\\n    global.console = this.console;\\n\\n    delete global.$$;\\n    global.$$ = this.$$;\\n\\n    if (typeof global.$$mimer$$ !== \"function\") {\\n        global.$$mimer$$ = defaultMimer;\\n    }\\n\\n    delete global.$$mime$$;\\n    Object.defineProperty(global, \"$$mime$$\", {\\n        set: this.$$.mime,\\n        configurable: true,\\n        enumerable: false,\\n    });\\n\\n    delete global.$$html$$;\\n    Object.defineProperty(global, \"$$html$$\", {\\n        set: this.$$.html,\\n        configurable: true,\\n        enumerable: false,\\n    });\\n\\n    delete global.$$svg$$;\\n    Object.defineProperty(global, \"$$svg$$\", {\\n        set: this.$$.svg,\\n        configurable: true,\\n        enumerable: false,\\n    });\\n\\n    delete global.$$png$$;\\n    Object.defineProperty(global, \"$$png$$\", {\\n        set: this.$$.png,\\n        configurable: true,\\n        enumerable: false,\\n    });\\n\\n    delete global.$$jpeg$$;\\n    Object.defineProperty(global, \"$$jpeg$$\", {\\n        set: this.$$.jpeg,\\n        configurable: true,\\n        enumerable: false,\\n    });\\n\\n    delete global.$$async$$;\\n    Object.defineProperty(global, \"$$async$$\", {\\n        get: (function() {\\n            return this._async;\\n        }).bind(this),\\n        set: (function(value) {\\n            this._async = !!value;\\n        }).bind(this),\\n        configurable: true,\\n        enumerable: false,\\n    });\\n\\n    global.$$done$$ = this.$$.done.bind(this);\\n\\n    if (!global.hasOwnProperty(\"$$defaultMimer$$\")) {\\n        Object.defineProperty(global, \"$$defaultMimer$$\", {\\n            value: defaultMimer,\\n            configurable: false,\\n            writable: false,\\n            enumerable: false,\\n        });\\n    }\\n};\\n\\nContext.prototype.releaseGlobalContext = function releaseGlobalContext() {\\n    if (process.stdout === this.stdout) {\\n        this.stdout.unpipe();\\n\\n        delete process.stdout;\\n        process.stdout = this._capturedStdout;\\n\\n        this._capturedStdout = null;\\n    }\\n\\n    if (process.stderr === this.stderr) {\\n        this.stderr.unpipe();\\n\\n        delete process.stderr;\\n        process.stderr = this._capturedStderr;\\n\\n        this._capturedStderr = null;\\n    }\\n\\n    if (global.console === this.console) {\\n        delete global.console;\\n        global.console = this._capturedConsole;\\n\\n        this._capturedConsole = null;\\n    }\\n};\\n\\nfunction formatError(error) {\\n    return {\\n        ename: (error && error.name) ?\\n            error.name : typeof error,\\n        evalue: (error && error.message) ?\\n            error.message : util.inspect(error),\\n        traceback: (error && error.stack) ?\\n            error.stack.split(\"\\\\n\") : [],\\n    };\\n}\\n\\nfunction toMime(result) {\\n    var mimer = (typeof global.$$mimer$$ === \"function\") ?\\n        global.$$mimer$$ :\\n        defaultMimer;\\n    return mimer(result);\\n}\\n\\nfunction defaultMimer(result) { // eslint-disable-line complexity\\n    if (typeof result === \"undefined\") {\\n        return {\\n            \"text/plain\": \"undefined\"\\n        };\\n    }\\n\\n    if (result === null) {\\n        return {\\n            \"text/plain\": \"null\"\\n        };\\n    }\\n\\n    var mime;\\n    if (result._toMime) {\\n        try {\\n            mime = result._toMime();\\n        } catch (error) {}\\n    }\\n    if (typeof mime !== \"object\") {\\n        mime = {};\\n    }\\n\\n    if (!(\"text/plain\" in mime)) {\\n        try {\\n            mime[\"text/plain\"] = util.inspect(result);\\n        } catch (error) {}\\n    }\\n\\n    if (result._toHtml && !(\"text/html\" in mime)) {\\n        try {\\n            mime[\"text/html\"] = result._toHtml();\\n        } catch (error) {}\\n    }\\n\\n    if (result._toSvg && !(\"image/svg+xml\" in mime)) {\\n        try {\\n            mime[\"image/svg+xml\"] = result._toSvg();\\n        } catch (error) {}\\n    }\\n\\n    if (result._toPng && !(\"image/png\" in mime)) {\\n        try {\\n            mime[\"image/png\"] = result._toPng();\\n        } catch (error) {}\\n    }\\n\\n    if (result._toJpeg && !(\"image/jpeg\" in mime)) {\\n        try {\\n            mime[\"image/jpeg\"] = result._toJpeg();\\n        } catch (error) {}\\n    }\\n\\n    return mime;\\n}\\n\\n// Context factory\\nfunction getContext(id, onMissing) {\\n    var cache = getContext.cache = getContext.cache || {};\\n    var context = cache[id];\\n    if (!context) {\\n        onMissing && onMissing();\\n        context = cache[id] = new Context(id);\\n    }\\n    return context;\\n}\\n\\nfunction releaseContext(id, onMissing) {\\n    var context = getContext.cache[id];\\n    if (context) {\\n        log(\"releaseContext: Releasing context\", id);\\n        delete getContext.cache[id];\\n    } else {\\n        log(\"releaseContext: Warning! Context already released\", id);\\n        onMissing && onMissing();\\n    }\\n}\\n\\n// Capture global context (it releases last capture if any)\\nfunction captureGlobalContext(context) { // eslint-disable-line no-unused-vars\\n    var last = captureGlobalContext.last;\\n    last && last.releaseGlobalContext();\\n    context.captureGlobalContext();\\n    captureGlobalContext.last = context;\\n}\\n/*\\n * BSD 3-Clause License\\n *\\n * Copyright (c) 2017, Nicolas Riesco and others as credited in the AUTHORS file\\n * All rights reserved.\\n *\\n * Redistribution and use in source and binary forms, with or without\\n * modification, are permitted provided that the following conditions are met:\\n *\\n * 1. Redistributions of source code must retain the above copyright notice,\\n * this list of conditions and the following disclaimer.\\n *\\n * 2. Redistributions in binary form must reproduce the above copyright notice,\\n * this list of conditions and the following disclaimer in the documentation\\n * and/or other materials provided with the distribution.\\n *\\n * 3. Neither the name of the copyright holder nor the names of its contributors\\n * may be used to endorse or promote products derived from this software without\\n * specific prior written permission.\\n *\\n * THIS SOFTWARE IS PROVIDED BY THE COPYRIGHT HOLDERS AND CONTRIBUTORS \"AS IS\"\\n * AND ANY EXPRESS OR IMPLIED WARRANTIES, INCLUDING, BUT NOT LIMITED TO, THE\\n * IMPLIED WARRANTIES OF MERCHANTABILITY AND FITNESS FOR A PARTICULAR PURPOSE\\n * ARE DISCLAIMED. IN NO EVENT SHALL THE COPYRIGHT HOLDER OR CONTRIBUTORS BE\\n * LIABLE FOR ANY DIRECT, INDIRECT, INCIDENTAL, SPECIAL, EXEMPLARY, OR\\n * CONSEQUENTIAL DAMAGES (INCLUDING, BUT NOT LIMITED TO, PROCUREMENT OF\\n * SUBSTITUTE GOODS OR SERVICES; LOSS OF USE, DATA, OR PROFITS; OR BUSINESS\\n * INTERRUPTION) HOWEVER CAUSED AND ON ANY THEORY OF LIABILITY, WHETHER IN\\n * CONTRACT, STRICT LIABILITY, OR TORT (INCLUDING NEGLIGENCE OR OTHERWISE)\\n * ARISING IN ANY WAY OUT OF THE USE OF THIS SOFTWARE, EVEN IF ADVISED OF THE\\n * POSSIBILITY OF SUCH DAMAGE.\\n *\\n */\\n\\nfunction Display(context_id, display_id) { // eslint-disable-line no-unused-vars\\n    var send;\\n\\n    this.mime = function mime(mimeBundle) {\\n        send(mimeBundle);\\n    };\\n\\n    this.text = function text(text) {\\n        send({\"text/plain\": text});\\n    };\\n\\n    this.html = function html(html) {\\n        send({\"text/html\": html});\\n    };\\n\\n    this.svg = function svg(svg) {\\n        send({\"image/svg+xml\": svg});\\n    };\\n\\n    this.png = function png(png) {\\n        send({\"image/png\": png});\\n    };\\n\\n    this.jpeg = function jpeg(jpeg) {\\n        send({\"image/jpeg\": jpeg});\\n    };\\n\\n    this.json = function json(json) {\\n        send({\"application/json\": json});\\n    };\\n\\n    this.close = function close() {\\n        process.send({\\n            id: context_id,\\n            display: {\\n                close: display_id,\\n            },\\n        });\\n    };\\n\\n    if (arguments.length < 2) {\\n        // case: without a display_id\\n        send = function send(mime) {\\n            process.send({\\n                id: context_id,\\n                display: {\\n                    mime: mime,\\n                },\\n            });\\n        };\\n    } else {\\n        // case: with a display_id\\n        send = function send(mime) {\\n            process.send({\\n                id: context_id,\\n                display: {\\n                    display_id: display_id,\\n                    mime: mime,\\n                },\\n            });\\n        };\\n\\n        // open the display_id\\n        process.send({\\n            id: context_id,\\n            display: {\\n                open: display_id,\\n            },\\n        });\\n    }\\n}\\n\\n/*\\n * BSD 3-Clause License\\n *\\n * Copyright (c) 2015, Nicolas Riesco and others as credited in the AUTHORS file\\n * All rights reserved.\\n *\\n * Redistribution and use in source and binary forms, with or without\\n * modification, are permitted provided that the following conditions are met:\\n *\\n * 1. Redistributions of source code must retain the above copyright notice,\\n * this list of conditions and the following disclaimer.\\n *\\n * 2. Redistributions in binary form must reproduce the above copyright notice,\\n * this list of conditions and the following disclaimer in the documentation\\n * and/or other materials provided with the distribution.\\n *\\n * 3. Neither the name of the copyright holder nor the names of its contributors\\n * may be used to endorse or promote products derived from this software without\\n * specific prior written permission.\\n *\\n * THIS SOFTWARE IS PROVIDED BY THE COPYRIGHT HOLDERS AND CONTRIBUTORS \"AS IS\"\\n * AND ANY EXPRESS OR IMPLIED WARRANTIES, INCLUDING, BUT NOT LIMITED TO, THE\\n * IMPLIED WARRANTIES OF MERCHANTABILITY AND FITNESS FOR A PARTICULAR PURPOSE\\n * ARE DISCLAIMED. IN NO EVENT SHALL THE COPYRIGHT HOLDER OR CONTRIBUTORS BE\\n * LIABLE FOR ANY DIRECT, INDIRECT, INCIDENTAL, SPECIAL, EXEMPLARY, OR\\n * CONSEQUENTIAL DAMAGES (INCLUDING, BUT NOT LIMITED TO, PROCUREMENT OF\\n * SUBSTITUTE GOODS OR SERVICES; LOSS OF USE, DATA, OR PROFITS; OR BUSINESS\\n * INTERRUPTION) HOWEVER CAUSED AND ON ANY THEORY OF LIABILITY, WHETHER IN\\n * CONTRACT, STRICT LIABILITY, OR TORT (INCLUDING NEGLIGENCE OR OTHERWISE)\\n * ARISING IN ANY WAY OUT OF THE USE OF THIS SOFTWARE, EVEN IF ADVISED OF THE\\n * POSSIBILITY OF SUCH DAMAGE.\\n *\\n */\\n\\n/* global util */\\n/* global vm */\\n\\n/* global defaultMimer */\\n\\n/* global getContext */\\n/* global captureGlobalContext */\\n\\n// Setup logger\\nvar DEBUG = !!process.env.DEBUG;\\nvar log = DEBUG ?\\n    function log() {\\n        process.send({\\n            log: \"SERVER: \" + util.format.apply(this, arguments),\\n        });\\n    } :\\n    function noop() {};\\n\\n// Set global.$$defaultMimer$$\\nObject.defineProperty(global, \"$$defaultMimer$$\", {\\n    value: defaultMimer,\\n    configurable: false,\\n    writable: false,\\n    enumerable: false,\\n});\\n\\n// Init IPC server\\ninit();\\n\\nreturn;\\n\\nfunction init() {\\n    process.on(\"message\", onMessage.bind(this));\\n\\n    process.on(\"uncaughtException\", onUncaughtException.bind(this));\\n\\n    process.send({\\n        status: \"online\",\\n    });\\n}\\n\\nfunction onUncaughtException(error) {\\n    log(\"UNCAUGHTEXCEPTION:\", error.stack);\\n    process.send({\\n        stderr: error.stack.toString(),\\n    });\\n}\\n\\nfunction onMessage(message) {\\n    log(\"RECEIVED:\", message);\\n\\n    var action = message[0];\\n    var code = message[1];\\n    var id = message[2];\\n\\n    try {\\n        var context = getContext(id, function onMissing() {\\n            if (action === \"reply\") {\\n                throw new Error(\"NEL: Received a reply for a missing context\");\\n            }\\n        });\\n\\n        captureGlobalContext(context);\\n\\n        if (action === \"getAllPropertyNames\") {\\n            onNameRequest(code, context);\\n        } else if (action === \"inspect\") {\\n            onInspectRequest(code, context);\\n        } else if (action === \"run\") {\\n            onRunRequest(code, context);\\n        } else if (action === \"reply\") {\\n            onReply(message, context);\\n        } else {\\n            throw new Error(\"NEL: Unhandled action: \" + action);\\n        }\\n    } catch (error) {\\n        context.$$.sendError(error);\\n    }\\n}\\n\\nfunction onReply(message, context) {\\n    var reply = message[1];\\n    var requestId = message[3];\\n    context.requester.receive(requestId, reply);\\n}\\n\\nfunction onNameRequest(code, context) {\\n    var message = {\\n        id: context.id,\\n        names: getAllPropertyNames(run(code)),\\n        end: true,\\n    };\\n    context.send(message);\\n}\\n\\nfunction onInspectRequest(code, context) {\\n    var message = {\\n        id: context.id,\\n        inspection: inspect(run(code)),\\n        end: true,\\n    };\\n    context.send(message);\\n}\\n\\nfunction onRunRequest(code, context) {\\n    var result = run(code);\\n\\n    // If a result has already been sent, do not send this result.\\n    if (context._done) {\\n        return;\\n    }\\n\\n    // If async mode has been enabled, do not send this result.\\n    if (context._async) {\\n        return;\\n    }\\n\\n    // If no result has been sent yet and async mode has not been enabled,\\n    // send this result.\\n    if (context.$$.config.awaitExecution) {\\n        context.$$.sendResult(result);\\n    } else {\\n        context.sendResult(result);\\n    }\\n\\n    return;\\n}\\n\\nfunction getAllPropertyNames(object) {\\n    var propertyList = [];\\n\\n    if (object === undefined) {\\n        return [];\\n    }\\n\\n    if (object === null) {\\n        return [];\\n    }\\n\\n    var prototype;\\n    if (typeof object === \"boolean\") {\\n        prototype = Boolean.prototype;\\n    } else if (typeof object === \"number\") {\\n        prototype = Number.prototype;\\n    } else if (typeof object === \"string\") {\\n        prototype = String.prototype;\\n    } else {\\n        prototype = object;\\n    }\\n\\n    var prototypeList = [prototype];\\n\\n    function pushToPropertyList(e) {\\n        if (propertyList.indexOf(e) === -1) {\\n            propertyList.push(e);\\n        }\\n    }\\n\\n    while (prototype) {\\n        var names = Object.getOwnPropertyNames(prototype).sort();\\n        names.forEach(pushToPropertyList);\\n\\n        prototype = Object.getPrototypeOf(prototype);\\n        if (prototype === null) {\\n            break;\\n        }\\n\\n        if (prototypeList.indexOf(prototype) === -1) {\\n            prototypeList.push(prototype);\\n        }\\n    }\\n\\n    return propertyList;\\n}\\n\\nfunction inspect(object) {\\n    if (object === undefined) {\\n        return {\\n            string: \"undefined\",\\n            type: \"Undefined\",\\n        };\\n    }\\n\\n    if (object === null) {\\n        return {\\n            string: \"null\",\\n            type: \"Null\",\\n        };\\n    }\\n\\n    if (typeof object === \"boolean\") {\\n        return {\\n            string: object ? \"true\" : \"false\",\\n            type: \"Boolean\",\\n            constructorList: [\"Boolean\", \"Object\"],\\n        };\\n    }\\n\\n    if (typeof object === \"number\") {\\n        return {\\n            string: util.inspect(object),\\n            type: \"Number\",\\n            constructorList: [\"Number\", \"Object\"],\\n        };\\n    }\\n\\n    if (typeof object === \"string\") {\\n        return {\\n            string: object,\\n            type: \"String\",\\n            constructorList: [\"String\", \"Object\"],\\n            length: object.length,\\n        };\\n    }\\n\\n    if (typeof object === \"function\") {\\n        return {\\n            string: object.toString(),\\n            type: \"Function\",\\n            constructorList: [\"Function\", \"Object\"],\\n            length: object.length,\\n        };\\n    }\\n\\n    var constructorList = getConstructorList(object);\\n    var result = {\\n        string: toString(object),\\n        type: constructorList[0] || \"\",\\n        constructorList: constructorList,\\n    };\\n\\n    if (\"length\" in object) {\\n        result.length = object.length;\\n    }\\n\\n    return result;\\n\\n    function toString(object) {\\n        try {\\n            return util.inspect(object.valueOf());\\n        } catch (e) {\\n            return util.inspect(object);\\n        }\\n    }\\n\\n    function getConstructorList(object) {\\n        var constructorList = [];\\n\\n        for (\\n            var prototype = Object.getPrototypeOf(object);\\n            prototype && prototype.constructor;\\n            prototype = Object.getPrototypeOf(prototype)\\n        ) {\\n            constructorList.push(prototype.constructor.name);\\n        }\\n\\n        return constructorList;\\n    }\\n}\\n\\nfunction run(code) {\\n    return vm.runInThisContext(code);\\n}\\n\\n})();',\n",
      "     execPath: '/usr/bin/node',\n",
      "     debugPort: 9229,\n",
      "     _debugProcess: [Function: _debugProcess],\n",
      "     _debugEnd: [Function: _debugEnd],\n",
      "     _startProfilerIdleNotifier: [Function: _startProfilerIdleNotifier],\n",
      "     _stopProfilerIdleNotifier: [Function: _stopProfilerIdleNotifier],\n",
      "     abort: [Function: abort],\n",
      "     chdir: [Function: chdir],\n",
      "     umask: [Function: umask],\n",
      "     _getActiveRequests: [Function: _getActiveRequests],\n",
      "     _getActiveHandles: [Function: _getActiveHandles],\n",
      "     _kill: [Function: _kill],\n",
      "     cwd: [Function: cwd],\n",
      "     dlopen: [Function: dlopen],\n",
      "     reallyExit: [Function: reallyExit],\n",
      "     uptime: [Function: uptime],\n",
      "     getuid: [Function: getuid],\n",
      "     geteuid: [Function: geteuid],\n",
      "     getgid: [Function: getgid],\n",
      "     getegid: [Function: getegid],\n",
      "     getgroups: [Function: getgroups],\n",
      "     _rawDebug: [Function],\n",
      "     moduleLoadList:\n",
      "      [ 'Internal Binding module_wrap',\n",
      "        'Binding contextify',\n",
      "        'Internal Binding worker',\n",
      "        'NativeModule events',\n",
      "        'NativeModule internal/async_hooks',\n",
      "        'NativeModule internal/errors',\n",
      "        'Binding uv',\n",
      "        'Binding buffer',\n",
      "        'Binding async_wrap',\n",
      "        'Internal Binding async_wrap',\n",
      "        'Binding config',\n",
      "        'Binding icu',\n",
      "        'NativeModule util',\n",
      "        'NativeModule internal/util/inspect',\n",
      "        'Binding util',\n",
      "        'NativeModule internal/util',\n",
      "        'Binding constants',\n",
      "        'Internal Binding types',\n",
      "        'NativeModule internal/util/types',\n",
      "        'NativeModule internal/validators',\n",
      "        'NativeModule internal/encoding',\n",
      "        'Internal Binding icu',\n",
      "        'NativeModule buffer',\n",
      "        'NativeModule internal/buffer',\n",
      "        'NativeModule internal/process/per_thread',\n",
      "        'NativeModule internal/process/main_thread_only',\n",
      "        'NativeModule internal/process/stdio',\n",
      "        'NativeModule assert',\n",
      "        'NativeModule internal/assert',\n",
      "        'NativeModule fs',\n",
      "        'NativeModule path',\n",
      "        'NativeModule internal/constants',\n",
      "        'Binding fs',\n",
      "        'NativeModule internal/fs/streams',\n",
      "        'NativeModule internal/fs/utils',\n",
      "        'NativeModule stream',\n",
      "        'NativeModule internal/streams/pipeline',\n",
      "        'NativeModule internal/streams/end-of-stream',\n",
      "        'NativeModule internal/streams/legacy',\n",
      "        'NativeModule _stream_readable',\n",
      "        'NativeModule internal/streams/buffer_list',\n",
      "        'NativeModule internal/streams/destroy',\n",
      "        'NativeModule internal/streams/state',\n",
      "        'NativeModule _stream_writable',\n",
      "        'NativeModule _stream_duplex',\n",
      "        'NativeModule _stream_transform',\n",
      "        'NativeModule _stream_passthrough',\n",
      "        'NativeModule internal/url',\n",
      "        'NativeModule internal/querystring',\n",
      "        'Binding url',\n",
      "        'NativeModule internal/process/warning',\n",
      "        'NativeModule internal/process/next_tick',\n",
      "        'NativeModule internal/process/promises',\n",
      "        'Internal Binding util',\n",
      "        'NativeModule internal/fixed_queue',\n",
      "        'Binding performance',\n",
      "        'Binding trace_events',\n",
      "        'NativeModule internal/inspector_async_hook',\n",
      "        'Binding inspector',\n",
      "        'NativeModule internal/options',\n",
      "        'Internal Binding options',\n",
      "        'NativeModule child_process',\n",
      "        'Binding pipe_wrap',\n",
      "        'Internal Binding pipe_wrap',\n",
      "        'NativeModule internal/child_process',\n",
      "        'NativeModule net',\n",
      "        'NativeModule internal/net',\n",
      "        'Binding tty_wrap',\n",
      "        'Binding stream_wrap',\n",
      "        'Binding tcp_wrap',\n",
      "        'NativeModule internal/stream_base_commons',\n",
      "        'Internal Binding stream_wrap',\n",
      "        'Internal Binding uv',\n",
      "        'NativeModule internal/timers',\n",
      "        'NativeModule dgram',\n",
      "        'NativeModule internal/dgram',\n",
      "        'Binding udp_wrap',\n",
      "        'Internal Binding udp_wrap',\n",
      "        'Binding process_wrap',\n",
      "        'Internal Binding process_wrap',\n",
      "        'Internal Binding tcp_wrap',\n",
      "        'Internal Binding tty_wrap',\n",
      "        'NativeModule internal/socket_list',\n",
      "        'Binding spawn_sync',\n",
      "        'Internal Binding spawn_sync',\n",
      "        'NativeModule string_decoder',\n",
      "        'Internal Binding string_decoder',\n",
      "        'NativeModule timers',\n",
      "        'Binding timer_wrap',\n",
      "        'NativeModule internal/linkedlist',\n",
      "        'NativeModule console',\n",
      "        'NativeModule internal/fs/sync_write_stream',\n",
      "        'NativeModule internal/modules/cjs/loader',\n",
      "        'NativeModule vm',\n",
      "        'NativeModule internal/modules/cjs/helpers',\n",
      "        'NativeModule url',\n",
      "        'NativeModule internal/safe_globals',\n",
      "        'Internal Binding contextify' ],\n",
      "     binding: [Function: binding],\n",
      "     _linkedBinding: [Function: _linkedBinding],\n",
      "     _events:\n",
      "      [Object: null prototype] {\n",
      "        newListener: [Array],\n",
      "        removeListener: [Array],\n",
      "        warning: [Function],\n",
      "        internalMessage: [Function],\n",
      "        message: [Function: bound onMessage],\n",
      "        uncaughtException: [Function: bound onUncaughtException] },\n",
      "     _eventsCount: 6,\n",
      "     _maxListeners: undefined,\n",
      "     _fatalException: [Function],\n",
      "     domain: null,\n",
      "     _exiting: false,\n",
      "     assert: [Function: deprecated],\n",
      "     config: { target_defaults: [Object], variables: [Object] },\n",
      "     setUncaughtExceptionCaptureCallback: [Function],\n",
      "     hasUncaughtExceptionCaptureCallback: [Function],\n",
      "     emitWarning: [Function],\n",
      "     nextTick: [Function: nextTick],\n",
      "     _tickCallback: [Function: _tickCallback],\n",
      "     stdin: [Getter],\n",
      "     openStdin: [Function],\n",
      "     initgroups: [Function: initgroups],\n",
      "     setegid: [Function: setegid],\n",
      "     seteuid: [Function: seteuid],\n",
      "     setgid: [Function: setgid],\n",
      "     setuid: [Function: setuid],\n",
      "     setgroups: [Function: setgroups],\n",
      "     hrtime: { [Function: hrtime] bigint: [Function] },\n",
      "     cpuUsage: [Function: cpuUsage],\n",
      "     memoryUsage: [Function: memoryUsage],\n",
      "     exit: [Function],\n",
      "     kill: [Function],\n",
      "     channel:\n",
      "      Pipe {\n",
      "        buffering: false,\n",
      "        pendingHandle: null,\n",
      "        onread: [Function],\n",
      "        sockets: [Object] },\n",
      "     _channel: [Getter/Setter],\n",
      "     _handleQueue: null,\n",
      "     _pendingMessage: null,\n",
      "     send: [Function],\n",
      "     _send: [Function],\n",
      "     connected: true,\n",
      "     disconnect: [Function],\n",
      "     _disconnect: [Function],\n",
      "     argv0: '/usr/bin/node',\n",
      "     allowedNodeEnvironmentFlags: [Getter/Setter],\n",
      "     stdout:\n",
      "      Transform {\n",
      "        _readableState: [ReadableState],\n",
      "        readable: true,\n",
      "        _events: [Object],\n",
      "        _eventsCount: 3,\n",
      "        _maxListeners: undefined,\n",
      "        _writableState: [WritableState],\n",
      "        writable: true,\n",
      "        allowHalfOpen: true,\n",
      "        _transformState: [Object],\n",
      "        _contextId: 6 },\n",
      "     stderr:\n",
      "      Transform {\n",
      "        _readableState: [ReadableState],\n",
      "        readable: true,\n",
      "        _events: [Object],\n",
      "        _eventsCount: 3,\n",
      "        _maxListeners: undefined,\n",
      "        _writableState: [WritableState],\n",
      "        writable: true,\n",
      "        allowHalfOpen: true,\n",
      "        _transformState: [Object],\n",
      "        _contextId: 6 } },\n",
      "  Buffer:\n",
      "   { [Function: Buffer]\n",
      "     poolSize: 8192,\n",
      "     from: [Function: from],\n",
      "     of: [Function: of],\n",
      "     alloc: [Function: alloc],\n",
      "     allocUnsafe: [Function: allocUnsafe],\n",
      "     allocUnsafeSlow: [Function: allocUnsafeSlow],\n",
      "     isBuffer: [Function: isBuffer],\n",
      "     compare: [Function: compare],\n",
      "     isEncoding: [Function: isEncoding],\n",
      "     concat: [Function: concat],\n",
      "     byteLength: [Function: byteLength],\n",
      "     [Symbol(kIsEncodingSymbol)]: [Function: isEncoding] },\n",
      "  clearImmediate: [Function: clearImmediate],\n",
      "  clearInterval: [Function: clearInterval],\n",
      "  clearTimeout: [Function: clearTimeout],\n",
      "  setImmediate:\n",
      "   { [Function: setImmediate] [Symbol(util.promisify.custom)]: [Function] },\n",
      "  setInterval: [Function: setInterval],\n",
      "  setTimeout:\n",
      "   { [Function: setTimeout] [Symbol(util.promisify.custom)]: [Function] },\n",
      "  __filename: '[eval]',\n",
      "  exports: {},\n",
      "  module:\n",
      "   Module {\n",
      "     id: '[eval]',\n",
      "     exports: {},\n",
      "     parent: undefined,\n",
      "     filename: '/home/jack/Desktop/Code-Notes/javascript/[eval]',\n",
      "     loaded: false,\n",
      "     children: [],\n",
      "     paths:\n",
      "      [ '/home/jack/Desktop/Code-Notes/javascript/node_modules',\n",
      "        '/home/jack/Desktop/Code-Notes/node_modules',\n",
      "        '/home/jack/Desktop/node_modules',\n",
      "        '/home/jack/node_modules',\n",
      "        '/home/node_modules',\n",
      "        '/node_modules' ] },\n",
      "  __dirname: '.',\n",
      "  require:\n",
      "   { [Function: require]\n",
      "     resolve: { [Function: resolve] paths: [Function: paths] },\n",
      "     main: undefined,\n",
      "     extensions:\n",
      "      [Object: null prototype] { '.js': [Function], '.json': [Function], '.node': [Function] },\n",
      "     cache: [Object: null prototype] {} },\n",
      "  '$$mimer$$': [Function: defaultMimer],\n",
      "  '$$done$$': [Function: bound bound done],\n",
      "  person: { name: 'John', age: 21, greet: [Function: greet] },\n",
      "  add: [Function: add],\n",
      "  substract: [Function: substract],\n",
      "  console:\n",
      "   Console {\n",
      "     log: [Function: bound log],\n",
      "     debug: [Function: bound log],\n",
      "     info: [Function: bound log],\n",
      "     dirxml: [Function: bound log],\n",
      "     warn: [Function: bound warn],\n",
      "     error: [Function: bound warn],\n",
      "     dir: [Function: bound dir],\n",
      "     time: [Function: bound time],\n",
      "     timeEnd: [Function: bound timeEnd],\n",
      "     timeLog: [Function: bound timeLog],\n",
      "     trace: [Function: bound trace],\n",
      "     assert: [Function: bound assert],\n",
      "     clear: [Function: bound clear],\n",
      "     count: [Function: bound count],\n",
      "     countReset: [Function: bound countReset],\n",
      "     group: [Function: bound group],\n",
      "     groupCollapsed: [Function: bound group],\n",
      "     groupEnd: [Function: bound groupEnd],\n",
      "     table: [Function: bound ],\n",
      "     Console: [Function: Console],\n",
      "     [Symbol(counts)]: Map {},\n",
      "     [Symbol(kColorMode)]: 'auto' },\n",
      "  '$$':\n",
      "   [Object: null prototype] {\n",
      "     async: [Function: bound async],\n",
      "     done: [Function: bound done],\n",
      "     sendResult: [Function: bound ],\n",
      "     sendError: [Function: bound ],\n",
      "     mime: [Function: bound ],\n",
      "     text: [Function: bound ],\n",
      "     html: [Function: bound ],\n",
      "     svg: [Function: bound ],\n",
      "     png: [Function: bound ],\n",
      "     jpeg: [Function: bound ],\n",
      "     json: [Function: bound ],\n",
      "     input: [Function: bound input],\n",
      "     display: [Function: bound createDisplay],\n",
      "     clear: [Function: bound clear] } }\n"
     ]
    }
   ],
   "source": [
    "function add() {}\n",
    "add();\n",
    "\n",
    "var substract = function() {\n",
    "    console.log(this);\n",
    "};\n",
    "substract();"
   ]
  },
  {
   "attachments": {},
   "cell_type": "markdown",
   "id": "d016ddde",
   "metadata": {},
   "source": [
    "#### 2. 作为方法调用\n",
    "\n",
    "方法作为对象属性的函数。对于方法来说，this被绑定在方法被调用时的对象上。"
   ]
  },
  {
   "cell_type": "code",
   "execution_count": 1,
   "id": "dc2a7679",
   "metadata": {},
   "outputs": [
    {
     "name": "stdout",
     "output_type": "stream",
     "text": [
      "John\n"
     ]
    }
   ],
   "source": [
    "var person = {\n",
    "    name: \"John\",\n",
    "    age: 21,\n",
    "    greet: function () {\n",
    "        console.log(this.name);\n",
    "    }\n",
    "};\n",
    "person.greet();"
   ]
  },
  {
   "attachments": {},
   "cell_type": "markdown",
   "id": "1c739dbc",
   "metadata": {},
   "source": [
    "#### 3. 作为构造函数调用\n",
    "\n",
    "构造函数的声明和其他函数一样，但调用时前面要加上`new`关键字。这样的话，this就被绑定到新创建的对象上了。"
   ]
  },
  {
   "cell_type": "code",
   "execution_count": 6,
   "id": "39895699",
   "metadata": {},
   "outputs": [
    {
     "name": "stdout",
     "output_type": "stream",
     "text": [
      "Albert Einstein\n"
     ]
    }
   ],
   "source": [
    "var Person = function (name) {\n",
    "    this.name = name;\n",
    "};\n",
    "Person.prototype.greet = function () {\n",
    "    return this.name;\n",
    "};\n",
    "var albert = new Person('Albert Einstein');\n",
    "console.log(albert.greet());"
   ]
  },
  {
   "attachments": {},
   "cell_type": "markdown",
   "id": "35c26dcb",
   "metadata": {},
   "source": [
    "#### 4. 通过apply()和call()方法调用\n",
    "\n",
    "JavaScript中函数也是对象，也具备自己的方法，要想使用apply()方法调用函数，需要传入两个参数: 作为函数上下文的对象 和 作为调用参数的数组;call()方法类似，不过参数不以数组形式传入，而是直接写成参数列表的形式。"
   ]
  },
  {
   "attachments": {},
   "cell_type": "markdown",
   "id": "05bb11ab",
   "metadata": {},
   "source": [
    "### 匿名函数"
   ]
  },
  {
   "attachments": {},
   "cell_type": "markdown",
   "id": "44ae8064",
   "metadata": {},
   "source": [
    "#### 1. 对象创建过程中的匿名函数"
   ]
  },
  {
   "cell_type": "code",
   "execution_count": 7,
   "id": "bb786992",
   "metadata": {},
   "outputs": [
    {
     "name": "stdout",
     "output_type": "stream",
     "text": [
      "homo\n"
     ]
    }
   ],
   "source": [
    "var santa = {\n",
    "    say: function () {\n",
    "        console.log(\"homo\");\n",
    "    }\n",
    "}\n",
    "santa.say();"
   ]
  },
  {
   "attachments": {},
   "cell_type": "markdown",
   "id": "f4d1b72e",
   "metadata": {},
   "source": [
    "#### 2. 列表创建过程中的匿名函数"
   ]
  },
  {
   "cell_type": "code",
   "execution_count": 9,
   "id": "b89aa9b1",
   "metadata": {},
   "outputs": [
    {
     "name": "stdout",
     "output_type": "stream",
     "text": [
      "ThingsOne\n",
      "ThingsTwo\n"
     ]
    }
   ],
   "source": [
    "var things = [\n",
    "    function () { console.log(\"ThingsOne\"); },\n",
    "    function () { console.log(\"ThingsTwo\"); },\n",
    "];\n",
    "\n",
    "for (var x=0; x<things.length; x++) {\n",
    "    things[x]();\n",
    "}"
   ]
  },
  {
   "attachments": {},
   "cell_type": "markdown",
   "id": "56c0301b",
   "metadata": {},
   "source": [
    "#### 3. 作为函数参数的匿名函数"
   ]
  },
  {
   "cell_type": "code",
   "execution_count": 10,
   "id": "338fd990",
   "metadata": {},
   "outputs": [
    {
     "name": "stdout",
     "output_type": "stream",
     "text": [
      "Event fired\n"
     ]
    }
   ],
   "source": [
    "function eventHandler(event) {\n",
    "    event();\n",
    "}\n",
    "\n",
    "eventHandler(function() {\n",
    "    console.log(\"Event fired\");\n",
    "});"
   ]
  },
  {
   "attachments": {},
   "cell_type": "markdown",
   "id": "02cfe1c9",
   "metadata": {},
   "source": [
    "#### 4. 出现在条件逻辑中的匿名函数"
   ]
  },
  {
   "cell_type": "code",
   "execution_count": 30,
   "id": "f54bf4b5",
   "metadata": {},
   "outputs": [
    {
     "name": "stdout",
     "output_type": "stream",
     "text": [
      "drawing twice\n"
     ]
    }
   ],
   "source": [
    "var shape;\n",
    "\n",
    "if(shape_name === \"SQUARE\") {\n",
    "    shape = function() {\n",
    "        return \"drawing square\";\n",
    "    }\n",
    "} else {\n",
    "    shape = function() {\n",
    "        return \"drawing twice\";\n",
    "    }\n",
    "}\n",
    "\n",
    "console.log(shape());"
   ]
  },
  {
   "attachments": {},
   "cell_type": "markdown",
   "id": "6abf1fca",
   "metadata": {},
   "source": [
    "### 闭包\n",
    "\n",
    "闭包是函数声明时创建的作用域，它使得函数能够访问并处理函数的外部变量。换句话说，闭包可以让函数访问到在函数声明时处于作用域内的所有变量以及其他函数。"
   ]
  },
  {
   "attachments": {},
   "cell_type": "markdown",
   "id": "e3c7b906",
   "metadata": {},
   "source": [
    "#### 1. 普通用法"
   ]
  },
  {
   "cell_type": "code",
   "execution_count": null,
   "id": "113ea1f4",
   "metadata": {},
   "outputs": [],
   "source": [
    "var outer = 'I am outer';\n",
    "\n",
    "function outerFn() {\n",
    "    console.log(outer);\n",
    "}\n",
    "\n",
    "outerFn();"
   ]
  },
  {
   "cell_type": "code",
   "execution_count": 33,
   "id": "88f07a27",
   "metadata": {},
   "outputs": [
    {
     "name": "stdout",
     "output_type": "stream",
     "text": [
      "Outer2\n",
      "Inner\n"
     ]
    }
   ],
   "source": [
    "var outer = \"Outer\";\n",
    "var copy;\n",
    "\n",
    "function outerFn() {\n",
    "    var inner = \"Inner\";\n",
    "    function innerFn() {\n",
    "        console.log(outer);\n",
    "        console.log(inner);\n",
    "    }\n",
    "    copy = innerFn;\n",
    "}\n",
    "outerFn();\n",
    "var outer = \"Outer2\";\n",
    "copy();"
   ]
  },
  {
   "attachments": {},
   "cell_type": "markdown",
   "id": "d435a386",
   "metadata": {},
   "source": [
    "尽管声明innerFn函数的函数作用域已经不存在，但它仍然可以通过闭包访问到当初声明时所在的作用域。"
   ]
  },
  {
   "attachments": {},
   "cell_type": "markdown",
   "id": "974aacc0",
   "metadata": {},
   "source": [
    "#### 2. 计时器和回调函数"
   ]
  },
  {
   "cell_type": "code",
   "execution_count": 34,
   "id": "82c59b75",
   "metadata": {},
   "outputs": [
    {
     "name": "stdout",
     "output_type": "stream",
     "text": [
      "Hello, world!\n"
     ]
    }
   ],
   "source": [
    "function delay(message) {\n",
    "    setTimeout(function timeFn() {\n",
    "        console.log(message);\n",
    "    }, 1000);\n",
    "}\n",
    "delay(\"Hello, world!\");"
   ]
  },
  {
   "attachments": {},
   "cell_type": "markdown",
   "id": "6c128b32",
   "metadata": {},
   "source": [
    "#### 3. 私有变量\n",
    "\n",
    "闭包常用来将信息封装成私有变量的形式。"
   ]
  },
  {
   "cell_type": "code",
   "execution_count": 36,
   "id": "e997e0bf",
   "metadata": {},
   "outputs": [
    {
     "name": "stdout",
     "output_type": "stream",
     "text": [
      "undefined\n",
      "1\n"
     ]
    }
   ],
   "source": [
    "function privateTest() {\n",
    "    var points = 0;\n",
    "    this.getPoints = function() {\n",
    "        return points;\n",
    "    };\n",
    "    this.score = function() {\n",
    "        points++;\n",
    "    };\n",
    "}\n",
    "var private = new privateTest();\n",
    "console.log(private.points);\n",
    "private.score();\n",
    "console.log(private.getPoints());"
   ]
  },
  {
   "attachments": {},
   "cell_type": "markdown",
   "id": "bd216c97",
   "metadata": {},
   "source": [
    "通过创建函数作用域内的局部变量，并创建getter和setter函数，我们可以以一种受控的方式更新访问私有变量的效果。"
   ]
  },
  {
   "attachments": {},
   "cell_type": "markdown",
   "id": "8859b45a",
   "metadata": {},
   "source": [
    "#### 4. 循环和闭包"
   ]
  },
  {
   "cell_type": "code",
   "execution_count": 39,
   "id": "88a52d71",
   "metadata": {},
   "outputs": [
    {
     "data": {
      "text/plain": [
       "Timeout {\n",
       "  _called: false,\n",
       "  _idleTimeout: 500,\n",
       "  _idlePrev: [TimersList],\n",
       "  _idleNext: [TimersList],\n",
       "  _idleStart: 3270041,\n",
       "  _onTimeout: [Function: delay],\n",
       "  _timerArgs: undefined,\n",
       "  _repeat: null,\n",
       "  _destroyed: false,\n",
       "  [Symbol(unrefed)]: false,\n",
       "  [Symbol(asyncId)]: 279,\n",
       "  [Symbol(triggerId)]: 268 }"
      ]
     },
     "execution_count": 39,
     "metadata": {},
     "output_type": "execute_result"
    },
    {
     "name": "stdout",
     "output_type": "stream",
     "text": [
      "6\n",
      "6\n",
      "6\n",
      "6\n",
      "6\n"
     ]
    }
   ],
   "source": [
    "for(var i=1; i<=5; i++) {\n",
    "    setTimeout( function delay() {\n",
    "        console.log(i);\n",
    "    }, i*100);\n",
    "}"
   ]
  },
  {
   "attachments": {},
   "cell_type": "markdown",
   "id": "59425d8d",
   "metadata": {},
   "source": [
    "每个函数访问的闭包中变量的值为最近一次更新的值,可以通过函数作用域来解决这个问题。"
   ]
  },
  {
   "cell_type": "code",
   "execution_count": 41,
   "id": "b766927a",
   "metadata": {},
   "outputs": [
    {
     "name": "stdout",
     "output_type": "stream",
     "text": [
      "1\n",
      "2\n",
      "3\n",
      "4\n",
      "5\n"
     ]
    }
   ],
   "source": [
    "for(var i=1; i<=5; i++) {\n",
    "    (function(j) {\n",
    "        setTimeout( function delay() {\n",
    "            console.log(j);\n",
    "        }, j*100);   \n",
    "    })(i);\n",
    "}"
   ]
  },
  {
   "attachments": {},
   "cell_type": "markdown",
   "id": "17c555de",
   "metadata": {},
   "source": [
    "#### 5. 模块\n",
    "\n",
    "模块可用于模拟类，强调的是对变量和函数的公共和私有访问。模块有助于减少全局作用域的污染。\n",
    "\n",
    "```javascript\n",
    "var moduleName = function() {\n",
    "    // 私有状态\n",
    "    // 私有函数\n",
    "    return {\n",
    "        // 公共状态\n",
    "        // 公共函数\n",
    "    }\n",
    "}\n",
    "```\n",
    "要实现以上模式需要实现两点:\n",
    "- 必须有一个外围函数，至少需要执行一次\n",
    "- 外围函数必须返回至少一个内部函数，这需要创建一个涵盖了私有状态的闭包，否则无法访问私有状态"
   ]
  },
  {
   "cell_type": "code",
   "execution_count": 44,
   "id": "0bcfdeee",
   "metadata": {},
   "outputs": [
    {
     "name": "stdout",
     "output_type": "stream",
     "text": [
      "supersecretkey\n",
      "nuke\n"
     ]
    }
   ],
   "source": [
    "var superModule = (function() {\n",
    "    var secret = \"supersecretkey\";\n",
    "    var passcode = \"nuke\";\n",
    "    function getSecret() {\n",
    "        console.log(secret);\n",
    "    }\n",
    "    function getPassCode() {\n",
    "        console.log(passcode);\n",
    "    }\n",
    "\n",
    "    return {\n",
    "        getSecret: getSecret,\n",
    "        getPassCode: getPassCode\n",
    "    };\n",
    "})();\n",
    "superModule.getSecret();\n",
    "superModule.getPassCode();"
   ]
  },
  {
   "attachments": {},
   "cell_type": "markdown",
   "id": "31b4bf46",
   "metadata": {},
   "source": [
    "### 编码风格\n",
    "\n",
    "1. 使用函数声明，不使用函数表达式\n",
    "2. 绝不在非函数块中声明函数\n",
    "3. 不要给函数参数起arguments的名字"
   ]
  }
 ],
 "metadata": {
  "kernelspec": {
   "display_name": "JavaScript (Node.js)",
   "language": "javascript",
   "name": "javascript"
  },
  "language_info": {
   "file_extension": ".js",
   "mimetype": "application/javascript",
   "name": "javascript",
   "version": "10.19.0"
  }
 },
 "nbformat": 4,
 "nbformat_minor": 5
}
